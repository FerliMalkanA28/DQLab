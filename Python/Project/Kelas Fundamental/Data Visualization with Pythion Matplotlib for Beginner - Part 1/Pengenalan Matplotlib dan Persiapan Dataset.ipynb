{
  "nbformat": 4,
  "nbformat_minor": 0,
  "metadata": {
    "colab": {
      "provenance": []
    },
    "kernelspec": {
      "name": "python3",
      "display_name": "Python 3"
    },
    "language_info": {
      "name": "python"
    }
  },
  "cells": [
    {
      "cell_type": "markdown",
      "source": [
        "# **Pengenalan Matplotlib dan Persiapan Dataset**\n"
      ],
      "metadata": {
        "id": "rJ4DJG1Yg8ZH"
      }
    },
    {
      "cell_type": "markdown",
      "source": [
        "Pada bagian ini akan dibahas pengenalan matplotlib dan persiapan dataset."
      ],
      "metadata": {
        "id": "ul5e3QQ5hEGQ"
      }
    },
    {
      "cell_type": "markdown",
      "source": [
        "# **Pengenalan Dataset**\n"
      ],
      "metadata": {
        "id": "1YZBfOwxbFKF"
      }
    },
    {
      "cell_type": "code",
      "source": [
        "import pandas as pd\n",
        "dataset = pd.read_csv(\"https://storage.googleapis.com/dqlab-dataset/retail_raw_reduced.csv\")\n",
        "print(\"Ukuran dataset: %d baris dan %d kolom\\n\" % dataset.shape)\n",
        "print(\"Lima data teratas:\")\n",
        "print(dataset.head())"
      ],
      "metadata": {
        "colab": {
          "base_uri": "https://localhost:8080/"
        },
        "id": "e-3ocCdvbGUA",
        "outputId": "87f83592-2534-4b7d-ee73-dcd3bb1b6906"
      },
      "execution_count": 1,
      "outputs": [
        {
          "output_type": "stream",
          "name": "stdout",
          "text": [
            "Ukuran dataset: 5000 baris dan 9 kolom\n",
            "\n",
            "Lima data teratas:\n",
            "   order_id  order_date  customer_id             city     province product_id  \\\n",
            "0   1703458  2019-10-17        14004  Jakarta Selatan  DKI Jakarta      P1910   \n",
            "1   1706815  2019-10-24        17220  Jakarta Selatan  DKI Jakarta      P2934   \n",
            "2   1710718  2019-11-03        16518    Jakarta Utara  DKI Jakarta      P0908   \n",
            "3   1683592  2019-08-19        16364    Jakarta Barat  DKI Jakarta      P0128   \n",
            "4   1702573  2019-10-16        15696    Jakarta Timur  DKI Jakarta      P2968   \n",
            "\n",
            "     brand  quantity  item_price  \n",
            "0  BRAND_J        10      740000  \n",
            "1  BRAND_R         2      604000  \n",
            "2  BRAND_C         8     1045000  \n",
            "3  BRAND_A         4      205000  \n",
            "4  BRAND_R         2     4475000  \n"
          ]
        }
      ]
    },
    {
      "cell_type": "markdown",
      "source": [
        "# **Penambahan Kolom Order Month pada Dataset**\n"
      ],
      "metadata": {
        "id": "yXg-ufcubPuo"
      }
    },
    {
      "cell_type": "code",
      "source": [
        "import pandas as pd\n",
        "import datetime\n",
        "\n",
        "dataset = pd.read_csv('https://storage.googleapis.com/dqlab-dataset/retail_raw_reduced.csv')\n",
        "\n",
        "dataset['order_month'] = dataset['order_date'].apply(lambda x: datetime.datetime.strptime(x, \"%Y-%m-%d\").strftime('%Y-%m'))\n",
        "print(dataset.head())"
      ],
      "metadata": {
        "colab": {
          "base_uri": "https://localhost:8080/"
        },
        "id": "qR1H82T5bjde",
        "outputId": "d906d37f-d15f-4088-8ab2-870df21a03b6"
      },
      "execution_count": 2,
      "outputs": [
        {
          "output_type": "stream",
          "name": "stdout",
          "text": [
            "   order_id  order_date  customer_id             city     province product_id  \\\n",
            "0   1703458  2019-10-17        14004  Jakarta Selatan  DKI Jakarta      P1910   \n",
            "1   1706815  2019-10-24        17220  Jakarta Selatan  DKI Jakarta      P2934   \n",
            "2   1710718  2019-11-03        16518    Jakarta Utara  DKI Jakarta      P0908   \n",
            "3   1683592  2019-08-19        16364    Jakarta Barat  DKI Jakarta      P0128   \n",
            "4   1702573  2019-10-16        15696    Jakarta Timur  DKI Jakarta      P2968   \n",
            "\n",
            "     brand  quantity  item_price order_month  \n",
            "0  BRAND_J        10      740000     2019-10  \n",
            "1  BRAND_R         2      604000     2019-10  \n",
            "2  BRAND_C         8     1045000     2019-11  \n",
            "3  BRAND_A         4      205000     2019-08  \n",
            "4  BRAND_R         2     4475000     2019-10  \n"
          ]
        }
      ]
    },
    {
      "cell_type": "markdown",
      "source": [
        "# **Penambahan Kolom GMV pada Dataset**\n"
      ],
      "metadata": {
        "id": "DV7b4t0IcHOv"
      }
    },
    {
      "cell_type": "code",
      "source": [
        "import pandas as pd\n",
        "import datetime\n",
        "\n",
        "dataset = pd.read_csv('https://storage.googleapis.com/dqlab-dataset/retail_raw_reduced.csv')\n",
        "dataset['order_month'] = dataset['order_date'].apply(lambda x: datetime.datetime.strptime(x, \"%Y-%m-%d\").strftime('%Y-%m'))\n",
        "\n",
        "dataset['gmv'] = dataset['item_price']*dataset['quantity']\n",
        "print('Ukuran dataset: %d baris dan %d kolom\\n' % dataset.shape)\n",
        "print('Lima data teratas:')\n",
        "print(dataset.head())"
      ],
      "metadata": {
        "colab": {
          "base_uri": "https://localhost:8080/"
        },
        "id": "skbcWoPQcJ2l",
        "outputId": "13433afd-f02b-4d20-c3f2-2bb22b1092ba"
      },
      "execution_count": 3,
      "outputs": [
        {
          "output_type": "stream",
          "name": "stdout",
          "text": [
            "Ukuran dataset: 5000 baris dan 11 kolom\n",
            "\n",
            "Lima data teratas:\n",
            "   order_id  order_date  customer_id             city     province product_id  \\\n",
            "0   1703458  2019-10-17        14004  Jakarta Selatan  DKI Jakarta      P1910   \n",
            "1   1706815  2019-10-24        17220  Jakarta Selatan  DKI Jakarta      P2934   \n",
            "2   1710718  2019-11-03        16518    Jakarta Utara  DKI Jakarta      P0908   \n",
            "3   1683592  2019-08-19        16364    Jakarta Barat  DKI Jakarta      P0128   \n",
            "4   1702573  2019-10-16        15696    Jakarta Timur  DKI Jakarta      P2968   \n",
            "\n",
            "     brand  quantity  item_price order_month      gmv  \n",
            "0  BRAND_J        10      740000     2019-10  7400000  \n",
            "1  BRAND_R         2      604000     2019-10  1208000  \n",
            "2  BRAND_C         8     1045000     2019-11  8360000  \n",
            "3  BRAND_A         4      205000     2019-08   820000  \n",
            "4  BRAND_R         2     4475000     2019-10  8950000  \n"
          ]
        }
      ]
    }
  ]
}