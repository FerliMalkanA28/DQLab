{
  "nbformat": 4,
  "nbformat_minor": 0,
  "metadata": {
    "colab": {
      "provenance": []
    },
    "kernelspec": {
      "name": "ir",
      "display_name": "R"
    },
    "language_info": {
      "name": "R"
    }
  },
  "cells": [
    {
      "cell_type": "markdown",
      "source": [
        "# **Classes & Objects**\n"
      ],
      "metadata": {
        "id": "YnRUxKm1Ayw7"
      }
    },
    {
      "cell_type": "markdown",
      "source": [
        "Kamu akan mempelajari class dan object dalam pemograman OOP dengan Python, dan Perilaku (behavior) dari class."
      ],
      "metadata": {
        "id": "gn3OCNDTA2ee"
      }
    },
    {
      "cell_type": "markdown",
      "source": [
        "# **Class dan Objek dalam Python - Part 3**\n"
      ],
      "metadata": {
        "id": "oVr5gI3MA74L"
      }
    },
    {
      "cell_type": "code",
      "source": [
        "# Definisikan class Karyawan\n",
        "class Karyawan:\n",
        "    nama_perusahaan = \"ABC\"\n",
        "# Inisiasi object yang dinyatakan dalam variabel aksara dan senja\n",
        "aksara = Karyawan()\n",
        "senja = Karyawan()\n",
        "# Cetak nama perusahaan melalui penggunaan keyword __class__\n",
        "# pada class attribute nama_perusahaan\n",
        "print(aksara.__class__.nama_perusahaan)\n",
        "# Ubah nama_perusahaan menjadi 'DEF'\n",
        "aksara.__class__.nama_perusahaan = \"DEF\"\n",
        "# Cetak nama_perusahaan objek aksara dan senja\n",
        "print(aksara.__class__.nama_perusahaan)\n",
        "print(senja.__class__.nama_perusahaan)"
      ],
      "metadata": {
        "id": "thO0t4B0BANe"
      },
      "execution_count": null,
      "outputs": []
    },
    {
      "cell_type": "markdown",
      "source": [
        "# **Class dan Objek dalam Python - Part 4**\n"
      ],
      "metadata": {
        "id": "B59-lcJkBDC4"
      }
    },
    {
      "cell_type": "code",
      "source": [
        "# Definisikan class Karyawan\n",
        "class Karyawan:\n",
        "    nama_perusahaan = 'ABC'\n",
        "    def __init__(self, nama, usia, pendapatan):\n",
        "        self.nama = nama\n",
        "        self.usia = usia\n",
        "        self.pendapatan = pendapatan\n",
        "# Buat object bernama aksara dan senja\n",
        "aksara = Karyawan('Aksara', 25, 8500000)\n",
        "senja = Karyawan('Senja', 28, 12500000)\n",
        "# Cetak objek bernama aksara\n",
        "print(aksara.nama + ', Usia: ' + str(aksara.usia) + ', Pendapatan ' + str(aksara.pendapatan))\n",
        "# Cetak objek bernama senja\n",
        "print(senja.nama + ', Usia: ' + str(senja.usia) + ', Pendapatan ' + str(senja.pendapatan))"
      ],
      "metadata": {
        "id": "xpWvKiCpBJSV"
      },
      "execution_count": null,
      "outputs": []
    },
    {
      "cell_type": "markdown",
      "source": [
        "# **Behavior pada Class**\n"
      ],
      "metadata": {
        "id": "KAvWI6tMBLKS"
      }
    },
    {
      "cell_type": "code",
      "source": [
        "# Definisikan class Karyawan berikut dengan attribut dan fungsinya\n",
        "class Karyawan:\n",
        "    nama_perusahaan = 'ABC'\n",
        "    insentif_lembur = 250000\n",
        "    def __init__(self, nama, usia, pendapatan):\n",
        "        self.nama = nama\n",
        "        self.usia = usia\n",
        "        self.pendapatan = pendapatan\n",
        "        self.pendapatan_tambahan = 0\n",
        "    def lembur(self):\n",
        "        self.pendapatan_tambahan += self.insentif_lembur\n",
        "    def tambahan_proyek(self, insentif_proyek):\n",
        "    \tself.pendapatan_tambahan += insentif_proyek\n",
        "    def total_pendapatan(self):\n",
        "    \treturn self.pendapatan + self.pendapatan_tambahan\n",
        "# Buat object dari karwayan bernama Aksara dan Senja\n",
        "aksara = Karyawan('Aksara', 25, 8500000)\n",
        "senja = Karyawan('Senja', 28, 12500000)\n",
        "# Aksara melaksanakan lembur\n",
        "aksara.lembur()\n",
        "# Senja memiliki proyek tambahan\n",
        "senja.tambahan_proyek(2500000)\n",
        "# Cetak pendapatan total Aksara dan Senja\n",
        "print('Pendapatan Total Aksara: ' + str(aksara.total_pendapatan()))\n",
        "print('Pendapatan Total Senja: ' +str(senja.total_pendapatan()))"
      ],
      "metadata": {
        "id": "So4GYWqpBQ-r"
      },
      "execution_count": null,
      "outputs": []
    },
    {
      "cell_type": "markdown",
      "source": [
        "# **Tugas Praktek**\n"
      ],
      "metadata": {
        "id": "-qVSKFyWBSqb"
      }
    },
    {
      "cell_type": "code",
      "source": [
        "# Definisikan class Karyawan\n",
        "class Karyawan:\n",
        "    def __init__(self, nama, usia, pendapatan, insentif_lembur): \n",
        "        self.nama = nama\n",
        "        self.usia = usia\n",
        "        self.pendapatan = pendapatan \n",
        "        self.pendapatan_tambahan = 0\n",
        "        self.insentif_lembur = insentif_lembur \n",
        "    def lembur(self):\n",
        "        self.pendapatan_tambahan += self.insentif_lembur \n",
        "    def tambahan_proyek(self, jumlah_tambahan):\n",
        "        self.pendapatan_tambahan += jumlah_tambahan \n",
        "    def total_pendapatan(self):\n",
        "        return self.pendapatan + self.pendapatan_tambahan\n",
        "# Definisikan class Perusahaan\n",
        "class Perusahaan:\n",
        "    def __init__(self, nama, alamat, nomor_telepon): \n",
        "        self.nama = nama\n",
        "        self.alamat = alamat \n",
        "        self.nomor_telepon = nomor_telepon\n",
        "        self.list_karyawan = []\n",
        "    def aktifkan_karyawan(self, karyawan): \n",
        "        self.list_karyawan.append(karyawan)\n",
        "    def nonaktifkan_karyawan(self, nama_karyawan): \n",
        "        karyawan_nonaktif = None\n",
        "        for karyawan in self.list_karyawan:\n",
        "            if karyawan.nama == nama_karyawan: \n",
        "                karyawan_nonaktif = karyawan \n",
        "                break\n",
        "        if karyawan_nonaktif is not None: \n",
        "            self.list_karyawan.remove(karyawan_nonaktif)"
      ],
      "metadata": {
        "id": "PF7e8xIzBXOF"
      },
      "execution_count": null,
      "outputs": []
    },
    {
      "cell_type": "markdown",
      "source": [
        "# **Tugas Praktek**\n"
      ],
      "metadata": {
        "id": "uiK-wJzREyRX"
      }
    },
    {
      "cell_type": "code",
      "source": [
        "class Karyawan:\n",
        "    def __init__(self, nama, usia, pendapatan, insentif_lembur): \n",
        "        self.nama = nama\n",
        "        self.usia = usia \n",
        "        self.pendapatan = pendapatan \n",
        "        self.pendapatan_tambahan = 0\n",
        "        self.insentif_lembur = insentif_lembur \n",
        "    def lembur(self):\n",
        "        self.pendapatan_tambahan += self.insentif_lembur \n",
        "    def tambahan_proyek(self, jumlah_tambahan):\n",
        "        self.pendapatan_tambahan += jumlah_tambahan \n",
        "    def total_pendapatan(self):\n",
        "        return self.pendapatan + self.pendapatan_tambahan \n",
        "\n",
        "class Perusahaan:\n",
        "    def __init__(self, nama, alamat, nomor_telepon): \n",
        "        self.nama = nama\n",
        "        self.alamat = alamat \n",
        "        self.nomor_telepon = nomor_telepon\n",
        "        self.list_karyawan = []\n",
        "    def aktifkan_karyawan(self, karyawan): \n",
        "        self.list_karyawan.append(karyawan)\n",
        "    def nonaktifkan_karyawan(self, nama_karyawan): \n",
        "        karyawan_nonaktif = None\n",
        "        for karyawan in self.list_karyawan:\n",
        "            if karyawan.nama == nama_karyawan: \n",
        "                karyawan_nonaktif = karyawan \n",
        "                break\n",
        "        if karyawan_nonaktif is not None: \n",
        "            self.list_karyawan.remove(karyawan_nonaktif)\n",
        "\n",
        "# Definisikan perusahaan\n",
        "perusahaan = Perusahaan(\"ABC\", \"Jl. Jendral Sudirman, Blok 11\", \"(021) 95205XX\")\n",
        "# Definisikan nama-nama karyawan\n",
        "karyawan_1 = Karyawan('Ani', 25, 8500000, 100000)\n",
        "karyawan_2 = Karyawan('Budi', 28, 12000000, 150000)\n",
        "karyawan_3 = Karyawan('Cici', 30, 15000000, 200000)\n",
        "# Aktifkan karyawan di perusahaan ABC\n",
        "perusahaan.aktifkan_karyawan(karyawan_1) \n",
        "perusahaan.aktifkan_karyawan(karyawan_2) \n",
        "perusahaan.aktifkan_karyawan(karyawan_3)"
      ],
      "metadata": {
        "id": "Hakk9g90FbRD"
      },
      "execution_count": null,
      "outputs": []
    }
  ]
}