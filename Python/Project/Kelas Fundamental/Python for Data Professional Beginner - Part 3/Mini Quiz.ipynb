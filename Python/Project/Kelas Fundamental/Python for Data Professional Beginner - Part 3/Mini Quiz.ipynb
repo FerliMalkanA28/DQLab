{
  "nbformat": 4,
  "nbformat_minor": 0,
  "metadata": {
    "colab": {
      "provenance": []
    },
    "kernelspec": {
      "name": "python3",
      "display_name": "Python 3"
    },
    "language_info": {
      "name": "python"
    }
  },
  "cells": [
    {
      "cell_type": "markdown",
      "source": [
        "# Mini Quiz\n",
        "\n",
        "Kamu akan diberikan suatu studi kasus sederhana untuk dipecahkan dengan teknik yang dipelajari pada module ini. \n",
        "\n",
        "\n"
      ],
      "metadata": {
        "id": "KYGTFlA25vuC"
      }
    },
    {
      "cell_type": "markdown",
      "source": [
        "## Studi Kasus dari Senja"
      ],
      "metadata": {
        "id": "8GDo2a5N4rvh"
      }
    },
    {
      "cell_type": "code",
      "source": [
        "# Definisikan class Karyawan sebagai parent class\n",
        "class Karyawan:\n",
        "    def __init__(self, nama, usia, pendapatan, insentif_lembur):\n",
        "        self.nama = nama\n",
        "        self.usia = usia \n",
        "        self.pendapatan = pendapatan \n",
        "        self.pendapatan_tambahan = 0\n",
        "        self.insentif_lembur = insentif_lembur \n",
        "    def lembur(self):\n",
        "        self.pendapatan_tambahan += self.insentif_lembur \n",
        "    def tambahan_proyek(self,jumlah_tambahan):\n",
        "        self.pendapatan_tambahan += jumlah_tambahan \n",
        "    def total_pendapatan(self):\n",
        "        return self.pendapatan + self.pendapatan_tambahan \n",
        "\n",
        "# Definisikan class TenagaLepas sebagai child class dari class Karyawan \n",
        "class TenagaLepas(Karyawan):\n",
        "    def __init__(self, nama, usia, pendapatan): \n",
        "        super().__init__(nama, usia, pendapatan, 0)\n",
        "    def tambahan_proyek(self, nilai_proyek): \n",
        "        self.pendapatan_tambahan += nilai_proyek * 0.01\n",
        "\n",
        "# Definisikan class AnalisData sebagai child class dari class Karyawan \n",
        "class AnalisData(Karyawan):\n",
        "    def __init__(self, nama, usia = 21, pendapatan = 6500000, \n",
        "                 insentif_lembur = 100000):\n",
        "        super().__init__(nama, usia, pendapatan, insentif_lembur) \n",
        "\n",
        "# Definisikan class IlmuwanData sebagai child class dari class Karyawan\n",
        "class IlmuwanData(Karyawan):\n",
        "    def __init__(self, nama, usia = 25, pendapatan = 12000000, \n",
        "                 insentif_lembur = 150000):\n",
        "        super().__init__(nama, usia, pendapatan,insentif_lembur) \n",
        "    def tambahan_proyek(self, nilai_proyek):\n",
        "        self.pendapatan_tambahan += 0.1 * nilai_proyek \n",
        "\n",
        "# Definisikan class PembersihData sebagai child class dari class TenagaLepas\n",
        "class PembersihData(TenagaLepas):\n",
        "    def __init__(self, nama, usia, pendapatan = 4000000): \n",
        "        super().__init__(nama, usia, pendapatan)\n",
        "\n",
        "# Definisikan class DokumenterTeknis sebagai child class dari class TenagaLepas\n",
        "class DokumenterTeknis(TenagaLepas):\n",
        "    def __init__(self, nama, usia, pendapatan = 2500000): \n",
        "        super().__init__(nama, usia, pendapatan)\n",
        "\n",
        "# Definisikan class Perusahaan \n",
        "class Perusahaan:\n",
        "    def __init__(self, nama, alamat, nomor_telepon): \n",
        "        self.nama = nama\n",
        "        self.alamat = alamat \n",
        "        self.nomor_telepon = nomor_telepon \n",
        "        self.list_karyawan = []\n",
        "    def aktifkan_karyawan(self, karyawan): \n",
        "        self.list_karyawan.append(karyawan)\n",
        "    def nonaktifkan_karyawan(self, nama_karyawan): \n",
        "        karyawan_nonaktif = None\n",
        "        for karyawan in self.list_karyawan:\n",
        "            if karyawan.nama == nama_karyawan: \n",
        "                karyawan_nonaktif = karyawan \n",
        "                break\n",
        "        if karyawan_nonaktif is not None: \n",
        "            self.list_karyawan.remove(karyawan_nonaktif)\n",
        "    def total_pengeluaran(self): \n",
        "        pengeluaran = 0\n",
        "        for karyawan in self.list_karyawan:\n",
        "            pengeluaran += karyawan.total_pendapatan() \n",
        "        return pengeluaran\n",
        "    def cari_karyawan(self, nama_karyawan): \n",
        "        for karyawan in self.list_karyawan:\n",
        "            if karyawan.nama == nama_karyawan: \n",
        "                return karyawan\n",
        "        return None\n",
        "\n",
        "# Create object karyawan sesuai dengan tugasnya masing-masing\n",
        "# seperti yang dinyatakan dalam tabel.\n",
        "ani = PembersihData('Ani', 25)\n",
        "budi = DokumenterTeknis('Budi', 18)\n",
        "cici = IlmuwanData('Cici')\n",
        "didi = IlmuwanData('Didi', 32, 20000000)\n",
        "efi = AnalisData('Efi')\n",
        "febi = AnalisData('Febi', 28, 12000000)\n",
        "\n",
        "# Create object perusahaan\n",
        "perusahaan = Perusahaan('ABC','Jl. Jendral Sudirman, Blok 11', '(021) 95812XX')\n",
        "\n",
        "# Aktifkan setiap karyawan yang telah didefinisikan\n",
        "perusahaan.aktifkan_karyawan(ani)\n",
        "perusahaan.aktifkan_karyawan(budi)\n",
        "perusahaan.aktifkan_karyawan(cici)\n",
        "perusahaan.aktifkan_karyawan(didi)\n",
        "perusahaan.aktifkan_karyawan(efi)\n",
        "perusahaan.aktifkan_karyawan(febi)\n",
        "\n",
        "# Cetak keseluruhan total pengeluaran perusahaan\n",
        "print(perusahaan.total_pengeluaran())"
      ],
      "metadata": {
        "id": "1Tx_HPbx33qp"
      },
      "execution_count": null,
      "outputs": []
    }
  ]
}