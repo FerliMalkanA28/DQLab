{
  "nbformat": 4,
  "nbformat_minor": 0,
  "metadata": {
    "colab": {
      "provenance": []
    },
    "kernelspec": {
      "name": "python3",
      "display_name": "Python 3"
    },
    "language_info": {
      "name": "python"
    }
  },
  "cells": [
    {
      "cell_type": "markdown",
      "source": [
        "# Supervised Learning - Algorithm\n",
        "\n",
        "Pada bagian ini kamu akan mempelajari algoritma-algoritma yang digunakan dalam machine learning jenis Supervised Learning baik algoritma untuk klasifikasi atau regresi.\n",
        "\n",
        "\n",
        "\n",
        "\n"
      ],
      "metadata": {
        "id": "UHRq_ACKmblM"
      }
    },
    {
      "cell_type": "markdown",
      "source": [
        "## Pemodelan Permasalahan Klasifikasi dengan Logistic Regression\n"
      ],
      "metadata": {
        "id": "1QBxhGNuDCmh"
      }
    },
    {
      "cell_type": "code",
      "source": [
        "import pandas as pd\n",
        "dataset = pd.read_csv('https://storage.googleapis.com/dqlab-dataset/pythonTutorial/online_raw.csv')\n",
        "dataset.fillna(dataset.mean(), inplace = True)\n",
        "\n",
        "from sklearn.preprocessing import LabelEncoder\n",
        "LE = LabelEncoder()\n",
        "dataset['Month'] = LE.fit_transform(dataset['Month'])\n",
        "LE = LabelEncoder()\n",
        "dataset['VisitorType'] = LE.fit_transform(dataset['VisitorType'])\n",
        "X = dataset.drop(['Revenue'], axis = 1)\n",
        "y = dataset['Revenue']\n",
        "\n",
        "from sklearn.model_selection import train_test_split\n",
        "X_train, X_test, y_train, y_test = train_test_split(X, y, test_size = 0.2, random_state = 0)\n",
        "\n",
        "from sklearn.linear_model import LogisticRegression\n",
        "from sklearn.metrics import confusion_matrix, classification_report\n",
        "\n",
        "# Call the classifier\n",
        "logreg = LogisticRegression()\n",
        "# Fit the classifier to the training data  \n",
        "logreg = logreg.fit(X_train, y_train)\n",
        "#Training Model: Predict \n",
        "y_pred = logreg.predict(X_test)\n",
        "\n",
        "#Evaluate Model Performance\n",
        "print('Training Accuracy :', logreg.score(X_train, y_train))  \n",
        "print('Testing Accuracy :', logreg.score(X_test, y_test))  \n",
        "\n",
        "# confusion matrix\n",
        "print('\\nConfusion matrix')  \n",
        "cm = confusion_matrix(y_test, y_pred)  \n",
        "print(cm)\n",
        "\n",
        "# classification report  \n",
        "print('\\nClassification report')  \n",
        "cr = classification_report(y_test, y_pred)  \n",
        "print(cr)"
      ],
      "metadata": {
        "id": "jsjyH5e0DEXG"
      },
      "execution_count": null,
      "outputs": []
    },
    {
      "cell_type": "markdown",
      "source": [
        "## Tugas Praktek\n"
      ],
      "metadata": {
        "id": "qfOlTxQXHeWo"
      }
    },
    {
      "cell_type": "code",
      "source": [
        "import pandas as pd\n",
        "dataset = pd.read_csv('https://storage.googleapis.com/dqlab-dataset/pythonTutorial/online_raw.csv')\n",
        "dataset.fillna(dataset.mean(), inplace = True)\n",
        "\n",
        "from sklearn.preprocessing import LabelEncoder\n",
        "LE = LabelEncoder()\n",
        "dataset['Month'] = LE.fit_transform(dataset['Month'])\n",
        "LE = LabelEncoder()\n",
        "dataset['VisitorType'] = LE.fit_transform(dataset['VisitorType'])\n",
        "X = dataset.drop(['Revenue'], axis = 1)\n",
        "y = dataset['Revenue']\n",
        "\n",
        "from sklearn.model_selection import train_test_split\n",
        "from sklearn.tree import DecisionTreeClassifier\n",
        "\n",
        "# splitting the data\n",
        "X_train, X_test, y_train, y_test = train_test_split(X, y, test_size = 0.3, random_state = 0)\n",
        "\n",
        "# Call the classifier\n",
        "decision_tree = DecisionTreeClassifier()\n",
        "# Fit the classifier to the training data\n",
        "decision_tree = decision_tree.fit(X_train, y_train)\n",
        "\n",
        "# evaluating the decision_tree performance\n",
        "print('Training Accuracy :', decision_tree.score(X_train, y_train))\n",
        "print('Testing Accuracy :', decision_tree.score(X_test, y_test))"
      ],
      "metadata": {
        "id": "jCdobPmzHfQi"
      },
      "execution_count": null,
      "outputs": []
    },
    {
      "cell_type": "markdown",
      "source": [
        "## Tugas Praktek\n"
      ],
      "metadata": {
        "id": "CMYMkcMnkku_"
      }
    },
    {
      "cell_type": "code",
      "source": [
        "#load dataset\n",
        "import pandas as pd\n",
        "housing = pd.read_csv('https://storage.googleapis.com/dqlab-dataset/pythonTutorial/housing_boston.csv')\n",
        "#Data rescaling\n",
        "from sklearn import preprocessing\n",
        "data_scaler = preprocessing.MinMaxScaler(feature_range=(0,1))\n",
        "housing[['RM','LSTAT','PTRATIO','MEDV']] = data_scaler.fit_transform(housing[['RM','LSTAT','PTRATIO','MEDV']])\n",
        "# getting dependent and independent variables\n",
        "X = housing.drop(['MEDV'], axis = 1)\n",
        "y = housing['MEDV']\n",
        "# checking the shapes\n",
        "print('Shape of X:', X.shape)\n",
        "print('Shape of y:', y.shape)\n",
        "\n",
        "# splitting the data\n",
        "from sklearn.model_selection import train_test_split\n",
        "X_train, X_test, y_train, y_test = train_test_split(X, y, test_size = 0.3, random_state = 0)\n",
        "# checking the shapes  \n",
        "print('Shape of X_train :', X_train.shape)\n",
        "print('Shape of y_train :', y_train.shape)\n",
        "print('Shape of X_test :', X_test.shape)\n",
        "print('Shape of y_test :', y_test.shape)\n",
        "\n",
        "##import regressor from Scikit-Learn\n",
        "from sklearn.linear_model import LinearRegression \n",
        "# Call the regressor\n",
        "reg = LinearRegression()\n",
        "# Fit the regressor to the training data  \n",
        "reg = reg.fit(X_train, y_train)\n",
        "# Apply the regressor/model to the test data  \n",
        "y_pred = reg.predict(X_test)"
      ],
      "metadata": {
        "id": "aTFA4wZTkk3z"
      },
      "execution_count": null,
      "outputs": []
    },
    {
      "cell_type": "markdown",
      "source": [
        "## Tugas Praktek"
      ],
      "metadata": {
        "id": "6uJ-phvpkojA"
      }
    },
    {
      "cell_type": "code",
      "source": [
        "import pandas as pd\n",
        "housing = pd.read_csv('https://storage.googleapis.com/dqlab-dataset/pythonTutorial/housing_boston.csv')\n",
        "\n",
        "from sklearn import preprocessing\n",
        "data_scaler = preprocessing.MinMaxScaler(feature_range=(0,1))\n",
        "housing[['RM','LSTAT','PTRATIO','MEDV']] = data_scaler.fit_transform(housing[['RM','LSTAT','PTRATIO','MEDV']])\n",
        "X = housing.drop(['MEDV'], axis = 1)\n",
        "y = housing['MEDV']\n",
        "\n",
        "from sklearn.model_selection import train_test_split\n",
        "X_train, X_test, y_train, y_test = train_test_split(X, y, test_size = 0.3, random_state = 0)\n",
        "\n",
        "from sklearn.linear_model import LinearRegression\n",
        "reg = LinearRegression()\n",
        "reg = reg.fit(X_train,y_train)\n",
        "y_pred = reg.predict(X_test)\n",
        "\n",
        "from sklearn.metrics import mean_squared_error, mean_absolute_error\n",
        "import numpy as np\n",
        "import matplotlib.pyplot as plt\n",
        "#Calculating MSE, lower the value better it is. 0 means perfect prediction\n",
        "mse = mean_squared_error(y_test, y_pred)\n",
        "print('Mean squared error of testing set:', mse)\n",
        "#Calculating MAE\n",
        "mae = mean_absolute_error(y_test, y_pred)\n",
        "print('Mean absolute error of testing set:', mae)\n",
        "#Calculating RMSE\n",
        "rmse = np.sqrt(mse)\n",
        "print('Root Mean Squared Error of testing set:', rmse)\n",
        "#Plotting y_test dan y_pred\n",
        "plt.scatter(y_test, y_pred, c = 'green')\n",
        "plt.xlabel('Price Actual')\n",
        "plt.ylabel('Predicted value')\n",
        "plt.title('True value vs predicted value : Linear Regression')\n",
        "plt.show()"
      ],
      "metadata": {
        "id": "t3r6ZfcElsD2"
      },
      "execution_count": null,
      "outputs": []
    }
  ]
}