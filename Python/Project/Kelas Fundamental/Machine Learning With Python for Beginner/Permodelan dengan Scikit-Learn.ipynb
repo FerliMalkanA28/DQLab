{
  "nbformat": 4,
  "nbformat_minor": 0,
  "metadata": {
    "colab": {
      "provenance": []
    },
    "kernelspec": {
      "name": "python3",
      "display_name": "Python 3"
    },
    "language_info": {
      "name": "python"
    }
  },
  "cells": [
    {
      "cell_type": "markdown",
      "source": [
        "# Pemodelan dengan Scikit-Learn\n",
        "Pada bagian ini kamu akan mempelajari bagaimana membangun suatu model machine learning dengan menggunakan library python: Scikit-Learn.\n",
        "\n",
        "\n"
      ],
      "metadata": {
        "id": "UHRq_ACKmblM"
      }
    },
    {
      "cell_type": "markdown",
      "source": [
        "## Features & Label\n"
      ],
      "metadata": {
        "id": "IWBfac5bq9Oq"
      }
    },
    {
      "cell_type": "code",
      "source": [
        "import pandas as pd\n",
        "dataset = pd.read_csv('https://storage.googleapis.com/dqlab-dataset/pythonTutorial/online_raw.csv')\n",
        "dataset.fillna(dataset.mean(), inplace = True)\n",
        "\n",
        "from sklearn.preprocessing import LabelEncoder\n",
        "LE = LabelEncoder()\n",
        "dataset['Month'] = LE.fit_transform(dataset['Month'])\n",
        "LE = LabelEncoder()\n",
        "dataset['VisitorType'] = LE.fit_transform(dataset['VisitorType'])\n",
        "\n",
        "# removing the target column Revenue from dataset and assigning to X\n",
        "X = dataset.drop([\"Revenue\"], axis = 1)\n",
        "# assigning the target column Revenue to y\n",
        "y = dataset[\"Revenue\"]\n",
        "# checking the shapes\n",
        "print(\"Shape of X:\", X.shape)\n",
        "print(\"Shape of y:\", y.shape)\n"
      ],
      "metadata": {
        "colab": {
          "base_uri": "https://localhost:8080/"
        },
        "id": "I8iUq-UxrH8x",
        "outputId": "d73a04c9-2093-48ee-bdaf-4bd492006e32"
      },
      "execution_count": 1,
      "outputs": [
        {
          "output_type": "stream",
          "name": "stderr",
          "text": [
            "<ipython-input-1-05008ecba95d>:3: FutureWarning: Dropping of nuisance columns in DataFrame reductions (with 'numeric_only=None') is deprecated; in a future version this will raise TypeError.  Select only valid columns before calling the reduction.\n",
            "  dataset.fillna(dataset.mean(), inplace = True)\n"
          ]
        },
        {
          "output_type": "stream",
          "name": "stdout",
          "text": [
            "Shape of X: (12330, 17)\n",
            "Shape of y: (12330,)\n"
          ]
        }
      ]
    },
    {
      "cell_type": "markdown",
      "source": [
        "## Training dan Test Dataset\n"
      ],
      "metadata": {
        "id": "QSvkoU93sCuy"
      }
    },
    {
      "cell_type": "code",
      "source": [
        "import pandas as pd\n",
        "dataset = pd.read_csv('https://storage.googleapis.com/dqlab-dataset/pythonTutorial/online_raw.csv')\n",
        "dataset.fillna(dataset.mean(), inplace = True)\n",
        "\n",
        "from sklearn.preprocessing import LabelEncoder\n",
        "LE = LabelEncoder()\n",
        "dataset['Month'] = LE.fit_transform(dataset['Month'])\n",
        "LE = LabelEncoder()\n",
        "dataset['VisitorType'] = LE.fit_transform(dataset['VisitorType'])\n",
        "X = dataset.drop(['Revenue'], axis = 1)\n",
        "y = dataset['Revenue']\n",
        "\n",
        "from sklearn.model_selection import train_test_split\n",
        "# splitting the X, and y\n",
        "X_train, X_test, y_train, y_test = train_test_split(X, y, test_size = 0.2, random_state = 0)\n",
        "# checking the shapes\n",
        "print(\"Shape of X_train :\", X_train.shape)\n",
        "print(\"Shape of X_test :\", X_test.shape)\n",
        "print(\"Shape of y_train :\", y_train.shape)\n",
        "print(\"Shape of y_test :\", y_test.shape)"
      ],
      "metadata": {
        "colab": {
          "base_uri": "https://localhost:8080/"
        },
        "id": "G6oO0rrPsHSH",
        "outputId": "09578f5b-9481-4de9-ff0f-676deee5ec36"
      },
      "execution_count": 2,
      "outputs": [
        {
          "output_type": "stream",
          "name": "stdout",
          "text": [
            "Shape of X_train : (9864, 17)\n",
            "Shape of X_test : (2466, 17)\n",
            "Shape of y_train : (9864,)\n",
            "Shape of y_test : (2466,)\n"
          ]
        },
        {
          "output_type": "stream",
          "name": "stderr",
          "text": [
            "<ipython-input-2-87f1fcb4496c>:3: FutureWarning: Dropping of nuisance columns in DataFrame reductions (with 'numeric_only=None') is deprecated; in a future version this will raise TypeError.  Select only valid columns before calling the reduction.\n",
            "  dataset.fillna(dataset.mean(), inplace = True)\n"
          ]
        }
      ]
    },
    {
      "cell_type": "markdown",
      "source": [
        "## Training Model: Fit\n"
      ],
      "metadata": {
        "id": "yYjtoK3-sFig"
      }
    },
    {
      "cell_type": "code",
      "source": [
        "import pandas as pd\n",
        "dataset = pd.read_csv('https://storage.googleapis.com/dqlab-dataset/pythonTutorial/online_raw.csv')\n",
        "dataset.fillna(dataset.mean(), inplace = True)\n",
        "\n",
        "from sklearn.preprocessing import LabelEncoder\n",
        "LE = LabelEncoder()\n",
        "dataset['Month'] = LE.fit_transform(dataset['Month'])\n",
        "LE = LabelEncoder()\n",
        "dataset['VisitorType'] = LE.fit_transform(dataset['VisitorType'])\n",
        "X = dataset.drop(['Revenue'], axis = 1)\n",
        "y = dataset['Revenue']\n",
        "\n",
        "from sklearn.model_selection import train_test_split\n",
        "X_train, X_test, y_train, y_test = train_test_split(X, y, test_size = 0.2, random_state = 0)\n",
        "\n",
        "from sklearn.tree import DecisionTreeClassifier\n",
        "# Call the classifier\n",
        "model = DecisionTreeClassifier()\n",
        "# Fit the classifier to the training data\n",
        "model = model.fit(X_train, y_train)"
      ],
      "metadata": {
        "colab": {
          "base_uri": "https://localhost:8080/"
        },
        "id": "objqTAvDsv_Z",
        "outputId": "db49c2f8-c2db-4e90-9ac2-7c7bb6fa7b8f"
      },
      "execution_count": 3,
      "outputs": [
        {
          "output_type": "stream",
          "name": "stderr",
          "text": [
            "<ipython-input-3-64d89485b862>:3: FutureWarning: Dropping of nuisance columns in DataFrame reductions (with 'numeric_only=None') is deprecated; in a future version this will raise TypeError.  Select only valid columns before calling the reduction.\n",
            "  dataset.fillna(dataset.mean(), inplace = True)\n"
          ]
        }
      ]
    },
    {
      "cell_type": "markdown",
      "source": [
        "## Training Model: Predict\n"
      ],
      "metadata": {
        "id": "V5wJXmT8sFqD"
      }
    },
    {
      "cell_type": "code",
      "source": [
        "import pandas as pd\n",
        "dataset = pd.read_csv('https://storage.googleapis.com/dqlab-dataset/pythonTutorial/online_raw.csv')\n",
        "dataset.fillna(dataset.mean(), inplace = True)\n",
        "\n",
        "from sklearn.preprocessing import LabelEncoder\n",
        "LE = LabelEncoder()\n",
        "dataset['Month'] = LE.fit_transform(dataset['Month'])\n",
        "LE = LabelEncoder()\n",
        "dataset['VisitorType'] = LE.fit_transform(dataset['VisitorType'])\n",
        "X = dataset.drop(['Revenue'], axis = 1)\n",
        "y = dataset['Revenue']\n",
        "\n",
        "from sklearn.model_selection import train_test_split\n",
        "X_train, X_test, y_train, y_test = train_test_split(X, y, test_size = 0.2, random_state = 0)\n",
        "\n",
        "from sklearn.tree import DecisionTreeClassifier\n",
        "model = DecisionTreeClassifier()\n",
        "model = model.fit(X_train,y_train)\n",
        "\n",
        "# Apply the classifier/model to the test data\n",
        "y_pred = model.predict(X_test)\n",
        "print(y_pred.shape)"
      ],
      "metadata": {
        "colab": {
          "base_uri": "https://localhost:8080/"
        },
        "id": "J9lBOywGtLWk",
        "outputId": "4a8675e2-3f55-40a1-f99a-13de7460604e"
      },
      "execution_count": 4,
      "outputs": [
        {
          "output_type": "stream",
          "name": "stdout",
          "text": [
            "(2466,)\n"
          ]
        },
        {
          "output_type": "stream",
          "name": "stderr",
          "text": [
            "<ipython-input-4-85c4da52a6e9>:3: FutureWarning: Dropping of nuisance columns in DataFrame reductions (with 'numeric_only=None') is deprecated; in a future version this will raise TypeError.  Select only valid columns before calling the reduction.\n",
            "  dataset.fillna(dataset.mean(), inplace = True)\n"
          ]
        }
      ]
    },
    {
      "cell_type": "markdown",
      "source": [
        "## Evaluasi Model Performance - Part 2\n"
      ],
      "metadata": {
        "id": "ViXWejQ_urfx"
      }
    },
    {
      "cell_type": "code",
      "source": [
        "import pandas as pd\n",
        "dataset = pd.read_csv('https://storage.googleapis.com/dqlab-dataset/pythonTutorial/online_raw.csv')\n",
        "dataset.fillna(dataset.mean(), inplace = True)\n",
        "\n",
        "from sklearn.preprocessing import LabelEncoder\n",
        "LE = LabelEncoder()\n",
        "dataset['Month'] = LE.fit_transform(dataset['Month'])\n",
        "LE = LabelEncoder()\n",
        "dataset['VisitorType'] = LE.fit_transform(dataset['VisitorType'])\n",
        "X = dataset.drop(['Revenue'], axis = 1)\n",
        "y = dataset['Revenue']\n",
        "\n",
        "from sklearn.model_selection import train_test_split\n",
        "X_train, X_test, y_train, y_test = train_test_split(X, y, test_size = 0.2, random_state = 0)\n",
        "\n",
        "from sklearn.tree import DecisionTreeClassifier\n",
        "model = DecisionTreeClassifier()\n",
        "model = model.fit(X_train,y_train)\n",
        "y_pred = model.predict(X_test)\n",
        "\n",
        "from sklearn.metrics import confusion_matrix, classification_report\n",
        "\n",
        "# evaluating the model\n",
        "print('Training Accuracy :', model.score(X_train, y_train))\n",
        "print('Testing Accuracy :', model.score(X_test, y_test))\n",
        "\n",
        "# confusion matrix\n",
        "print('\\nConfusion matrix:')\n",
        "cm = confusion_matrix(y_test, y_pred)\n",
        "print(cm)\n",
        "\n",
        "# classification report\n",
        "print('\\nClassification report:')\n",
        "cr = classification_report(y_test, y_pred)\n",
        "print(cr)"
      ],
      "metadata": {
        "colab": {
          "base_uri": "https://localhost:8080/"
        },
        "id": "L-mn4WKQutIZ",
        "outputId": "1565099f-c6f8-4778-d233-c054cc998642"
      },
      "execution_count": 5,
      "outputs": [
        {
          "output_type": "stream",
          "name": "stderr",
          "text": [
            "<ipython-input-5-46495ae91cb6>:3: FutureWarning: Dropping of nuisance columns in DataFrame reductions (with 'numeric_only=None') is deprecated; in a future version this will raise TypeError.  Select only valid columns before calling the reduction.\n",
            "  dataset.fillna(dataset.mean(), inplace = True)\n"
          ]
        },
        {
          "output_type": "stream",
          "name": "stdout",
          "text": [
            "Training Accuracy : 1.0\n",
            "Testing Accuracy : 0.8609083536090836\n",
            "\n",
            "Confusion matrix:\n",
            "[[1885  159]\n",
            " [ 184  238]]\n",
            "\n",
            "Classification report:\n",
            "              precision    recall  f1-score   support\n",
            "\n",
            "       False       0.91      0.92      0.92      2044\n",
            "        True       0.60      0.56      0.58       422\n",
            "\n",
            "    accuracy                           0.86      2466\n",
            "   macro avg       0.76      0.74      0.75      2466\n",
            "weighted avg       0.86      0.86      0.86      2466\n",
            "\n"
          ]
        }
      ]
    }
  ]
}