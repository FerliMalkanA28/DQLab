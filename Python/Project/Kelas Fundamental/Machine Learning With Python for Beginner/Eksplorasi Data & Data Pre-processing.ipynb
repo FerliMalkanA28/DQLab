{
  "nbformat": 4,
  "nbformat_minor": 0,
  "metadata": {
    "colab": {
      "provenance": []
    },
    "kernelspec": {
      "name": "python3",
      "display_name": "Python 3"
    },
    "language_info": {
      "name": "python"
    }
  },
  "cells": [
    {
      "cell_type": "markdown",
      "source": [
        "# Eksplorasi Data & Data Pre-processing\n",
        "Pada bagian ini kamu akan mempelajari ekplorasi data dan data pre-processing sebagai bagian awal untuk pembuatan model dengan menggunakan machine learning nantinya. \n",
        "\n"
      ],
      "metadata": {
        "id": "UHRq_ACKmblM"
      }
    },
    {
      "cell_type": "markdown",
      "source": [
        "## Eksplorasi Data: Memahami Data dengan Statistik - Part 1\n"
      ],
      "metadata": {
        "id": "-Q0NxweAmiVu"
      }
    },
    {
      "cell_type": "code",
      "execution_count": 1,
      "metadata": {
        "colab": {
          "base_uri": "https://localhost:8080/"
        },
        "id": "m8wnID4VmQNf",
        "outputId": "4c2b8138-5da8-4dad-a2b8-e38138cdfe0b"
      },
      "outputs": [
        {
          "output_type": "stream",
          "name": "stdout",
          "text": [
            "Shape dataset: (12330, 18)\n",
            "\n",
            "Lima data teratas:\n",
            "    Administrative  Administrative_Duration  Informational  \\\n",
            "0             0.0                      0.0            0.0   \n",
            "1             0.0                      0.0            0.0   \n",
            "2             0.0                     -1.0            0.0   \n",
            "3             0.0                      0.0            0.0   \n",
            "4             0.0                      0.0            0.0   \n",
            "\n",
            "   Informational_Duration  ProductRelated  ProductRelated_Duration  \\\n",
            "0                     0.0             1.0                 0.000000   \n",
            "1                     0.0             2.0                64.000000   \n",
            "2                    -1.0             1.0                -1.000000   \n",
            "3                     0.0             2.0                 2.666667   \n",
            "4                     0.0            10.0               627.500000   \n",
            "\n",
            "   BounceRates  ExitRates  PageValues  SpecialDay Month  OperatingSystems  \\\n",
            "0         0.20       0.20         0.0         0.0   Feb                 1   \n",
            "1         0.00       0.10         0.0         0.0   Feb                 2   \n",
            "2         0.20       0.20         0.0         0.0   Feb                 4   \n",
            "3         0.05       0.14         0.0         0.0   Feb                 3   \n",
            "4         0.02       0.05         0.0         0.0   Feb                 3   \n",
            "\n",
            "   Browser  Region  TrafficType        VisitorType  Weekend  Revenue  \n",
            "0        1       1            1  Returning_Visitor    False    False  \n",
            "1        2       1            2  Returning_Visitor    False    False  \n",
            "2        1       9            3  Returning_Visitor    False    False  \n",
            "3        2       2            4  Returning_Visitor    False    False  \n",
            "4        3       1            4  Returning_Visitor     True    False  \n",
            "\n",
            "Informasi dataset:\n",
            "<class 'pandas.core.frame.DataFrame'>\n",
            "RangeIndex: 12330 entries, 0 to 12329\n",
            "Data columns (total 18 columns):\n",
            " #   Column                   Non-Null Count  Dtype  \n",
            "---  ------                   --------------  -----  \n",
            " 0   Administrative           12316 non-null  float64\n",
            " 1   Administrative_Duration  12316 non-null  float64\n",
            " 2   Informational            12316 non-null  float64\n",
            " 3   Informational_Duration   12316 non-null  float64\n",
            " 4   ProductRelated           12316 non-null  float64\n",
            " 5   ProductRelated_Duration  12316 non-null  float64\n",
            " 6   BounceRates              12316 non-null  float64\n",
            " 7   ExitRates                12316 non-null  float64\n",
            " 8   PageValues               12330 non-null  float64\n",
            " 9   SpecialDay               12330 non-null  float64\n",
            " 10  Month                    12330 non-null  object \n",
            " 11  OperatingSystems         12330 non-null  int64  \n",
            " 12  Browser                  12330 non-null  int64  \n",
            " 13  Region                   12330 non-null  int64  \n",
            " 14  TrafficType              12330 non-null  int64  \n",
            " 15  VisitorType              12330 non-null  object \n",
            " 16  Weekend                  12330 non-null  bool   \n",
            " 17  Revenue                  12330 non-null  bool   \n",
            "dtypes: bool(2), float64(10), int64(4), object(2)\n",
            "memory usage: 1.5+ MB\n",
            "None\n",
            "\n",
            "Statistik deskriptif:\n",
            "        Administrative  Administrative_Duration  Informational  \\\n",
            "count    12316.000000             12316.000000   12316.000000   \n",
            "mean         2.317798                80.906176       0.503979   \n",
            "std          3.322754               176.860432       1.270701   \n",
            "min          0.000000                -1.000000       0.000000   \n",
            "25%          0.000000                 0.000000       0.000000   \n",
            "50%          1.000000                 8.000000       0.000000   \n",
            "75%          4.000000                93.500000       0.000000   \n",
            "max         27.000000              3398.750000      24.000000   \n",
            "\n",
            "       Informational_Duration  ProductRelated  ProductRelated_Duration  \\\n",
            "count            12316.000000    12316.000000             12316.000000   \n",
            "mean                34.506387       31.763884              1196.037057   \n",
            "std                140.825479       44.490339              1914.372511   \n",
            "min                 -1.000000        0.000000                -1.000000   \n",
            "25%                  0.000000        7.000000               185.000000   \n",
            "50%                  0.000000       18.000000               599.766190   \n",
            "75%                  0.000000       38.000000              1466.479902   \n",
            "max               2549.375000      705.000000             63973.522230   \n",
            "\n",
            "        BounceRates     ExitRates    PageValues    SpecialDay  \\\n",
            "count  12316.000000  12316.000000  12330.000000  12330.000000   \n",
            "mean       0.022152      0.043003      5.889258      0.061427   \n",
            "std        0.048427      0.048527     18.568437      0.198917   \n",
            "min        0.000000      0.000000      0.000000      0.000000   \n",
            "25%        0.000000      0.014286      0.000000      0.000000   \n",
            "50%        0.003119      0.025124      0.000000      0.000000   \n",
            "75%        0.016684      0.050000      0.000000      0.000000   \n",
            "max        0.200000      0.200000    361.763742      1.000000   \n",
            "\n",
            "       OperatingSystems       Browser        Region   TrafficType  \n",
            "count      12330.000000  12330.000000  12330.000000  12330.000000  \n",
            "mean           2.124006      2.357097      3.147364      4.069586  \n",
            "std            0.911325      1.717277      2.401591      4.025169  \n",
            "min            1.000000      1.000000      1.000000      1.000000  \n",
            "25%            2.000000      2.000000      1.000000      2.000000  \n",
            "50%            2.000000      2.000000      3.000000      2.000000  \n",
            "75%            3.000000      2.000000      4.000000      4.000000  \n",
            "max            8.000000     13.000000      9.000000     20.000000  \n"
          ]
        }
      ],
      "source": [
        "import pandas as pd\n",
        "dataset = pd.read_csv(\"https://storage.googleapis.com/dqlab-dataset/pythonTutorial/online_raw.csv\")\n",
        "print('Shape dataset:', dataset.shape)\n",
        "print('\\nLima data teratas:\\n', dataset.head())\n",
        "print('\\nInformasi dataset:')\n",
        "print(dataset.info())\n",
        "print('\\nStatistik deskriptif:\\n', dataset.describe())"
      ]
    },
    {
      "cell_type": "markdown",
      "source": [
        "## Eksplorasi Data: Memahami Data dengan Statistik - Part 2\n"
      ],
      "metadata": {
        "id": "MVGUl3iEm_H6"
      }
    },
    {
      "cell_type": "code",
      "source": [
        "import pandas as pd\n",
        "dataset = pd.read_csv('https://storage.googleapis.com/dqlab-dataset/pythonTutorial/online_raw.csv')\n",
        "\n",
        "dataset_corr = dataset.corr()\n",
        "print(\"Korelasi dataset:\\n\", dataset.corr())\n",
        "print(\"Distribusi Label (Revenue):\\n\", dataset[\"Revenue\"].value_counts())\n",
        "# Tugas praktek\n",
        "print('\\nKorelasi BounceRates-ExitRates:', dataset_corr.loc['BounceRates', 'ExitRates'])\n",
        "print('\\nKorelasi Revenue-PageValues:', dataset_corr.loc['Revenue', 'PageValues'])\n",
        "print('\\nKorelasi TrafficType-Weekend:', dataset_corr.loc['TrafficType', 'Weekend'])"
      ],
      "metadata": {
        "colab": {
          "base_uri": "https://localhost:8080/"
        },
        "id": "dnod3KAhnQyR",
        "outputId": "ce556935-de67-4db8-cba6-a86c10b4471a"
      },
      "execution_count": 2,
      "outputs": [
        {
          "output_type": "stream",
          "name": "stdout",
          "text": [
            "Korelasi dataset:\n",
            "                          Administrative  Administrative_Duration  \\\n",
            "Administrative                 1.000000                 0.601466   \n",
            "Administrative_Duration        0.601466                 1.000000   \n",
            "Informational                  0.376782                 0.302647   \n",
            "Informational_Duration         0.255757                 0.237959   \n",
            "ProductRelated                 0.430832                 0.288869   \n",
            "ProductRelated_Duration        0.373647                 0.355238   \n",
            "BounceRates                   -0.223474                -0.144128   \n",
            "ExitRates                     -0.316192                -0.205618   \n",
            "PageValues                     0.098771                 0.067463   \n",
            "SpecialDay                    -0.095054                -0.073472   \n",
            "OperatingSystems              -0.006459                -0.007425   \n",
            "Browser                       -0.025243                -0.015525   \n",
            "Region                        -0.005680                -0.005681   \n",
            "TrafficType                   -0.033748                -0.014487   \n",
            "Weekend                        0.026404                 0.014987   \n",
            "Revenue                        0.138631                 0.093395   \n",
            "\n",
            "                         Informational  Informational_Duration  \\\n",
            "Administrative                0.376782                0.255757   \n",
            "Administrative_Duration       0.302647                0.237959   \n",
            "Informational                 1.000000                0.618965   \n",
            "Informational_Duration        0.618965                1.000000   \n",
            "ProductRelated                0.374098                0.279966   \n",
            "ProductRelated_Duration       0.387446                0.347300   \n",
            "BounceRates                  -0.116071               -0.074077   \n",
            "ExitRates                    -0.163539               -0.105205   \n",
            "PageValues                    0.048539                0.030787   \n",
            "SpecialDay                   -0.048328               -0.030658   \n",
            "OperatingSystems             -0.009435               -0.009596   \n",
            "Browser                      -0.038257               -0.019346   \n",
            "Region                       -0.029442               -0.027244   \n",
            "TrafficType                  -0.034510               -0.024731   \n",
            "Weekend                       0.035557                0.024054   \n",
            "Revenue                       0.095085                0.070250   \n",
            "\n",
            "                         ProductRelated  ProductRelated_Duration  BounceRates  \\\n",
            "Administrative                 0.430832                 0.373647    -0.223474   \n",
            "Administrative_Duration        0.288869                 0.355238    -0.144128   \n",
            "Informational                  0.374098                 0.387446    -0.116071   \n",
            "Informational_Duration         0.279966                 0.347300    -0.074077   \n",
            "ProductRelated                 1.000000                 0.860868    -0.204469   \n",
            "ProductRelated_Duration        0.860868                 1.000000    -0.184409   \n",
            "BounceRates                   -0.204469                -0.184409     1.000000   \n",
            "ExitRates                     -0.292219                -0.251645     0.913436   \n",
            "PageValues                     0.056067                 0.052623    -0.119357   \n",
            "SpecialDay                    -0.024190                -0.036598     0.073088   \n",
            "OperatingSystems               0.004193                 0.002885     0.023965   \n",
            "Browser                       -0.013326                -0.007549    -0.016009   \n",
            "Region                        -0.038318                -0.033263    -0.006731   \n",
            "TrafficType                   -0.043235                -0.036538     0.078894   \n",
            "Weekend                        0.016097                 0.007293    -0.046870   \n",
            "Revenue                        0.158280                 0.152130    -0.150621   \n",
            "\n",
            "                         ExitRates  PageValues  SpecialDay  OperatingSystems  \\\n",
            "Administrative           -0.316192    0.098771   -0.095054         -0.006459   \n",
            "Administrative_Duration  -0.205618    0.067463   -0.073472         -0.007425   \n",
            "Informational            -0.163539    0.048539   -0.048328         -0.009435   \n",
            "Informational_Duration   -0.105205    0.030787   -0.030658         -0.009596   \n",
            "ProductRelated           -0.292219    0.056067   -0.024190          0.004193   \n",
            "ProductRelated_Duration  -0.251645    0.052623   -0.036598          0.002885   \n",
            "BounceRates               0.913436   -0.119357    0.073088          0.023965   \n",
            "ExitRates                 1.000000   -0.174397    0.102899          0.014745   \n",
            "PageValues               -0.174397    1.000000   -0.063541          0.018508   \n",
            "SpecialDay                0.102899   -0.063541    1.000000          0.012652   \n",
            "OperatingSystems          0.014745    0.018508    0.012652          1.000000   \n",
            "Browser                  -0.004407    0.045592    0.003499          0.223013   \n",
            "Region                   -0.008836    0.011315   -0.016098          0.076775   \n",
            "TrafficType               0.078998    0.012532    0.052301          0.189154   \n",
            "Weekend                  -0.062942    0.012002   -0.016767          0.000284   \n",
            "Revenue                  -0.206886    0.492569   -0.082305         -0.014668   \n",
            "\n",
            "                          Browser    Region  TrafficType   Weekend   Revenue  \n",
            "Administrative          -0.025243 -0.005680    -0.033748  0.026404  0.138631  \n",
            "Administrative_Duration -0.015525 -0.005681    -0.014487  0.014987  0.093395  \n",
            "Informational           -0.038257 -0.029442    -0.034510  0.035557  0.095085  \n",
            "Informational_Duration  -0.019346 -0.027244    -0.024731  0.024054  0.070250  \n",
            "ProductRelated          -0.013326 -0.038318    -0.043235  0.016097  0.158280  \n",
            "ProductRelated_Duration -0.007549 -0.033263    -0.036538  0.007293  0.152130  \n",
            "BounceRates             -0.016009 -0.006731     0.078894 -0.046870 -0.150621  \n",
            "ExitRates               -0.004407 -0.008836     0.078998 -0.062942 -0.206886  \n",
            "PageValues               0.045592  0.011315     0.012532  0.012002  0.492569  \n",
            "SpecialDay               0.003499 -0.016098     0.052301 -0.016767 -0.082305  \n",
            "OperatingSystems         0.223013  0.076775     0.189154  0.000284 -0.014668  \n",
            "Browser                  1.000000  0.097393     0.111938 -0.040261  0.023984  \n",
            "Region                   0.097393  1.000000     0.047520 -0.000691 -0.011595  \n",
            "TrafficType              0.111938  0.047520     1.000000 -0.002221 -0.005113  \n",
            "Weekend                 -0.040261 -0.000691    -0.002221  1.000000  0.029295  \n",
            "Revenue                  0.023984 -0.011595    -0.005113  0.029295  1.000000  \n",
            "Distribusi Label (Revenue):\n",
            " False    10422\n",
            "True      1908\n",
            "Name: Revenue, dtype: int64\n",
            "\n",
            "Korelasi BounceRates-ExitRates: 0.9134364214595573\n",
            "\n",
            "Korelasi Revenue-PageValues: 0.49256929525120574\n",
            "\n",
            "Korelasi TrafficType-Weekend: -0.0022212292430310644\n"
          ]
        }
      ]
    },
    {
      "cell_type": "markdown",
      "source": [
        "## Eksplorasi Data: Memahami Data dengan Visual\n"
      ],
      "metadata": {
        "id": "433AnCZsv8kM"
      }
    },
    {
      "cell_type": "code",
      "source": [
        "import pandas as pd\n",
        "import matplotlib.pyplot as plt\n",
        "import seaborn as sns\n",
        "\n",
        "dataset = pd.read_csv('https://storage.googleapis.com/dqlab-dataset/pythonTutorial/online_raw.csv')\n",
        "\n",
        "# checking the Distribution of customers on Revenue\n",
        "plt.rcParams[\"figure.figsize\"] = (12, 5)\n",
        "plt.subplot(1, 2, 1)\n",
        "sns.countplot(dataset[\"Revenue\"], palette = \"pastel\")\n",
        "plt.title(\"Buy or Not\", fontsize = 20)\n",
        "plt.xlabel(\"Revenue or not\", fontsize = 14)\n",
        "plt.ylabel(\"count\", fontsize = 14)\n",
        "# checking the Distribution of customers on Weekend\n",
        "plt.subplot(1, 2, 2)\n",
        "sns.countplot(dataset[\"Weekend\"], palette = \"inferno\")\n",
        "plt.title(\"Purchase on Weekends\", fontsize = 20)\n",
        "plt.xlabel(\"Weekend or not\", fontsize = 14)\n",
        "plt.ylabel(\"count\", fontsize = 14)\n",
        "plt.show()"
      ],
      "metadata": {
        "colab": {
          "base_uri": "https://localhost:8080/",
          "height": 359
        },
        "id": "4t-mn18LO8dX",
        "outputId": "62f108ed-9c78-4b66-ac5c-7b7e960ac226"
      },
      "execution_count": 3,
      "outputs": [
        {
          "output_type": "display_data",
          "data": {
            "text/plain": [
              "<Figure size 864x360 with 2 Axes>"
            ],
            "image/png": "[encoded data removed]"
          },
          "metadata": {
            "needs_background": "light"
          }
        }
      ]
    },
    {
      "cell_type": "markdown",
      "source": [
        "## Tugas Praktek\n"
      ],
      "metadata": {
        "id": "yRmXdR5YUmob"
      }
    },
    {
      "cell_type": "code",
      "source": [
        "import pandas as pd\n",
        "import matplotlib.pyplot as plt\n",
        "import seaborn as sns\n",
        "\n",
        "dataset = pd.read_csv('https://storage.googleapis.com/dqlab-dataset/pythonTutorial/online_raw.csv')\n",
        "\n",
        "# visualizing the distribution of customers around the Region\n",
        "plt.hist(dataset[\"Region\"], color = 'lightblue')\n",
        "plt.title(\"Distribution of Customers\", fontsize = 20)\n",
        "plt.xlabel(\"Region Codes\", fontsize = 14)\n",
        "plt.ylabel(\"Count Users\", fontsize = 14)\n",
        "plt.show()"
      ],
      "metadata": {
        "colab": {
          "base_uri": "https://localhost:8080/",
          "height": 359
        },
        "id": "2i1tSGjZUn3h",
        "outputId": "6165312b-d8cf-47c6-ed1d-8243edcffc17"
      },
      "execution_count": 4,
      "outputs": [
        {
          "output_type": "display_data",
          "data": {
            "text/plain": [
              "<Figure size 864x360 with 1 Axes>"
            ],
            "image/png": "[encoded data removed]"
          },
          "metadata": {
            "needs_background": "light"
          }
        }
      ]
    },
    {
      "cell_type": "markdown",
      "source": [
        "## Data Pre-processing: Handling Missing Value - Part 1\n"
      ],
      "metadata": {
        "id": "M2D4sgx1cb7f"
      }
    },
    {
      "cell_type": "code",
      "source": [
        "import pandas as pd\n",
        "dataset = pd.read_csv('https://storage.googleapis.com/dqlab-dataset/pythonTutorial/online_raw.csv')\n",
        "\n",
        "#checking missing value for each feature  \n",
        "print('Checking missing value for each feature:')\n",
        "print(dataset.isnull().sum())\n",
        "#Counting total missing value\n",
        "print('\\nCounting total missing value:')\n",
        "print(dataset.isnull().sum().sum())"
      ],
      "metadata": {
        "colab": {
          "base_uri": "https://localhost:8080/"
        },
        "id": "UDNdMEodcdbX",
        "outputId": "b2e5d7f6-d27b-4624-9af2-a6e210f4b874"
      },
      "execution_count": 1,
      "outputs": [
        {
          "output_type": "stream",
          "name": "stdout",
          "text": [
            "Checking missing value for each feature:\n",
            "Administrative             14\n",
            "Administrative_Duration    14\n",
            "Informational              14\n",
            "Informational_Duration     14\n",
            "ProductRelated             14\n",
            "ProductRelated_Duration    14\n",
            "BounceRates                14\n",
            "ExitRates                  14\n",
            "PageValues                  0\n",
            "SpecialDay                  0\n",
            "Month                       0\n",
            "OperatingSystems            0\n",
            "Browser                     0\n",
            "Region                      0\n",
            "TrafficType                 0\n",
            "VisitorType                 0\n",
            "Weekend                     0\n",
            "Revenue                     0\n",
            "dtype: int64\n",
            "\n",
            "Counting total missing value:\n",
            "112\n"
          ]
        }
      ]
    },
    {
      "cell_type": "markdown",
      "source": [
        "## Data Pre-processing: Handling Missing Value - Part 2\n"
      ],
      "metadata": {
        "id": "yn2jqcSSgoGe"
      }
    },
    {
      "cell_type": "code",
      "source": [
        "import pandas as pd\n",
        "dataset = pd.read_csv('https://storage.googleapis.com/dqlab-dataset/pythonTutorial/online_raw.csv')\n",
        "\n",
        "#Drop rows with missing value   \n",
        "dataset_clean = dataset.dropna()  \n",
        "print('Ukuran dataset_clean:', dataset_clean.shape)"
      ],
      "metadata": {
        "id": "8VwRicsSgpVE"
      },
      "execution_count": null,
      "outputs": []
    },
    {
      "cell_type": "markdown",
      "source": [
        "## Data Pre-processing: Handling Missing Value - Part 3\n"
      ],
      "metadata": {
        "id": "LJqpvKQBhM5S"
      }
    },
    {
      "cell_type": "code",
      "source": [
        "import pandas as pd\n",
        "dataset = pd.read_csv('https://storage.googleapis.com/dqlab-dataset/pythonTutorial/online_raw.csv')\n",
        "\n",
        "print(\"Before imputation:\")\n",
        "# Checking missing value for each feature  \n",
        "print(dataset.isnull().sum())\n",
        "# Counting total missing value  \n",
        "print(dataset.isnull().sum().sum())\n",
        "\n",
        "print(\"\\nAfter imputation:\")\n",
        "# Fill missing value with mean of feature value  \n",
        "dataset.fillna(dataset.mean(), inplace = True)\n",
        "# Checking missing value for each feature  \n",
        "print(dataset.isnull().sum())\n",
        "# Counting total missing value  \n",
        "print(dataset.isnull().sum().sum())"
      ],
      "metadata": {
        "id": "hpU7rC1GhPRg"
      },
      "execution_count": null,
      "outputs": []
    },
    {
      "cell_type": "markdown",
      "source": [
        "## Tugas Praktek\n"
      ],
      "metadata": {
        "id": "tXHR_dU9hs4Y"
      }
    },
    {
      "cell_type": "code",
      "source": [
        "import pandas as pd\n",
        "dataset1 = pd.read_csv('https://storage.googleapis.com/dqlab-dataset/pythonTutorial/online_raw.csv')\n",
        "\n",
        "print(\"Before imputation:\")\n",
        "# Checking missing value for each feature  \n",
        "print(dataset1.isnull().sum())\n",
        "# Counting total missing value  \n",
        "print(dataset1.isnull().sum().sum())\n",
        "\n",
        "print(\"\\nAfter imputation:\")\n",
        "# Fill missing value with median of feature value  \n",
        "dataset1.fillna(dataset1.median(), inplace = True)\n",
        "# Checking missing value for each feature  \n",
        "print(dataset1.isnull().sum())\n",
        "# Counting total missing value  \n",
        "print(dataset1.isnull().sum().sum())"
      ],
      "metadata": {
        "id": "rmgUiAWHht6F"
      },
      "execution_count": null,
      "outputs": []
    },
    {
      "cell_type": "markdown",
      "source": [
        "## Tugas Praktek"
      ],
      "metadata": {
        "id": "CDndID8eUkmI"
      }
    },
    {
      "cell_type": "code",
      "source": [
        "import pandas as pd\n",
        "dataset = pd.read_csv('https://storage.googleapis.com/dqlab-dataset/pythonTutorial/online_raw.csv')\n",
        "dataset.fillna(dataset.mean(), inplace = True)\n",
        "\n",
        "from sklearn.preprocessing import MinMaxScaler\n",
        "#Define MinMaxScaler as scaler  \n",
        "scaler = MinMaxScaler()  \n",
        "#list all the feature that need to be scaled  \n",
        "scaling_column = ['Administrative', 'Administrative_Duration', 'Informational', 'Informational_Duration', 'ProductRelated', 'ProductRelated_Duration', 'BounceRates', 'ExitRates', 'PageValues']\n",
        "#Apply fit_transfrom to scale selected feature  \n",
        "dataset[scaling_column] = scaler.fit_transform(dataset[scaling_column])\n",
        "#Cheking min and max value of the scaling_column\n",
        "print(dataset[scaling_column].describe().T[['min','max']])"
      ],
      "metadata": {
        "id": "tbH2kdwjUkzQ"
      },
      "execution_count": null,
      "outputs": []
    },
    {
      "cell_type": "markdown",
      "source": [
        "## Data Pre-processing: Konversi string ke numerik\n"
      ],
      "metadata": {
        "id": "IQQwC4pjUsLX"
      }
    },
    {
      "cell_type": "code",
      "source": [
        "import pandas as pd\n",
        "dataset = pd.read_csv('https://storage.googleapis.com/dqlab-dataset/pythonTutorial/online_raw.csv')\n",
        "dataset.fillna(dataset.mean(), inplace = True)\n",
        "\n",
        "import numpy as np\n",
        "from sklearn.preprocessing import LabelEncoder\n",
        "# Convert feature/column 'Month'\n",
        "LE = LabelEncoder()\n",
        "dataset[\"Month\"] = LE.fit_transform(dataset[\"Month\"])\n",
        "print(LE.classes_)\n",
        "print(np.sort(dataset[\"Month\"].unique()))\n",
        "print(\" \")\n",
        "\n",
        "# Convert feature/column 'VisitorType'\n",
        "LE = LabelEncoder()\n",
        "dataset[\"VisitorType\"] = LE.fit_transform(dataset[\"VisitorType\"])\n",
        "print(LE.classes_)\n",
        "print(np.sort(dataset[\"VisitorType\"].unique()))"
      ],
      "metadata": {
        "id": "Ow3K296IUuFv"
      },
      "execution_count": null,
      "outputs": []
    }
  ]
}