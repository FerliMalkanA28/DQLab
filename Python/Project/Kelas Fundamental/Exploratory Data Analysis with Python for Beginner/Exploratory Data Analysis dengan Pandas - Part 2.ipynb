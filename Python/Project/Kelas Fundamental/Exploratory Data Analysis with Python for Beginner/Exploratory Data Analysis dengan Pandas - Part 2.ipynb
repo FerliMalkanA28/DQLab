{
  "nbformat": 4,
  "nbformat_minor": 0,
  "metadata": {
    "colab": {
      "provenance": []
    },
    "kernelspec": {
      "name": "python3",
      "display_name": "Python 3"
    },
    "language_info": {
      "name": "python"
    }
  },
  "cells": [
    {
      "cell_type": "markdown",
      "source": [
        "# **Exploratory Data Analysis dengan Pandas - Part 2**\n"
      ],
      "metadata": {
        "id": "rJ4DJG1Yg8ZH"
      }
    },
    {
      "cell_type": "markdown",
      "source": [
        "Pada bagian ini Kamu akan mempelajari Exploratory Data Analysis  (EDA) secara grafis dengan menggunakan library pandas."
      ],
      "metadata": {
        "id": "ul5e3QQ5hEGQ"
      }
    },
    {
      "cell_type": "markdown",
      "source": [
        "# **Tugas Praktek**\n"
      ],
      "metadata": {
        "id": "3ADnKAyQg856"
      }
    },
    {
      "cell_type": "code",
      "source": [
        "import pandas as pd\n",
        "import matplotlib.pyplot as plt\n",
        "order_df = pd.read_csv(\"https://storage.googleapis.com/dqlab-dataset/order.csv\")\n",
        "# plot histogram kolom: price\n",
        "order_df[[\"price\"]].hist(figsize=(4, 5), bins=10, xlabelsize=8, ylabelsize=8)\n",
        "plt.show()  # Untuk menampilkan histogram plot"
      ],
      "metadata": {
        "id": "_8Tj8gR6g9IG",
        "colab": {
          "base_uri": "https://localhost:8080/",
          "height": 348
        },
        "outputId": "fd586041-e404-4f15-ef7b-3852cde779ee"
      },
      "execution_count": 1,
      "outputs": [
        {
          "output_type": "display_data",
          "data": {
            "text/plain": [
              "<Figure size 288x360 with 1 Axes>"
            ],
            "image/png": "[encoded data removed]"
          },
          "metadata": {
            "needs_background": "light"
          }
        }
      ]
    },
    {
      "cell_type": "markdown",
      "source": [
        "# **Tugas Praktek**"
      ],
      "metadata": {
        "id": "l6PiEpOmrSyO"
      }
    },
    {
      "cell_type": "code",
      "source": [
        "import pandas as pd\n",
        "order_df = pd.read_csv(\"https://storage.googleapis.com/dqlab-dataset/order.csv\")\n",
        "# Standar variasi kolom product_weight_gram\n",
        "order_df.loc[:, \"product_weight_gram\"].std()\n",
        "# Varians kolom product_weight_gram\n",
        "order_df.loc[:, \"product_weight_gram\"].var()"
      ],
      "metadata": {
        "colab": {
          "base_uri": "https://localhost:8080/"
        },
        "id": "CbxNAKmxr4iG",
        "outputId": "ab34c2ad-bc9d-4b33-c00a-8d9bff5ea50e"
      },
      "execution_count": 2,
      "outputs": [
        {
          "output_type": "execute_result",
          "data": {
            "text/plain": [
              "15444089.451063491"
            ]
          },
          "metadata": {},
          "execution_count": 2
        }
      ]
    },
    {
      "cell_type": "markdown",
      "source": [
        "# **Tugas Praktek**"
      ],
      "metadata": {
        "id": "TLKUNeySr5CI"
      }
    },
    {
      "cell_type": "code",
      "source": [
        "import pandas as pd\n",
        "order_df = pd.read_csv(\"https://storage.googleapis.com/dqlab-dataset/order.csv\")\n",
        "# Hitung quartile 1\n",
        "Q1 = order_df[[\"product_weight_gram\"]].quantile(0.25)\n",
        "# Hitung quartile 3\n",
        "Q3 = order_df[[\"product_weight_gram\"]].quantile(0.75)\n",
        "# Hitung inter quartile range dan cetak ke console\n",
        "IQR = Q3 - Q1\n",
        "print(IQR)"
      ],
      "metadata": {
        "colab": {
          "base_uri": "https://localhost:8080/"
        },
        "id": "j5cVQREqs1bG",
        "outputId": "33da090c-6570-4079-be21-97df3b25eaad"
      },
      "execution_count": 3,
      "outputs": [
        {
          "output_type": "stream",
          "name": "stdout",
          "text": [
            "product_weight_gram    1550.0\n",
            "dtype: float64\n"
          ]
        }
      ]
    },
    {
      "cell_type": "markdown",
      "source": [
        "# **Tugas Praktek**"
      ],
      "metadata": {
        "id": "hafcQsles52w"
      }
    },
    {
      "cell_type": "code",
      "source": [
        "import pandas as pd\n",
        "order_df = pd.read_csv(\"https://storage.googleapis.com/dqlab-dataset/order.csv\")\n",
        "# Ganti nama kolom freight_value menjadi shipping_cost\n",
        "order_df.rename(columns={\"freight_value\": \"shipping_cost\"}, inplace=True)\n",
        "print(order_df)"
      ],
      "metadata": {
        "colab": {
          "base_uri": "https://localhost:8080/"
        },
        "id": "7OIaR-HxtdL7",
        "outputId": "734c9dc1-b972-4044-a2d3-4e0b1970bde3"
      },
      "execution_count": 4,
      "outputs": [
        {
          "output_type": "stream",
          "name": "stdout",
          "text": [
            "                               order_id  quantity  \\\n",
            "0      2e7a8482f6fb09756ca50c10d7bfc047         2   \n",
            "1      2e7a8482f6fb09756ca50c10d7bfc047         1   \n",
            "2      e5fa5a7210941f7d56d0208e4e071d35         1   \n",
            "3      3b697a20d9e427646d92567910af6d57         1   \n",
            "4      71303d7e93b399f5bcd537d124c0bcfa         1   \n",
            "...                                 ...       ...   \n",
            "49994  ec88157ad03aa203c3fdfe7bace5ab6b         1   \n",
            "49995  ed60085e92e2aa3debf49159deb34da7         1   \n",
            "49996  ed98c37d860890f940e2acd83629fdd1         2   \n",
            "49997  ed98c37d860890f940e2acd83629fdd1         1   \n",
            "49998  ede4ebbb6e36cbd377eabcc7f5229575         1   \n",
            "\n",
            "                             product_id    price  \\\n",
            "0      f293394c72c9b5fafd7023301fc21fc2  1489000   \n",
            "1      c1488892604e4ba5cff5b4eb4d595400  1756000   \n",
            "2      f3c2d01a84c947b078e32bbef0718962  1707000   \n",
            "3      3ae08df6bcbfe23586dd431c40bddbb7  3071000   \n",
            "4      d2998d7ced12f83f9b832f33cf6507b6  3833000   \n",
            "...                                 ...      ...   \n",
            "49994  165f86fe8b799a708a20ee4ba125c289  3077000   \n",
            "49995  6e835aea84ae8eb68b8c14878dd43b30  1277000   \n",
            "49996  aca2eb7d00ea1a7b8ebd4e68314663af   486000   \n",
            "49997  aca2eb7d00ea1a7b8ebd4e68314663af   830000   \n",
            "49998  2b0ee2d07306f7c9ac55a43166e9bb4b   215000   \n",
            "\n",
            "                              seller_id  shipping_cost  \\\n",
            "0      1554a68530182680ad5c8b042c3ab563          28000   \n",
            "1      1554a68530182680ad5c8b042c3ab563          45000   \n",
            "2      a425f92c199eb576938df686728acd20         174000   \n",
            "3      522620dcb18a6b31cd7bdf73665113a9         154000   \n",
            "4      25e6ffe976bd75618accfe16cefcbd0d         147000   \n",
            "...                                 ...            ...   \n",
            "49994  7ddcbb64b5bc1ef36ca8c151f6ec77df         172000   \n",
            "49995  4d6d651bd7684af3fffabd5f08d12e5a         130000   \n",
            "49996  955fee9216a65b617aa5c0531780ce60          14000   \n",
            "49997  955fee9216a65b617aa5c0531780ce60         108000   \n",
            "49998  1900267e848ceeba8fa32d80c1a5f5a8         189000   \n",
            "\n",
            "                            customer_id order_status purchase_date  \\\n",
            "0      08c5351a6aca1c1589a38f244edeee9d      shipped    2016-09-05   \n",
            "1      08c5351a6aca1c1589a38f244edeee9d      shipped    2016-09-05   \n",
            "2      683c54fc24d40ee9f8a6fc179fd9856c     canceled    2016-09-05   \n",
            "3      355077684019f7f60a031656bd7262b8    delivered    2016-10-03   \n",
            "4      b106b360fe2ef8849fbbd056f777b4d5     canceled    2016-10-03   \n",
            "...                                 ...          ...           ...   \n",
            "49994  1642b8087a8ca0c8592becff7e183c98    delivered    2017-12-15   \n",
            "49995  431bbb57d52f3141ab2f33a6a4cf00a6    delivered    2017-12-15   \n",
            "49996  71f8cd490677ee95362201588c0eaff4    delivered    2017-12-15   \n",
            "49997  71f8cd490677ee95362201588c0eaff4    delivered    2017-12-15   \n",
            "49998  60d2d93a97ec1ad751f2ddce9249ba2a    delivered    2017-12-15   \n",
            "\n",
            "          payment_type product_category_name  product_weight_gram  \n",
            "0      virtual account               fashion               1800.0  \n",
            "1      virtual account            automotive               1400.0  \n",
            "2             e-wallet                  toys                700.0  \n",
            "3             e-wallet             utilities                300.0  \n",
            "4             e-wallet               fashion                500.0  \n",
            "...                ...                   ...                  ...  \n",
            "49994         e-wallet            automotive               2425.0  \n",
            "49995       debit card                beauty               2350.0  \n",
            "49996       debit card                gadget               2600.0  \n",
            "49997         e-wallet                gadget               2600.0  \n",
            "49998      credit card                beauty               1450.0  \n",
            "\n",
            "[49999 rows x 12 columns]\n"
          ]
        }
      ]
    },
    {
      "cell_type": "markdown",
      "source": [
        "# **Tugas Praktik**"
      ],
      "metadata": {
        "id": "JsBjB5-5tgKT"
      }
    },
    {
      "cell_type": "code",
      "source": [
        "import pandas as pd\n",
        "order_df = pd.read_csv(\"https://storage.googleapis.com/dqlab-dataset/order.csv\")\n",
        "# Hitung rata rata dari price per payment_type\n",
        "rata_rata = order_df[\"price\"].groupby(order_df[\"payment_type\"]).mean()\n",
        "print(rata_rata)"
      ],
      "metadata": {
        "colab": {
          "base_uri": "https://localhost:8080/"
        },
        "id": "-8iqhlNpuGqJ",
        "outputId": "34f707ca-0072-40b1-bf27-4e42ec969b31"
      },
      "execution_count": 5,
      "outputs": [
        {
          "output_type": "stream",
          "name": "stdout",
          "text": [
            "payment_type\n",
            "credit card        2.600706e+06\n",
            "debit card         2.611974e+06\n",
            "e-wallet           2.598562e+06\n",
            "virtual account    2.619786e+06\n",
            "Name: price, dtype: float64\n"
          ]
        }
      ]
    },
    {
      "cell_type": "markdown",
      "source": [
        "# **Tugas Praktik**"
      ],
      "metadata": {
        "id": "-E71y5mIuIda"
      }
    },
    {
      "cell_type": "code",
      "source": [
        "import pandas as pd\n",
        "order_df = pd.read_csv(\"https://storage.googleapis.com/dqlab-dataset/order.csv\")\n",
        "# Hitung harga maksimum pembelian customer\n",
        "sort_harga = order_df.sort_values(by=\"price\", ascending=False)\n",
        "print(sort_harga)"
      ],
      "metadata": {
        "colab": {
          "base_uri": "https://localhost:8080/"
        },
        "id": "DxuaMx-WukL3",
        "outputId": "80ec425b-38bb-4437-ac86-653b5e9fd509"
      },
      "execution_count": 6,
      "outputs": [
        {
          "output_type": "stream",
          "name": "stdout",
          "text": [
            "                               order_id  quantity  \\\n",
            "37085  d7b2d3b902441cf3dd12cd125533217d         1   \n",
            "41958  2711089c7fec59d4dc8483e3c6a12fa3         1   \n",
            "3976   f343624eab419250ad81f1ce6be22c93         1   \n",
            "21072  c8947a583ab9791a5a9d02384cb84302         1   \n",
            "47074  f6134169ca6f0cdfbe6458ebb5731613         1   \n",
            "...                                 ...       ...   \n",
            "33786  0d9e86e02c1a823b20c03ea29d616607         1   \n",
            "42166  54220fcc516cabe9ec84b210c0765ef2         1   \n",
            "31745  59a19c83ff825948739dd1601cc107b6         1   \n",
            "42452  9960ee97c2f8d801a200a01893b3942f         1   \n",
            "11939  64619901c45fba79638d666058bf6be6         1   \n",
            "\n",
            "                             product_id    price  \\\n",
            "37085  35afc973633aaeb6b877ff57b2793310  5000000   \n",
            "41958  7c1bd920dbdf22470b68bde975dd3ccf  5000000   \n",
            "3976   777d2e438a1b645f3aec9bd57e92672c  5000000   \n",
            "21072  f8cfb63e323be2e1c4172f255d61843d  5000000   \n",
            "47074  2ea92fab7565c4fe9f91a5e4e1756258  5000000   \n",
            "...                                 ...      ...   \n",
            "33786  f93213a23c50edc16c27b96333f734dc   200000   \n",
            "42166  1166bc797ddf5fb009c376d133f61204   200000   \n",
            "31745  eb38a7604070a2b8465101ed53cba72b   200000   \n",
            "42452  db5efde3ad0cc579b130d71c4b2db522   200000   \n",
            "11939  06c6e01186af8b98ee1fc9e01f9471e9   200000   \n",
            "\n",
            "                              seller_id  freight_value  \\\n",
            "37085  4a3ca9315b744ce9f8e9374361493884         118000   \n",
            "41958  cc419e0650a3c5ba77189a1882b7556a          31000   \n",
            "3976   4a3ca9315b744ce9f8e9374361493884         101000   \n",
            "21072  4a3ca9315b744ce9f8e9374361493884         184000   \n",
            "47074  3d871de0142ce09b7081e2b9d1733cb1         196000   \n",
            "...                                 ...            ...   \n",
            "33786  46dc3b2cc0980fb8ec44634e21d2718e         141000   \n",
            "42166  5cbbd5a299cab112b7bf23862255e43e         175000   \n",
            "31745  e6a69c4a27dfdd98ffe5aa757ad744bc         112000   \n",
            "42452  4869f7a5dfa277a7dca6462dcf3b52b2          26000   \n",
            "11939  fc906263ca5083d09dce42fe02247800          98000   \n",
            "\n",
            "                            customer_id order_status purchase_date  \\\n",
            "37085  217344c7c334e16c8e76551b4b240c1d    delivered    2017-10-31   \n",
            "41958  0ef59d9bb071def3dbf7e7b055965e95    delivered    2017-11-24   \n",
            "3976   3fc0d940852ab274e532e80b1c1d5c2f    delivered    2017-03-07   \n",
            "21072  57c047e791e69bef0af220b0a165a22d    delivered    2017-07-27   \n",
            "47074  cbfdcc896d6ebc83c21fdcf4f4762efc    delivered    2017-12-04   \n",
            "...                                 ...          ...           ...   \n",
            "33786  edaad9e07395713e9f5a2124f6c846a1    delivered    2017-10-13   \n",
            "42166  24e7dc2ff8c07126358af519732b8558    delivered    2017-11-24   \n",
            "31745  2bf857ee40b763708fe19cf877cac511    delivered    2017-10-01   \n",
            "42452  54af40597a8931fea3fbb2b37656fc8d    delivered    2017-11-24   \n",
            "11939  3a1dda1ede23d7e71753e80d7f22c2c4    delivered    2017-05-21   \n",
            "\n",
            "          payment_type product_category_name  product_weight_gram  \n",
            "37085       debit card                beauty               1825.0  \n",
            "41958         e-wallet               fashion                200.0  \n",
            "3976        debit card                gadget                950.0  \n",
            "21072      credit card                beauty                550.0  \n",
            "47074  virtual account                gadget              10600.0  \n",
            "...                ...                   ...                  ...  \n",
            "33786       debit card            automotive               7550.0  \n",
            "42166         e-wallet                gadget               1100.0  \n",
            "31745         e-wallet                beauty                550.0  \n",
            "42452      credit card            automotive               6663.0  \n",
            "11939  virtual account            automotive                200.0  \n",
            "\n",
            "[49999 rows x 12 columns]\n"
          ]
        }
      ]
    }
  ]
}