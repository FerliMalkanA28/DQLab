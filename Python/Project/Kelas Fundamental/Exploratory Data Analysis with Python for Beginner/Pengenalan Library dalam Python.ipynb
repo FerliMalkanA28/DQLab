{
  "nbformat": 4,
  "nbformat_minor": 0,
  "metadata": {
    "colab": {
      "provenance": []
    },
    "kernelspec": {
      "name": "python3",
      "display_name": "Python 3"
    },
    "language_info": {
      "name": "python"
    }
  },
  "cells": [
    {
      "cell_type": "markdown",
      "source": [
        "# **Pengenalan Library dalam Python**"
      ],
      "metadata": {
        "id": "rJ4DJG1Yg8ZH"
      }
    },
    {
      "cell_type": "markdown",
      "source": [
        "Pada bagian ini Kamu akan diperkenalkan pada library Python yang biasa digunakan dalam analisis data."
      ],
      "metadata": {
        "id": "ul5e3QQ5hEGQ"
      }
    },
    {
      "cell_type": "markdown",
      "source": [
        "# **Memanggil library di Python**\n"
      ],
      "metadata": {
        "id": "3ADnKAyQg856"
      }
    },
    {
      "cell_type": "code",
      "source": [
        "import numpy as np\n",
        "import pandas as pd"
      ],
      "metadata": {
        "id": "_8Tj8gR6g9IG"
      },
      "execution_count": null,
      "outputs": []
    }
  ]
}