{
  "nbformat": 4,
  "nbformat_minor": 0,
  "metadata": {
    "colab": {
      "provenance": []
    },
    "kernelspec": {
      "name": "python3",
      "display_name": "Python 3"
    },
    "language_info": {
      "name": "python"
    }
  },
  "cells": [
    {
      "cell_type": "markdown",
      "source": [
        "# **Mini Project**\n"
      ],
      "metadata": {
        "id": "rJ4DJG1Yg8ZH"
      }
    },
    {
      "cell_type": "markdown",
      "source": [
        "Pada bagian ini Kamu akan diberikan suatu studi kasus sederhana yang akan mengukur pemahaman Kamu dari modul \"Exploratory Data Analysis with Python for Beginner\"."
      ],
      "metadata": {
        "id": "ul5e3QQ5hEGQ"
      }
    },
    {
      "cell_type": "markdown",
      "source": [
        "# **Tugas dari Andra**\n"
      ],
      "metadata": {
        "id": "TwC5yXJkL0A_"
      }
    },
    {
      "cell_type": "markdown",
      "source": [
        "Aksara, bisa tolong bantu mengurus beberapa data penjualan dari dataset order.csv? Saya sedang rapat dan bahan ini ditunggu dalam pembahasan cabang supermarket kita. Berikut ya detailnya:\n",
        "\n",
        "1. Median price yang dibayar customer dari masing-masing metode pembayaran.\n",
        "2. Tentukan metode pembayaran yang memiliki basket size (rataan median price) terbesar.\n",
        "3. Ubah freight_value menjadi shipping_cost dan cari shipping_cost termahal dari data penjualan tersebut menggunakan sort.\n",
        "4. Untuk setiap product_category_name, berapa rata-rata weight produk tersebut dan standar deviasi mana yang terkecil dari weight tersebut,\n",
        "5. Buat histogram quantity penjualan dari dataset tersebut untuk melihat persebaran quantity penjualan tersebut dengan bins = 5 dan figsize= (4,5)\n",
        "\n",
        "Khusus poin 4, tolong diperhatikan lebih ya, Aksara karena hasil analisisnya akan digunakan kepala cabang dalam menyusun strategi free ongkir.\n",
        "\n",
        "Kubalas email itu segera, OK! Hasilnya akan selesai sebelum makan siang ya. You can count on me, hehehe.\n",
        "\n",
        "Perhatian: Semua string dinyatakan dalam kutipan \"...\"."
      ],
      "metadata": {
        "id": "wXEF2HHJL4Ns"
      }
    },
    {
      "cell_type": "code",
      "source": [
        "import pandas as pd\n",
        "import matplotlib.pyplot as plt\n",
        "order_df = pd.read_csv(\"https://storage.googleapis.com/dqlab-dataset/order.csv\")\n",
        "# Median price yang dibayar customer dari masing-masing metode pembayaran. \n",
        "median_price = order_df[\"price\"].groupby(order_df[\"payment_type\"]).median()\n",
        "print(median_price)\n",
        "# Ubah freight_value menjadi shipping_cost dan cari shipping_cost \n",
        "# termahal dari data peproduct_weight_gramnggunakan sort.\n",
        "order_df.rename(columns={\"freight_value\": \"shipping_cost\"}, inplace= True)\n",
        "sort_value = order_df.sort_values(by=\"shipping_cost\", ascending=0)\n",
        "print(sort_value)\n",
        "# Untuk product_category_name, berapa  rata-rata weight produk tersebut \n",
        "# dan standar deviasi mana yang terkecil dari weight tersebut, \n",
        "mean_value = order_df[\"product_weight_gram\"].groupby(order_df[\"product_category_name\"]).mean()\n",
        "print(mean_value.sort_values())\n",
        "std_value = order_df[\"product_weight_gram\"].groupby(order_df[\"product_category_name\"]).std()\n",
        "print(std_value.sort_values())\n",
        "# Buat histogram quantity penjualan dari dataset tersebutuntuk melihat persebaran quantity \n",
        "# penjualan tersebut dengan bins = 5 dan figsize= (4,5)\n",
        "order_df[[\"quantity\"]].hist(figsize=(4, 5), bins=5)\n",
        "plt.show()"
      ],
      "metadata": {
        "colab": {
          "base_uri": "https://localhost:8080/",
          "height": 1000
        },
        "id": "xl7SCJjSMKpD",
        "outputId": "1eb68254-7118-45b0-eb35-af0294e951c0"
      },
      "execution_count": 1,
      "outputs": [
        {
          "output_type": "stream",
          "name": "stdout",
          "text": [
            "payment_type\n",
            "credit card        2587500.0\n",
            "debit card         2621500.0\n",
            "e-wallet           2589000.0\n",
            "virtual account    2643000.0\n",
            "Name: price, dtype: float64\n",
            "                               order_id  quantity  \\\n",
            "23829  7d63cb1d349e7bd0ee1edcc61ea71077         1   \n",
            "12011  00c9f7d4b0e87781465e562dc109f6aa         1   \n",
            "10984  69013d19f8db4cd7dc9f3b5c2564a96f         1   \n",
            "29722  f32c4d2b078bc5a354f4c1184522b5ff         1   \n",
            "15259  c8eab0ccabe8cdfc2afce66c1c554ae2         1   \n",
            "...                                 ...       ...   \n",
            "2891   1d0e8770169496e47622b6cbc0d10bda         1   \n",
            "36815  4bff82a994068f564e54b52b08ef4512         2   \n",
            "8175   e6b1fa22555c3064f984ebeb8a88de77         1   \n",
            "4034   8ac2728285fd4228f35d907768b5288a         4   \n",
            "32994  0286e258217733541e80588e29c208c1         1   \n",
            "\n",
            "                             product_id    price  \\\n",
            "23829  75d6b6963340c6063f7f4cfcccfe6a30  1472000   \n",
            "12011  1a0d662b65b5ef08796501b064c853af  4543000   \n",
            "10984  10d196ec072e2d8382c7ec9c942d7ea8  4137000   \n",
            "29722  0f789be671fe3bd93cabfbb4a710f282  4802000   \n",
            "15259  800f75019492a0d9ffb2483ae65b59f1  4078000   \n",
            "...                                 ...      ...   \n",
            "2891   3fc0f58c51fcd02161542e0320c4dbe7  4135000   \n",
            "36815  24d8da2d499efba175b1092826b7e390  2879000   \n",
            "8175   6fd82d8f842424334fedf31190e54d24  2947000   \n",
            "4034   fa94f25a73969e3a25d52706e246dfcc   967000   \n",
            "32994  3c4223262d31fa35043380da246fb0fa  3337000   \n",
            "\n",
            "                              seller_id  shipping_cost  \\\n",
            "23829  cc419e0650a3c5ba77189a1882b7556a         200000   \n",
            "12011  2e0dba2da448400b1c11d7b4b22f32a4         200000   \n",
            "10984  d12c926d74ceff0a90a21184466ce161         200000   \n",
            "29722  259f7b5e6e482c230e5bfaa670b6bb8f         200000   \n",
            "15259  efcd8d2104f1a05d028af7bad20d974b         200000   \n",
            "...                                 ...            ...   \n",
            "2891   82e0a475a88cc9595229d8029273f045           9000   \n",
            "36815  d12c926d74ceff0a90a21184466ce161           9000   \n",
            "8175   6560211a19b47992c3666cc44a7e94c0           9000   \n",
            "4034   004c9cd9d87a3c30c522c48c4fc07416           9000   \n",
            "32994  cb3dd9ce66268c7a3ca7241ac70ab58c           9000   \n",
            "\n",
            "                            customer_id order_status purchase_date  \\\n",
            "23829  484711e3d14ac75fb874e949b3a28395    delivered    2017-08-14   \n",
            "12011  cea80f9af87104810bd7fa9698f69d29    delivered    2017-05-22   \n",
            "10984  9cf423929ed7f738fd0a0e88607a79fd    delivered    2017-05-15   \n",
            "29722  5a1523d32a6d1b323a05895f5164655d    delivered    2017-09-18   \n",
            "15259  2339ab3abbeebe72f2782a01c87a9bc0    delivered    2017-06-14   \n",
            "...                                 ...          ...           ...   \n",
            "2891   e3cfff24939005d30dd3a046848227d6    delivered    2017-02-22   \n",
            "36815  2e998a151ac7a977d4a7e806346e0092    delivered    2017-10-30   \n",
            "8175   02d6ca625564571402a933db8fe814f0    delivered    2017-04-21   \n",
            "4034   6b5e281c1563241783deb3a2636daa28    delivered    2017-03-08   \n",
            "32994  010583f85dd55d32a6db1068f58ca6f1    delivered    2017-10-09   \n",
            "\n",
            "          payment_type product_category_name  product_weight_gram  \n",
            "23829      credit card                gadget                400.0  \n",
            "12011         e-wallet                  toys                900.0  \n",
            "10984      credit card             utilities                250.0  \n",
            "29722      credit card                  toys                450.0  \n",
            "15259       debit card                sports                100.0  \n",
            "...                ...                   ...                  ...  \n",
            "2891        debit card               fashion                900.0  \n",
            "36815         e-wallet               fashion                150.0  \n",
            "8175   virtual account           electronics                250.0  \n",
            "4034   virtual account               fashion               1700.0  \n",
            "32994  virtual account             utilities                700.0  \n",
            "\n",
            "[49999 rows x 12 columns]\n",
            "product_category_name\n",
            "beauty         2120.088396\n",
            "automotive     2129.559039\n",
            "electronics    2144.751191\n",
            "toys           2203.863643\n",
            "gadget         2229.632942\n",
            "fashion        2246.516901\n",
            "sports         2251.879909\n",
            "utilities      2291.029868\n",
            "Name: product_weight_gram, dtype: float64\n",
            "product_category_name\n",
            "automotive     3799.884166\n",
            "beauty         3837.474929\n",
            "electronics    3839.271768\n",
            "fashion        3858.885213\n",
            "gadget         3955.792741\n",
            "toys           3956.814749\n",
            "sports         4032.850044\n",
            "utilities      4150.509909\n",
            "Name: product_weight_gram, dtype: float64\n"
          ]
        },
        {
          "output_type": "display_data",
          "data": {
            "text/plain": [
              "<Figure size 288x360 with 1 Axes>"
            ],
            "image/png": "[encoded data removed]"
          },
          "metadata": {
            "needs_background": "light"
          }
        }
      ]
    }
  ]
}