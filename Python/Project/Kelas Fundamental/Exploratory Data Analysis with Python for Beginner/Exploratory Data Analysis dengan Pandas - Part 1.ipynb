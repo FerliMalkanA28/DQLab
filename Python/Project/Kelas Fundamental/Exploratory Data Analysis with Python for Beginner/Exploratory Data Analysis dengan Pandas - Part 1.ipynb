{
  "nbformat": 4,
  "nbformat_minor": 0,
  "metadata": {
    "colab": {
      "provenance": []
    },
    "kernelspec": {
      "name": "python3",
      "display_name": "Python 3"
    },
    "language_info": {
      "name": "python"
    }
  },
  "cells": [
    {
      "cell_type": "markdown",
      "source": [
        "# **Exploratory Data Analysis dengan Pandas - Part 1**"
      ],
      "metadata": {
        "id": "rJ4DJG1Yg8ZH"
      }
    },
    {
      "cell_type": "markdown",
      "source": [
        "Pada bagian ini Kamu akan mempelajari Exploratory Data Analysis  (EDA) dengan menggunakan library pandas."
      ],
      "metadata": {
        "id": "ul5e3QQ5hEGQ"
      }
    },
    {
      "cell_type": "markdown",
      "source": [
        "# **Tugas Praktek**\n"
      ],
      "metadata": {
        "id": "3ADnKAyQg856"
      }
    },
    {
      "cell_type": "code",
      "source": [
        "import pandas as pd\n",
        "order_df = pd.read_csv(\"https://storage.googleapis.com/dqlab-dataset/order.csv\")"
      ],
      "metadata": {
        "id": "_8Tj8gR6g9IG"
      },
      "execution_count": null,
      "outputs": []
    },
    {
      "cell_type": "markdown",
      "source": [
        "# **Tugas Praktek**\n"
      ],
      "metadata": {
        "id": "aJf0v4ful9Jt"
      }
    },
    {
      "cell_type": "code",
      "source": [
        "import pandas as pd\n",
        "order_df = pd.read_csv(\"https://storage.googleapis.com/dqlab-dataset/order.csv\")\n",
        "print(order_df.shape)"
      ],
      "metadata": {
        "id": "iz3INtKCmKqV"
      },
      "execution_count": null,
      "outputs": []
    },
    {
      "cell_type": "markdown",
      "source": [
        "# **Tugas Praktek**\n"
      ],
      "metadata": {
        "id": "LB4jlnP_mQ6B"
      }
    },
    {
      "cell_type": "code",
      "source": [
        "import pandas as pd\n",
        "order_df = pd.read_csv(\"https://storage.googleapis.com/dqlab-dataset/order.csv\")\n",
        "print(order_df.head(10))"
      ],
      "metadata": {
        "id": "5ldjsy-ymiTb"
      },
      "execution_count": null,
      "outputs": []
    },
    {
      "cell_type": "markdown",
      "source": [
        "# **Tugas Praktek**"
      ],
      "metadata": {
        "id": "RqEWQO3pmmFv"
      }
    },
    {
      "cell_type": "code",
      "source": [
        "import pandas as pd\n",
        "order_df = pd.read_csv(\"https://storage.googleapis.com/dqlab-dataset/order.csv\")\n",
        "# Quick summary  dari segi kuantitas, harga, freight value, dan weight\n",
        "print(order_df.describe())\n",
        "# Median dari total pembelian konsumen per transaksi kolom price\n",
        "print(order_df.loc[:, \"price\"].median())"
      ],
      "metadata": {
        "id": "X4Kj8FQHdk-d"
      },
      "execution_count": null,
      "outputs": []
    }
  ]
}