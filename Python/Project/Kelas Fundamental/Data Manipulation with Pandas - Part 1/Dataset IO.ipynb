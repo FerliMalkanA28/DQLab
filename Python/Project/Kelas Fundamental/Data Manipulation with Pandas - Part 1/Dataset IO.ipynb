{
  "nbformat": 4,
  "nbformat_minor": 0,
  "metadata": {
    "colab": {
      "provenance": []
    },
    "kernelspec": {
      "name": "python3",
      "display_name": "Python 3"
    },
    "language_info": {
      "name": "python"
    }
  },
  "cells": [
    {
      "cell_type": "markdown",
      "source": [
        "# **Dataset I/O**\n"
      ],
      "metadata": {
        "id": "-eLR9rPL8rot"
      }
    },
    {
      "cell_type": "markdown",
      "source": [
        "Pada bagian ini kamu akan mempelajari bagaimana membaca dan menyimpan dataset dari dan ke beberapa tipe file dengan menggunakan pandas. "
      ],
      "metadata": {
        "id": "CaNn9tXz8yUN"
      }
    },
    {
      "cell_type": "markdown",
      "source": [
        "## Read Dataset - CSV dan TSV\n"
      ],
      "metadata": {
        "id": "bmouCMdjWzeD"
      }
    },
    {
      "cell_type": "code",
      "source": [
        "import pandas as pd\n",
        "# File CSV\n",
        "df_csv = pd.read_csv(\"https://storage.googleapis.com/dqlab-dataset/sample_csv.csv\")\n",
        "print(df_csv.head(3)) # Menampilkan 3 data teratas\n",
        "# File TSV\n",
        "df_tsv = pd.read_csv(\"https://storage.googleapis.com/dqlab-dataset/sample_tsv.tsv\", sep='\\t')\n",
        "print(df_tsv.head(3)) # Menampilkan 3 data teratas"
      ],
      "metadata": {
        "colab": {
          "base_uri": "https://localhost:8080/"
        },
        "id": "ck29CusmXZDE",
        "outputId": "92d026e3-0ba0-4a46-be5a-abc4e1b8c6e7"
      },
      "execution_count": null,
      "outputs": [
        {
          "output_type": "stream",
          "name": "stdout",
          "text": [
            "   order_id  order_date  customer_id             city     province product_id  \\\n",
            "0   1612339  2019-01-01        18055  Jakarta Selatan  DKI Jakarta      P0648   \n",
            "1   1612339  2019-01-01        18055  Jakarta Selatan  DKI Jakarta      P3826   \n",
            "2   1612339  2019-01-01        18055  Jakarta Selatan  DKI Jakarta      P1508   \n",
            "\n",
            "     brand  quantity  item_price  \n",
            "0  BRAND_C         4     1934000  \n",
            "1  BRAND_V         8      604000  \n",
            "2  BRAND_G        12      747000  \n",
            "   order_id  order_date  customer_id             city     province product_id  \\\n",
            "0   1612339  2019-01-01        18055  Jakarta Selatan  DKI Jakarta      P0648   \n",
            "1   1612339  2019-01-01        18055  Jakarta Selatan  DKI Jakarta      P3826   \n",
            "2   1612339  2019-01-01        18055  Jakarta Selatan  DKI Jakarta      P1508   \n",
            "\n",
            "     brand  quantity  item_price  \n",
            "0  BRAND_C         4     1934000  \n",
            "1  BRAND_V         8      604000  \n",
            "2  BRAND_G        12      747000  \n"
          ]
        }
      ]
    },
    {
      "cell_type": "markdown",
      "source": [
        "## Read Dataset - Excel\n"
      ],
      "metadata": {
        "id": "QRIsH9ikXa8A"
      }
    },
    {
      "cell_type": "code",
      "source": [
        "import pandas as pd\n",
        "# File xlsx dengan data di sheet \"test\"\n",
        "df_excel = pd.read_excel(\"https://storage.googleapis.com/dqlab-dataset/sample_excel.xlsx\", sheet_name=\"test\")\n",
        "print(df_excel.head(4)) # Menampilkan 4 data teratas"
      ],
      "metadata": {
        "id": "aBwpxm2d0l7_"
      },
      "execution_count": null,
      "outputs": []
    },
    {
      "cell_type": "markdown",
      "source": [
        "## Read Dataset - JSON"
      ],
      "metadata": {
        "id": "K5YhRs121fI2"
      }
    },
    {
      "cell_type": "code",
      "source": [
        "import pandas as pd\n",
        "# File JSON\n",
        "url = \"https://storage.googleapis.com/dqlab-dataset/covid2019-api-herokuapp-v2.json\"\n",
        "df_json = pd.read_json(url)\n",
        "print(df_json.head(10)) # Menampilkan 10 data teratas"
      ],
      "metadata": {
        "id": "JM2TG3vK15zV"
      },
      "execution_count": null,
      "outputs": []
    },
    {
      "cell_type": "markdown",
      "source": [
        "## Read Dataset - SQL\n"
      ],
      "metadata": {
        "id": "Z6zbFDcw16aw"
      }
    },
    {
      "cell_type": "code",
      "source": [
        "import mysql.connector\n",
        "import pandas as pd\n",
        "# Membuat koneksi ke database financial di https://relational.fit.cvut.cz/dataset/Financial\n",
        "my_conn = mysql.connector.connect(host=\"relational.fit.cvut.cz\",\n",
        "                                  port=3306,\n",
        "                                  user=\"guest\",\n",
        "                                  passwd=\"relational\",\n",
        "                                  database=\"financial\",\n",
        "                                  use_pure=True)\n",
        "# Buatlah query sql untuk membaca tabel loan\n",
        "my_query = \"SELECT * FROM loan;\"\n",
        "# Gunakanlah .read_sql_query untuk membaca tabel load tersebut\n",
        "df_loan = pd.read_sql_query(my_query, my_conn)\n",
        "# Tampilkan 5 data teratas\n",
        "df_loan.head()\n",
        "# Jika menggunakan .read_sql\n",
        "df_loan_ = pd.read_sql(my_query, my_conn)\n",
        "# Tampilkan 5 data teratas\n",
        "df_loan_.head()"
      ],
      "metadata": {
        "id": "Mf-agmLe2bzy"
      },
      "execution_count": null,
      "outputs": []
    },
    {
      "cell_type": "markdown",
      "source": [
        "## Read Dataset - Google BigQuery\n"
      ],
      "metadata": {
        "id": "pJxcCK0n3YK4"
      }
    },
    {
      "cell_type": "code",
      "source": [
        "import pandas as pd\n",
        "# Buat query\n",
        "query = \"SELECT * FROM 'bigquery-public-data.covid19_jhu_csse_eu.summary' LIMIT 1000;\"\n",
        "# Baca data dari Google Big Query\n",
        "df_covid19_eu_summary = pd.read_gbq(query, project_id=\"XXXXXXXX\")\n",
        "# Tampilkan 5 data teratas\n",
        "df_covid19_eu_summary"
      ],
      "metadata": {
        "id": "d9yrqaL53cpz"
      },
      "execution_count": null,
      "outputs": []
    },
    {
      "cell_type": "markdown",
      "source": [
        "## Write Dataset\n",
        "link : https://academy.dqlab.id/main/livecode/178/347/1699?pr=0"
      ],
      "metadata": {
        "id": "7qdqA6Oj5efb"
      }
    },
    {
      "cell_type": "markdown",
      "source": [
        "## Head & Tail\n"
      ],
      "metadata": {
        "id": "DbZVglrB5j9h"
      }
    },
    {
      "cell_type": "code",
      "source": [
        "import pandas as pd\n",
        "# Baca file sample_csv.csv\n",
        "df = pd.read_csv('https://storage.googleapis.com/dqlab-dataset/sample_csv.csv')\n",
        "# Tampilkan 3 data teratas\n",
        "print(\"Tiga data teratas:\\n\", df.head(3))\n",
        "# Tampilkan 3 data terbawah\n",
        "print(\"Tiga data terbawah:\\n\", df.tail(3))"
      ],
      "metadata": {
        "id": "RSq_Jwkr5jOd"
      },
      "execution_count": null,
      "outputs": []
    }
  ]
}