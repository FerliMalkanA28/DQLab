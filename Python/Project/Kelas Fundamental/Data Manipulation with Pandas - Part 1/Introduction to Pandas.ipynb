{
  "nbformat": 4,
  "nbformat_minor": 0,
  "metadata": {
    "colab": {
      "provenance": []
    },
    "kernelspec": {
      "name": "python3",
      "display_name": "Python 3"
    },
    "language_info": {
      "name": "python"
    }
  },
  "cells": [
    {
      "cell_type": "markdown",
      "source": [
        "# **Introduction to Pandas**\n"
      ],
      "metadata": {
        "id": "-eLR9rPL8rot"
      }
    },
    {
      "cell_type": "markdown",
      "source": [
        "Pada bagian ini kamu akan mempelajari apa itu pandas, tipe data pada pandas yaitu berupa series dan data frame, dan bagaimana cara membentuknya dari awal (from scratch).\n",
        "\n"
      ],
      "metadata": {
        "id": "CaNn9tXz8yUN"
      }
    },
    {
      "cell_type": "markdown",
      "source": [
        "## Memanggil Library Pandas\n"
      ],
      "metadata": {
        "id": "yWp4ns3q8oRG"
      }
    },
    {
      "cell_type": "code",
      "source": [
        "import pandas as pd\n",
        "import numpy as np"
      ],
      "metadata": {
        "id": "m27wOUbK8z_j"
      },
      "execution_count": 1,
      "outputs": []
    },
    {
      "cell_type": "markdown",
      "source": [
        "## DataFrame & Series\n"
      ],
      "metadata": {
        "id": "Ix0I9Lqc897e"
      }
    },
    {
      "cell_type": "code",
      "source": [
        "import pandas as pd\n",
        "# Series\n",
        "number_list = pd.Series([1,2,3,4,5,6])\n",
        "print(\"Series:\")\n",
        "print(number_list)\n",
        "# DataFrame\n",
        "matrix = [[1, 2, 3],\n",
        "          ['a', 'b', 'c'],\n",
        "          [3, 4, 5],\n",
        "          ['d', 4, 6]]\n",
        "matrix_list = pd.DataFrame(matrix)\n",
        "print(\"DataFrame:\")\n",
        "print(matrix_list)"
      ],
      "metadata": {
        "id": "adJ_tdw29cMA",
        "outputId": "b4ac3848-f88f-4c49-a847-fdcf3e5af6ea",
        "colab": {
          "base_uri": "https://localhost:8080/"
        }
      },
      "execution_count": 2,
      "outputs": [
        {
          "output_type": "stream",
          "name": "stdout",
          "text": [
            "Series:\n",
            "0    1\n",
            "1    2\n",
            "2    3\n",
            "3    4\n",
            "4    5\n",
            "5    6\n",
            "dtype: int64\n",
            "DataFrame:\n",
            "   0  1  2\n",
            "0  1  2  3\n",
            "1  a  b  c\n",
            "2  3  4  5\n",
            "3  d  4  6\n"
          ]
        }
      ]
    },
    {
      "cell_type": "markdown",
      "source": [
        "## Atribut DataFrame & Series - Part 1"
      ],
      "metadata": {
        "id": "iT_k-GbwXLTP"
      }
    },
    {
      "cell_type": "code",
      "source": [
        "import pandas as pd\n",
        "# Series\n",
        "number_list = pd.Series([1,2,3,4,5,6])\n",
        "# DataFrame\n",
        "matrix_list = pd.DataFrame([[1,2,3],\n",
        "\t\t\t\t            ['a','b','c'],\n",
        "\t\t\t\t            [3,4,5],\n",
        "\t\t\t\t            ['d',4,6]])\n",
        "# [1] method .info()\n",
        "print(\"[1] method .info()\")\n",
        "print(matrix_list.info())\n",
        "# [2] attribute .shape\n",
        "print(\"\\n[2] attribute .shape\")\n",
        "print(\"    Shape dari number_list:\", number_list.shape)\n",
        "print(\"    Shape dari matrix_list:\", matrix_list.shape)\n",
        "# [3] attribute .dtypes\n",
        "print(\"\\n[3] attribute .dtypes\")\n",
        "print(\"    Tipe data number_list:\", number_list.dtypes)\n",
        "print(\"    Tipe data matrix_list:\", matrix_list.dtypes)\n",
        "# [4] attribute .astype()\n",
        "print(\"\\n[4] method .astype()\")\n",
        "print(\"    Konversi number_list ke str:\", number_list.astype(\"str\"))\n",
        "print(\"    Konversi matrix_list ke str:\", matrix_list.astype(\"str\"))"
      ],
      "metadata": {
        "id": "BsusEoEfXLd5",
        "outputId": "e9a6eddb-e29c-4287-eb52-6b2ed1323b7f",
        "colab": {
          "base_uri": "https://localhost:8080/"
        }
      },
      "execution_count": 3,
      "outputs": [
        {
          "output_type": "stream",
          "name": "stdout",
          "text": [
            "[1] method .info()\n",
            "<class 'pandas.core.frame.DataFrame'>\n",
            "RangeIndex: 4 entries, 0 to 3\n",
            "Data columns (total 3 columns):\n",
            " #   Column  Non-Null Count  Dtype \n",
            "---  ------  --------------  ----- \n",
            " 0   0       4 non-null      object\n",
            " 1   1       4 non-null      object\n",
            " 2   2       4 non-null      object\n",
            "dtypes: object(3)\n",
            "memory usage: 224.0+ bytes\n",
            "None\n",
            "\n",
            "[2] attribute .shape\n",
            "    Shape dari number_list: (6,)\n",
            "    Shape dari matrix_list: (4, 3)\n",
            "\n",
            "[3] attribute .dtypes\n",
            "    Tipe data number_list: int64\n",
            "    Tipe data matrix_list: 0    object\n",
            "1    object\n",
            "2    object\n",
            "dtype: object\n",
            "\n",
            "[4] method .astype()\n",
            "    Konversi number_list ke str: 0    1\n",
            "1    2\n",
            "2    3\n",
            "3    4\n",
            "4    5\n",
            "5    6\n",
            "dtype: object\n",
            "    Konversi matrix_list ke str:    0  1  2\n",
            "0  1  2  3\n",
            "1  a  b  c\n",
            "2  3  4  5\n",
            "3  d  4  6\n"
          ]
        }
      ]
    },
    {
      "cell_type": "markdown",
      "source": [
        "## Atribut DataFrame & Series - Part 2\n"
      ],
      "metadata": {
        "id": "Sy9rvsE_HS7H"
      }
    },
    {
      "cell_type": "code",
      "source": [
        "import pandas as pd\n",
        "# Series\n",
        "number_list = pd.Series([1,2,3,4,5,6])\n",
        "# DataFrame\n",
        "matrix_list = pd.DataFrame([[1,2,3],\n",
        "\t\t\t\t            ['a','b','c'],\n",
        "\t\t\t\t            [3,4,5],\n",
        "\t\t\t\t            ['d',4,6]])\n",
        "# [5] attribute .copy()\n",
        "print(\"[5] attribute .copy()\")\n",
        "num_list = number_list.copy()\n",
        "print(\"    Copy number_list ke num_list:\", num_list)\n",
        "mtr_list = matrix_list.copy()\n",
        "print(\"    Copy matrix_list ke mtr_list:\", mtr_list)\t\n",
        "# [6] attribute .to_list()\n",
        "print(\"[6] attribute .to_list()\")\n",
        "print(number_list.to_list())\n",
        "# [7] attribute .unique()\n",
        "print(\"[7] attribute .unique()\")\n",
        "print(number_list.unique())"
      ],
      "metadata": {
        "id": "d4FI9xM2HbI2",
        "colab": {
          "base_uri": "https://localhost:8080/"
        },
        "outputId": "c40bd362-0e4d-4ff9-82c3-1398b951059b"
      },
      "execution_count": 4,
      "outputs": [
        {
          "output_type": "stream",
          "name": "stdout",
          "text": [
            "[5] attribute .copy()\n",
            "    Copy number_list ke num_list: 0    1\n",
            "1    2\n",
            "2    3\n",
            "3    4\n",
            "4    5\n",
            "5    6\n",
            "dtype: int64\n",
            "    Copy matrix_list ke mtr_list:    0  1  2\n",
            "0  1  2  3\n",
            "1  a  b  c\n",
            "2  3  4  5\n",
            "3  d  4  6\n",
            "[6] attribute .to_list()\n",
            "[1, 2, 3, 4, 5, 6]\n",
            "[7] attribute .unique()\n",
            "[1 2 3 4 5 6]\n"
          ]
        }
      ]
    },
    {
      "cell_type": "markdown",
      "source": [
        "## Atribut DataFrame & Series - Part 3"
      ],
      "metadata": {
        "id": "BbKR3EabIHgA"
      }
    },
    {
      "cell_type": "code",
      "source": [
        "import pandas as pd\n",
        "# Series\n",
        "number_list = pd.Series([1,2,3,4,5,6])\n",
        "# DataFrame\n",
        "matrix_list = pd.DataFrame([[1,2,3],\n",
        "\t\t\t\t            ['a','b','c'],\n",
        "\t\t\t\t            [3,4,5],\n",
        "\t\t\t\t            ['d',4,6]])\n",
        "# [8] attribute .index\n",
        "print(\"[8] attribute .index\")\n",
        "print(\"    Index number_list:\", number_list.index)\n",
        "print(\"    Index matrix_list:\", matrix_list.index)\t\n",
        "# [9] attribute .columns\n",
        "print(\"[9] attribute .columns\")\n",
        "print(\"    Column matrix_list:\", matrix_list.columns)\n",
        "# [10] attribute .loc\n",
        "print(\"[10] attribute .loc\")\n",
        "print(\"    .loc[0:1] pada number_list:\", number_list.loc[0:1])\n",
        "print(\"    .loc[0:1] pada matrix_list:\", matrix_list.loc[0:1])\n",
        "# [11] attribute .iloc\n",
        "print(\"[11] attribute .iloc\")\n",
        "print(\"    iloc[0:1] pada number_list:\", number_list.iloc[0:1])\n",
        "print(\"    iloc[0:1] pada matrix_list:\", matrix_list.iloc[0:1])\t"
      ],
      "metadata": {
        "id": "60Z3u3InIJ6c",
        "colab": {
          "base_uri": "https://localhost:8080/"
        },
        "outputId": "e99a4be2-90f4-4347-fe81-01b4631f83cf"
      },
      "execution_count": 5,
      "outputs": [
        {
          "output_type": "stream",
          "name": "stdout",
          "text": [
            "[8] attribute .index\n",
            "    Index number_list: RangeIndex(start=0, stop=6, step=1)\n",
            "    Index matrix_list: RangeIndex(start=0, stop=4, step=1)\n",
            "[9] attribute .columns\n",
            "    Column matrix_list: RangeIndex(start=0, stop=3, step=1)\n",
            "[10] attribute .loc\n",
            "    .loc[0:1] pada number_list: 0    1\n",
            "1    2\n",
            "dtype: int64\n",
            "    .loc[0:1] pada matrix_list:    0  1  2\n",
            "0  1  2  3\n",
            "1  a  b  c\n",
            "[11] attribute .iloc\n",
            "    iloc[0:1] pada number_list: 0    1\n",
            "dtype: int64\n",
            "    iloc[0:1] pada matrix_list:    0  1  2\n",
            "0  1  2  3\n"
          ]
        }
      ]
    },
    {
      "cell_type": "markdown",
      "source": [
        "## Creating Series & Dataframe from List\n"
      ],
      "metadata": {
        "id": "cZkTSf-XKs4r"
      }
    },
    {
      "cell_type": "code",
      "source": [
        "import pandas as pd\n",
        "# Creating series from list\n",
        "ex_list = ['a',1,3,5,'c','d']\n",
        "ex_series = pd.Series(ex_list)\n",
        "print(ex_series)\n",
        "# Creating dataframe from list of list\n",
        "ex_list_of_list = [[1, 'a', 'b', 'c'],\n",
        "                   [2.5, 'd', 'e', 'f'],\n",
        "\t\t           [5, 'g', 'h', 'i'],\n",
        "\t\t           [7.5, 'j', 10.5, 'l']]\n",
        "index = ['dq', 'lab', 'kar', 'lan']\n",
        "cols = ['float', 'char', 'obj', 'char']\n",
        "ex_df = pd.DataFrame(ex_list_of_list, index=index, columns=cols)\n",
        "print(ex_df)"
      ],
      "metadata": {
        "id": "4Tvsc5uJK9cv",
        "colab": {
          "base_uri": "https://localhost:8080/"
        },
        "outputId": "474b2a01-d356-42cd-a6ec-5dcee9771551"
      },
      "execution_count": 6,
      "outputs": [
        {
          "output_type": "stream",
          "name": "stdout",
          "text": [
            "0    a\n",
            "1    1\n",
            "2    3\n",
            "3    5\n",
            "4    c\n",
            "5    d\n",
            "dtype: object\n",
            "     float char   obj char\n",
            "dq     1.0    a     b    c\n",
            "lab    2.5    d     e    f\n",
            "kar    5.0    g     h    i\n",
            "lan    7.5    j  10.5    l\n"
          ]
        }
      ]
    },
    {
      "cell_type": "markdown",
      "source": [
        "## Creating Series & Dataframe from Dictionary\n"
      ],
      "metadata": {
        "id": "i2eZTkIgJirH"
      }
    },
    {
      "cell_type": "code",
      "source": [
        "import pandas as pd\n",
        "# Creating series from dictionary\n",
        "dict_series = {'1':'a',\n",
        "\t\t\t   '2':'b',\n",
        "\t\t\t   '3':'c'}\n",
        "ex_series = pd.Series(dict_series)\n",
        "print(ex_series)\n",
        "# Creating dataframe from dictionary\n",
        "df_series = {'1':['a', 'b', 'c'],\n",
        "             '2':['b', 'c', 'd'],\n",
        "             '4':[2, 3, 'z']}\n",
        "ex_df = pd.DataFrame(df_series)\n",
        "print(ex_df)"
      ],
      "metadata": {
        "colab": {
          "base_uri": "https://localhost:8080/"
        },
        "id": "F1mF6wiQJlC0",
        "outputId": "7f05092d-ffb1-4f16-e28b-4039efd438ab"
      },
      "execution_count": 7,
      "outputs": [
        {
          "output_type": "stream",
          "name": "stdout",
          "text": [
            "1    a\n",
            "2    b\n",
            "3    c\n",
            "dtype: object\n",
            "   1  2  4\n",
            "0  a  b  2\n",
            "1  b  c  3\n",
            "2  c  d  z\n"
          ]
        }
      ]
    },
    {
      "cell_type": "markdown",
      "source": [
        "## Creating Series & Dataframe from Numpy Array\n"
      ],
      "metadata": {
        "id": "zoAx4Nb5KKHH"
      }
    },
    {
      "cell_type": "code",
      "source": [
        "import pandas as pd\n",
        "import numpy as np\n",
        "# Creating series from numpy array (1D)\n",
        "arr_series = np.array([1,2,3,4,5,6,6,7])\n",
        "ex_series = pd.Series(arr_series)\n",
        "print(ex_series)\n",
        "# Creating dataframe from numpy array (2D)\n",
        "arr_df = np.array([[1, 2, 3, 5],\n",
        "                   [5, 6, 7, 8],\n",
        "                   ['a', 'b', 'c', 10]])\n",
        "ex_df = pd.DataFrame(arr_df)\n",
        "print(ex_df)"
      ],
      "metadata": {
        "colab": {
          "base_uri": "https://localhost:8080/"
        },
        "id": "m13IpYHPKMGj",
        "outputId": "ccea6dc0-d84a-4bb1-e523-8ed39e48aaea"
      },
      "execution_count": 8,
      "outputs": [
        {
          "output_type": "stream",
          "name": "stdout",
          "text": [
            "0    1\n",
            "1    2\n",
            "2    3\n",
            "3    4\n",
            "4    5\n",
            "5    6\n",
            "6    6\n",
            "7    7\n",
            "dtype: int64\n",
            "   0  1  2   3\n",
            "0  1  2  3   5\n",
            "1  5  6  7   8\n",
            "2  a  b  c  10\n"
          ]
        }
      ]
    }
  ]
}