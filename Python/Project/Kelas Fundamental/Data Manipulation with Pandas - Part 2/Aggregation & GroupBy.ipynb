{
 "cells": [
  {
   "cell_type": "markdown",
   "source": [
    "# **Aggregation & GroupBy**\n",
    "Teknik aggregasi dan groupby digunakan untuk melihat dataset dari point of view yang berbeda misalnya kamu memerlukan pengelompokan data atau menentukan resume dari data secara keseluruhan atau masing-masing kelompok datanya, misal dari sisi rata-rata, nilai tengah, nilai maksimum, nilai minimum dan yang lainnya."
   ],
   "metadata": {
    "collapsed": false
   }
  },
  {
   "cell_type": "markdown",
   "source": [
    "## Review Inspeksi Data"
   ],
   "metadata": {
    "collapsed": false
   }
  },
  {
   "cell_type": "code",
   "execution_count": 2,
   "outputs": [
    {
     "name": "stdout",
     "output_type": "stream",
     "text": [
      "Lima data teratas:\n",
      "                           location       city country pollutant  value  \\\n",
      "0                  MOBILE-KICKAPOO    LINCOLN      US      pm10   7.00   \n",
      "1                  Oxford St Ebbes     Oxford      GB       no2  30.00   \n",
      "2                 BROADWAY (South)  St. Louis      US      pm25   6.10   \n",
      "3  Deen Dayal Nagar, Sagar - MPPCB      Sagar      IN      pm25  23.67   \n",
      "4                        Manglerud       Oslo      NO      pm10  27.06   \n",
      "\n",
      "                 timestamp   unit source_name   latitude  longitude  \\\n",
      "0  2017-01-18 16:00:00 UTC  µg/m³      AirNow  35.488400 -97.090280   \n",
      "1  2020-04-07 20:00:00 UTC  µg/m³       DEFRA  51.744804  -1.260278   \n",
      "2  2020-04-07 19:00:00 UTC  µg/m³      AirNow  38.542500 -90.263610   \n",
      "3  2020-04-07 18:30:00 UTC  µg/m³       caaqm  23.864016  78.802895   \n",
      "4  2020-04-07 20:00:00 UTC  µg/m³      Norway  59.898690  10.814950   \n",
      "\n",
      "   averaged_over_in_hours  \n",
      "0                    1.00  \n",
      "1                    1.00  \n",
      "2                    1.00  \n",
      "3                    0.25  \n",
      "4                    1.00  \n",
      "<class 'pandas.core.frame.DataFrame'>\n",
      "RangeIndex: 4000 entries, 0 to 3999\n",
      "Data columns (total 11 columns):\n",
      " #   Column                  Non-Null Count  Dtype  \n",
      "---  ------                  --------------  -----  \n",
      " 0   location                3997 non-null   object \n",
      " 1   city                    3966 non-null   object \n",
      " 2   country                 4000 non-null   object \n",
      " 3   pollutant               4000 non-null   object \n",
      " 4   value                   4000 non-null   float64\n",
      " 5   timestamp               4000 non-null   object \n",
      " 6   unit                    4000 non-null   object \n",
      " 7   source_name             4000 non-null   object \n",
      " 8   latitude                4000 non-null   float64\n",
      " 9   longitude               4000 non-null   float64\n",
      " 10  averaged_over_in_hours  3634 non-null   float64\n",
      "dtypes: float64(4), object(7)\n",
      "memory usage: 343.9+ KB\n",
      "Info global_air_quality:\n",
      " None\n",
      "Count tanpa groupby:\n",
      " location                  3997\n",
      "city                      3966\n",
      "country                   4000\n",
      "pollutant                 4000\n",
      "value                     4000\n",
      "timestamp                 4000\n",
      "unit                      4000\n",
      "source_name               4000\n",
      "latitude                  4000\n",
      "longitude                 4000\n",
      "averaged_over_in_hours    3634\n",
      "dtype: int64\n",
      "Count dengan groupby (5 data teratas):\n",
      "              location  city  country  pollutant  value  timestamp  unit  \\\n",
      "source_name                                                               \n",
      "ARPALAZIO          72    72       72         72     72         72    72   \n",
      "Agaar.mn           27    27       27         27     27         27    27   \n",
      "AirNow           1712  1681     1715       1715   1715       1715  1715   \n",
      "Andalucia          71    71       71         71     71         71    71   \n",
      "Anqing              4     4        4          4      4          4     4   \n",
      "\n",
      "             latitude  longitude  averaged_over_in_hours  \n",
      "source_name                                               \n",
      "ARPALAZIO          72         72                      72  \n",
      "Agaar.mn           27         27                       0  \n",
      "AirNow           1715       1715                    1715  \n",
      "Andalucia          71         71                      71  \n",
      "Anqing              4          4                       4  \n"
     ]
    }
   ],
   "source": [
    "import pandas as pd\n",
    "# Load data global_air_quality.csv\n",
    "global_air_quality = pd.read_csv('https://storage.googleapis.com/dqlab-dataset/LO4/global_air_quality_4000rows.csv')\n",
    "print('Lima data teratas:\\n', global_air_quality.head())\n",
    "# Melakukan pengecekan terhadap data\n",
    "print('Info global_air_quality:\\n', global_air_quality.info())\n",
    "# Melakukan count tanpa groupby\n",
    "print('Count tanpa groupby:\\n', global_air_quality.count())\n",
    "# Melakukan count dengan groupby\n",
    "gaq_groupby_count = global_air_quality.groupby('source_name').count()\n",
    "print('Count dengan groupby (5 data teratas):\\n', gaq_groupby_count.head())"
   ],
   "metadata": {
    "collapsed": false,
    "ExecuteTime": {
     "end_time": "2023-06-09T15:46:06.770351900Z",
     "start_time": "2023-06-09T15:45:54.853809200Z"
    }
   }
  },
  {
   "cell_type": "markdown",
   "source": [
    "## Groupby dan Aggregasi dengan Fungsi Statistik Dasar - Part 1"
   ],
   "metadata": {
    "collapsed": false
   }
  },
  {
   "cell_type": "code",
   "execution_count": 3,
   "outputs": [
    {
     "name": "stdout",
     "output_type": "stream",
     "text": [
      "Data pollutant (5 teratas):\n",
      "                      value                                     \n",
      "pollutant               bc      co   no2   o3   pm10  pm25  so2\n",
      "country city                                                   \n",
      "AR      Buenos Aires   0.0     0.0   0.0  0.0    0.0  18.1  0.0\n",
      "AU      Townsville     0.0     0.0   0.0  0.0    0.0   3.9  0.0\n",
      "BA      Goražde        0.0   141.0  19.0  8.0    0.0   0.0  0.0\n",
      "        Ilijaš         0.0     0.0   0.0  0.0  100.0   0.0  0.0\n",
      "        Jajce          0.0  1508.0  25.0  6.0    9.0   0.0  0.0\n",
      "Rata-rata pollutant (5 teratas):\n",
      "           value                                                         \\\n",
      "pollutant    bc          co        no2        o3       pm10       pm25   \n",
      "country                                                                  \n",
      "AR          0.0    0.000000   0.000000  0.000000   0.000000  18.100000   \n",
      "AU          0.0    0.000000   0.000000  0.000000   0.000000   3.900000   \n",
      "BA          0.0  475.833333  19.500000  5.833333  40.333333   0.000000   \n",
      "CA          0.0    0.036818   0.000355  0.025963   0.836364   3.433601   \n",
      "CL          0.0    0.000000  21.000000  0.000000   0.000000   0.000000   \n",
      "\n",
      "                      \n",
      "pollutant        so2  \n",
      "country               \n",
      "AR          0.000000  \n",
      "AU          0.000000  \n",
      "BA         18.000000  \n",
      "CA          0.000091  \n",
      "CL          0.000000  \n",
      "Standar deviasi pollutant (5 teratas):\n",
      "           value                                                        \\\n",
      "pollutant    bc          co        no2        o3       pm10      pm25   \n",
      "country                                                                 \n",
      "AR          0.0    0.000000   0.000000  0.000000   0.000000  0.000000   \n",
      "AU          0.0    0.000000   0.000000  0.000000   0.000000  0.000000   \n",
      "BA          0.0  536.925476  11.945711  8.207720  46.701891  0.000000   \n",
      "CA          0.0    0.089841   0.000750  0.019323   1.713052  2.286509   \n",
      "CL          0.0    0.000000   0.000000  0.000000   0.000000  0.000000   \n",
      "\n",
      "                      \n",
      "pollutant        so2  \n",
      "country               \n",
      "AR          0.000000  \n",
      "AU          0.000000  \n",
      "BA         30.403947  \n",
      "CA          0.000302  \n",
      "CL          0.000000  \n"
     ]
    }
   ],
   "source": [
    "import pandas as pd\n",
    "# Load data global_air_quality.csv\n",
    "gaq = pd.read_csv(\"https://storage.googleapis.com/dqlab-dataset/LO4/global_air_quality_4000rows.csv\")\n",
    "# Create variabel pollutant \n",
    "pollutant = gaq[['country', 'city', 'pollutant', 'value']].pivot_table(index=['country', 'city'],columns='pollutant').fillna(0)\n",
    "print('Data pollutant (5 teratas):\\n', pollutant.head())\n",
    "# [1] Group berdasarkan country dan terapkan aggregasi mean\n",
    "pollutant_mean = pollutant.groupby('country').mean()\n",
    "print('Rata-rata pollutant (5 teratas):\\n', pollutant_mean.head())\n",
    "# [2] Group berdasarkan country dan terapkan aggregasi std\n",
    "pollutant_std = pollutant.groupby('country').std().fillna(0)\n",
    "print('Standar deviasi pollutant (5 teratas):\\n', pollutant_std.head())"
   ],
   "metadata": {
    "collapsed": false,
    "ExecuteTime": {
     "end_time": "2023-06-09T15:46:07.624416200Z",
     "start_time": "2023-06-09T15:46:06.774352900Z"
    }
   }
  },
  {
   "cell_type": "markdown",
   "source": [
    "## Groupby dan Aggregasi dengan Fungsi Statistik Dasar - Part 2"
   ],
   "metadata": {
    "collapsed": false
   }
  },
  {
   "cell_type": "code",
   "execution_count": 4,
   "outputs": [
    {
     "name": "stdout",
     "output_type": "stream",
     "text": [
      "Data pollutant (5 teratas):\n",
      "                      value                                     \n",
      "pollutant               bc      co   no2   o3   pm10  pm25  so2\n",
      "country city                                                   \n",
      "AR      Buenos Aires   0.0     0.0   0.0  0.0    0.0  18.1  0.0\n",
      "AU      Townsville     0.0     0.0   0.0  0.0    0.0   3.9  0.0\n",
      "BA      Goražde        0.0   141.0  19.0  8.0    0.0   0.0  0.0\n",
      "        Ilijaš         0.0     0.0   0.0  0.0  100.0   0.0  0.0\n",
      "        Jajce          0.0  1508.0  25.0  6.0    9.0   0.0  0.0\n",
      "Total pollutant (5 teratas):\n",
      "           value                                                          \n",
      "pollutant    bc        co       no2         o3   pm10       pm25      so2\n",
      "country                                                                  \n",
      "AR          0.0     0.000    0.0000   0.000000    0.0  18.100000    0.000\n",
      "AU          0.0     0.000    0.0000   0.000000    0.0   3.900000    0.000\n",
      "BA          0.0  2855.000  117.0000  35.000000  242.0   0.000000  108.000\n",
      "CA          0.0     0.405    0.0039   0.285593    9.2  37.769608    0.001\n",
      "CL          0.0     0.000   21.0000   0.000000    0.0   0.000000    0.000\n",
      "Jumlah unique value pollutant (5 teratas):\n",
      "           value                        \n",
      "pollutant    bc co no2 o3 pm10 pm25 so2\n",
      "country                                \n",
      "AR            1  1   1  1    1    1   1\n",
      "AU            1  1   1  1    1    1   1\n",
      "BA            1  6   6  4    5    1   4\n",
      "CA            1  3   4  9    4   10   2\n",
      "CL            1  1   1  1    1    1   1\n"
     ]
    }
   ],
   "source": [
    "import pandas as pd\n",
    "# Load data https://storage.googleapis.com/dqlab-dataset/LO4/global_air_quality_4000rows.csv\n",
    "gaq = pd.read_csv('https://storage.googleapis.com/dqlab-dataset/LO4/global_air_quality_4000rows.csv')\n",
    "# Create variabel pollutant \n",
    "pollutant = gaq[['country','city','pollutant','value']].pivot_table(index=['country','city'],columns='pollutant').fillna(0)\n",
    "print('Data pollutant (5 teratas):\\n', pollutant.head())\n",
    "# [3] Group berdasarkan country dan terapkan aggregasi sum\n",
    "pollutant_sum = pollutant.groupby('country').sum()\n",
    "print('Total pollutant (5 teratas):\\n', pollutant_sum.head())\n",
    "# [4] Group berdasarkan country dan terapkan aggregasi nunique\n",
    "pollutant_nunique = pollutant.groupby('country').nunique()\n",
    "print('Jumlah unique value pollutant (5 teratas):\\n', pollutant_nunique.head())"
   ],
   "metadata": {
    "collapsed": false,
    "ExecuteTime": {
     "end_time": "2023-06-09T15:46:08.428371100Z",
     "start_time": "2023-06-09T15:46:07.627921500Z"
    }
   }
  },
  {
   "cell_type": "markdown",
   "source": [
    "## Groupby dan Aggregasi dengan Fungsi Statistik Dasar - Part 3"
   ],
   "metadata": {
    "collapsed": false
   }
  },
  {
   "cell_type": "code",
   "execution_count": 5,
   "outputs": [
    {
     "name": "stdout",
     "output_type": "stream",
     "text": [
      "Data pollutant (5 teratas):\n",
      "                      value                                     \n",
      "pollutant               bc      co   no2   o3   pm10  pm25  so2\n",
      "country city                                                   \n",
      "AR      Buenos Aires   0.0     0.0   0.0  0.0    0.0  18.1  0.0\n",
      "AU      Townsville     0.0     0.0   0.0  0.0    0.0   3.9  0.0\n",
      "BA      Goražde        0.0   141.0  19.0  8.0    0.0   0.0  0.0\n",
      "        Ilijaš         0.0     0.0   0.0  0.0  100.0   0.0  0.0\n",
      "        Jajce          0.0  1508.0  25.0  6.0    9.0   0.0  0.0\n",
      "Item pertama pollutant (5 teratas):\n",
      "           value                                            \n",
      "pollutant    bc       co      no2        o3 pm10  pm25  so2\n",
      "country                                                    \n",
      "AR          0.0    0.000   0.0000  0.000000  0.0  18.1  0.0\n",
      "AU          0.0    0.000   0.0000  0.000000  0.0   3.9  0.0\n",
      "BA          0.0  141.000  19.0000  8.000000  0.0   0.0  0.0\n",
      "CA          0.0    0.285   0.0024  0.048333  0.0   3.9  0.0\n",
      "CL          0.0    0.000  21.0000  0.000000  0.0   0.0  0.0\n",
      "Item terakhir pollutant (5 teratas):\n",
      "           value                                      \n",
      "pollutant    bc     co   no2     o3  pm10  pm25   so2\n",
      "country                                              \n",
      "AR          0.0    0.0   0.0  0.000   0.0  18.1   0.0\n",
      "AU          0.0    0.0   0.0  0.000   0.0   3.9   0.0\n",
      "BA          0.0  292.0  29.0  0.000  96.0   0.0  78.0\n",
      "CA          0.0    0.0   0.0  0.036   3.0   0.0   0.0\n",
      "CL          0.0    0.0  21.0  0.000   0.0   0.0   0.0\n"
     ]
    }
   ],
   "source": [
    "import pandas as pd\n",
    "# Load data https://storage.googleapis.com/dqlab-dataset/LO4/global_air_quality_4000rows.csv\n",
    "gaq = pd.read_csv(\"https://storage.googleapis.com/dqlab-dataset/LO4/global_air_quality_4000rows.csv\")\n",
    "# Create variabel pollutant\n",
    "pollutant = gaq[['country','city','pollutant','value']].pivot_table(index=['country','city'],columns='pollutant').fillna(0)\n",
    "print('Data pollutant (5 teratas):\\n', pollutant.head())\n",
    "# Group berdasarkan country dan terapkan aggregasi first\n",
    "pollutant_first = pollutant.groupby('country').first()\n",
    "print('Item pertama pollutant (5 teratas):\\n', pollutant_first.head())\n",
    "# Group berdasarkan country dan terapkan aggregasi last\n",
    "pollutant_last = pollutant.groupby('country').last()\n",
    "print('Item terakhir pollutant (5 teratas):\\n', pollutant_last.head())"
   ],
   "metadata": {
    "collapsed": false,
    "ExecuteTime": {
     "end_time": "2023-06-09T15:46:09.401098400Z",
     "start_time": "2023-06-09T15:46:08.430375700Z"
    }
   }
  },
  {
   "cell_type": "markdown",
   "source": [
    "## Groupby dengan Multiple Aggregations"
   ],
   "metadata": {
    "collapsed": false
   }
  },
  {
   "cell_type": "code",
   "execution_count": 6,
   "outputs": [
    {
     "name": "stdout",
     "output_type": "stream",
     "text": [
      "Data pollutant (5 teratas):\n",
      "                      value                                     \n",
      "pollutant               bc      co   no2   o3   pm10  pm25  so2\n",
      "country city                                                   \n",
      "AR      Buenos Aires   0.0     0.0   0.0  0.0    0.0  18.1  0.0\n",
      "AU      Townsville     0.0     0.0   0.0  0.0    0.0   3.9  0.0\n",
      "BA      Goražde        0.0   141.0  19.0  8.0    0.0   0.0  0.0\n",
      "        Ilijaš         0.0     0.0   0.0  0.0  100.0   0.0  0.0\n",
      "        Jajce          0.0  1508.0  25.0  6.0    9.0   0.0  0.0\n",
      "Multiple aggregations (5 teratas):\n",
      "           value                                                           \\\n",
      "pollutant    bc                    co                                no2   \n",
      "            min median mean  max  min median        mean       max   min   \n",
      "country                                                                    \n",
      "AR          0.0    0.0  0.0  0.0  0.0    0.0    0.000000     0.000   0.0   \n",
      "AU          0.0    0.0  0.0  0.0  0.0    0.0    0.000000     0.000   0.0   \n",
      "BA          0.0    0.0  0.0  0.0  0.0  355.0  475.833333  1508.000   0.0   \n",
      "CA          0.0    0.0  0.0  0.0  0.0    0.0    0.036818     0.285   0.0   \n",
      "CL          0.0    0.0  0.0  0.0  0.0    0.0    0.000000     0.000  21.0   \n",
      "\n",
      "                  ...                                                       \\\n",
      "pollutant         ...       pm10         pm25                          so2   \n",
      "          median  ...       mean    max   min median       mean   max  min   \n",
      "country           ...                                                        \n",
      "AR           0.0  ...   0.000000    0.0  18.1   18.1  18.100000  18.1  0.0   \n",
      "AU           0.0  ...   0.000000    0.0   3.9    3.9   3.900000   3.9  0.0   \n",
      "BA          22.0  ...  40.333333  100.0   0.0    0.0   0.000000   0.0  0.0   \n",
      "CA           0.0  ...   0.836364    5.2   0.0    4.0   3.433601   6.0  0.0   \n",
      "CL          21.0  ...   0.000000    0.0   0.0    0.0   0.000000   0.0  0.0   \n",
      "\n",
      "                                     \n",
      "pollutant                            \n",
      "          median       mean     max  \n",
      "country                              \n",
      "AR           0.0   0.000000   0.000  \n",
      "AU           0.0   0.000000   0.000  \n",
      "BA           5.5  18.000000  78.000  \n",
      "CA           0.0   0.000091   0.001  \n",
      "CL           0.0   0.000000   0.000  \n",
      "\n",
      "[5 rows x 28 columns]\n"
     ]
    }
   ],
   "source": [
    "import pandas as pd\n",
    "# Load data https://storage.googleapis.com/dqlab-dataset/LO4/global_air_quality_4000rows.csv\n",
    "gaq = pd.read_csv('https://storage.googleapis.com/dqlab-dataset/LO4/global_air_quality_4000rows.csv')\n",
    "# Create variabel pollutant\n",
    "pollutant = gaq[['country','city','pollutant','value']].pivot_table(index=['country','city'],columns='pollutant').fillna(0)\n",
    "print('Data pollutant (5 teratas):\\n', pollutant.head())\n",
    "# Group berdasarkan country dan terapkan aggregasi: min, median, mean, max\n",
    "multiagg = pollutant.groupby('country').agg(['min', 'median', 'mean', 'max'])\n",
    "print('Multiple aggregations (5 teratas):\\n', multiagg.head())"
   ],
   "metadata": {
    "collapsed": false,
    "ExecuteTime": {
     "end_time": "2023-06-09T15:48:58.685602300Z",
     "start_time": "2023-06-09T15:48:58.019912100Z"
    }
   }
  },
  {
   "cell_type": "markdown",
   "source": [
    "## Groupby dengan Custom Aggregations"
   ],
   "metadata": {
    "collapsed": false
   }
  },
  {
   "cell_type": "code",
   "execution_count": 7,
   "outputs": [
    {
     "name": "stdout",
     "output_type": "stream",
     "text": [
      "Custom aggregation (5 teratas):\n",
      "           value                                                  \n",
      "pollutant    bc      co       no2        o3  pm10      pm25   so2\n",
      "country                                                          \n",
      "AR          0.0    0.00   0.00000  0.000000   0.0  0.000000   0.0\n",
      "AU          0.0    0.00   0.00000  0.000000   0.0  0.000000   0.0\n",
      "BA          0.0  297.75  14.25000  7.500000  79.0  0.000000  17.0\n",
      "CA          0.0    0.00   0.00025  0.035708   0.5  3.876471   0.0\n",
      "CL          0.0    0.00   0.00000  0.000000   0.0  0.000000   0.0\n"
     ]
    }
   ],
   "source": [
    "import pandas as pd\n",
    "# Load data https://storage.googleapis.com/dqlab-dataset/LO4/global_air_quality_4000rows.csv\n",
    "gaq = pd.read_csv('https://storage.googleapis.com/dqlab-dataset/LO4/global_air_quality_4000rows.csv')\n",
    "# Create variabel pollutant\n",
    "pollutant = gaq[['country','city','pollutant','value']].pivot_table(index=['country','city'],columns='pollutant').fillna(0)\n",
    "# Create sebuah function: iqr\n",
    "def iqr(series):\n",
    "\tQ1 = series.quantile(0.25)\n",
    "\tQ3 = series.quantile(0.75)\n",
    "\treturn Q3 - Q1\n",
    "# Group berdasarkan country dan terapkan aggregasi dari function: iqr\n",
    "custom_agg = pollutant.groupby('country').agg(iqr)\n",
    "print('Custom aggregation (5 teratas):\\n', custom_agg.head())"
   ],
   "metadata": {
    "collapsed": false,
    "ExecuteTime": {
     "end_time": "2023-06-09T16:00:06.750503500Z",
     "start_time": "2023-06-09T15:59:54.724685400Z"
    }
   }
  },
  {
   "cell_type": "markdown",
   "source": [
    "## Groupby dengan Custom Aggregations by dict"
   ],
   "metadata": {
    "collapsed": false
   }
  },
  {
   "cell_type": "code",
   "execution_count": 8,
   "outputs": [
    {
     "name": "stdout",
     "output_type": "stream",
     "text": [
      "Data pollutant (5 teratas):\n",
      "                      value                                     \n",
      "pollutant               bc      co   no2   o3   pm10  pm25  so2\n",
      "country city                                                   \n",
      "AR      Buenos Aires   0.0     0.0   0.0  0.0    0.0  18.1  0.0\n",
      "AU      Townsville     0.0     0.0   0.0  0.0    0.0   3.9  0.0\n",
      "BA      Goražde        0.0   141.0  19.0  8.0    0.0   0.0  0.0\n",
      "        Ilijaš         0.0     0.0   0.0  0.0  100.0   0.0  0.0\n",
      "        Jajce          0.0  1508.0  25.0  6.0    9.0   0.0  0.0\n",
      "\n",
      "Cetak 5 data teratas custom_agg_dict:\n",
      " pollutant  pm10      pm25   so2\n",
      "country                        \n",
      "AR          0.0  0.000000   0.0\n",
      "AU          0.0  0.000000   0.0\n",
      "BA         23.0  0.000000  17.0\n",
      "CA          0.0  3.876471   0.0\n",
      "CL          0.0  0.000000   0.0\n"
     ]
    }
   ],
   "source": [
    "import pandas as pd\n",
    "# Load data https://storage.googleapis.com/dqlab-dataset/LO4/global_air_quality_4000rows.csv\n",
    "gaq = pd.read_csv('https://storage.googleapis.com/dqlab-dataset/LO4/global_air_quality_4000rows.csv')\n",
    "# Create variabel pollutant\n",
    "pollutant = gaq[['country','city','pollutant','value']].pivot_table(index=['country','city'],columns='pollutant').fillna(0)\n",
    "print('Data pollutant (5 teratas):\\n', pollutant.head())\n",
    "# Function IQR\n",
    "def iqr(series):\n",
    "\treturn series.quantile(0.75) - series.quantile(0.25)\n",
    "# Create custom aggregation using dict\n",
    "custom_agg_dict = pollutant['value'][['pm10','pm25','so2']].groupby('country').agg({\n",
    "   'pm10':'median',\n",
    "   'pm25':iqr,\n",
    "   'so2':iqr\n",
    "})\n",
    "print('\\nCetak 5 data teratas custom_agg_dict:\\n', custom_agg_dict.head())"
   ],
   "metadata": {
    "collapsed": false,
    "ExecuteTime": {
     "end_time": "2023-06-09T16:10:07.352013400Z",
     "start_time": "2023-06-09T16:10:06.629304800Z"
    }
   }
  }
 ],
 "metadata": {
  "kernelspec": {
   "display_name": "Python 3",
   "language": "python",
   "name": "python3"
  },
  "language_info": {
   "codemirror_mode": {
    "name": "ipython",
    "version": 2
   },
   "file_extension": ".py",
   "mimetype": "text/x-python",
   "name": "python",
   "nbconvert_exporter": "python",
   "pygments_lexer": "ipython2",
   "version": "2.7.6"
  }
 },
 "nbformat": 4,
 "nbformat_minor": 0
}
