{
 "cells": [
  {
   "cell_type": "markdown",
   "source": [
    "# Time Series in Pandas\n",
    "\n",
    "Time series merupakan kumpulan dataset yang indexnya berupa waktu. Data seperti ini umum dijumpai pada proses yang melibatkan suatu event. Pada bagian ini kamu akan mempelajari dataset dengan index waktu ini atau dikenal dengan time series."
   ],
   "metadata": {
    "collapsed": false
   }
  },
  {
   "cell_type": "markdown",
   "source": [
    "## Load Dataset as Time Series"
   ],
   "metadata": {
    "collapsed": false
   }
  },
  {
   "cell_type": "code",
   "execution_count": 1,
   "outputs": [
    {
     "name": "stdout",
     "output_type": "stream",
     "text": [
      "                                                  location       city country  \\\n",
      "timestamp                                                                       \n",
      "2017-01-18 16:00:00+00:00                  MOBILE-KICKAPOO    LINCOLN      US   \n",
      "2020-04-07 20:00:00+00:00                  Oxford St Ebbes     Oxford      GB   \n",
      "2020-04-07 19:00:00+00:00                 BROADWAY (South)  St. Louis      US   \n",
      "2020-04-07 18:30:00+00:00  Deen Dayal Nagar, Sagar - MPPCB      Sagar      IN   \n",
      "2020-04-07 20:00:00+00:00                        Manglerud       Oslo      NO   \n",
      "\n",
      "                          pollutant  value   unit source_name   latitude  \\\n",
      "timestamp                                                                  \n",
      "2017-01-18 16:00:00+00:00      pm10   7.00  µg/m³      AirNow  35.488400   \n",
      "2020-04-07 20:00:00+00:00       no2  30.00  µg/m³       DEFRA  51.744804   \n",
      "2020-04-07 19:00:00+00:00      pm25   6.10  µg/m³      AirNow  38.542500   \n",
      "2020-04-07 18:30:00+00:00      pm25  23.67  µg/m³       caaqm  23.864016   \n",
      "2020-04-07 20:00:00+00:00      pm10  27.06  µg/m³      Norway  59.898690   \n",
      "\n",
      "                           longitude  averaged_over_in_hours  \n",
      "timestamp                                                     \n",
      "2017-01-18 16:00:00+00:00 -97.090280                    1.00  \n",
      "2020-04-07 20:00:00+00:00  -1.260278                    1.00  \n",
      "2020-04-07 19:00:00+00:00 -90.263610                    1.00  \n",
      "2020-04-07 18:30:00+00:00  78.802895                    0.25  \n",
      "2020-04-07 20:00:00+00:00  10.814950                    1.00  \n",
      "info\n",
      "<class 'pandas.core.frame.DataFrame'>\n",
      "DatetimeIndex: 4000 entries, 2017-01-18 16:00:00+00:00 to 2017-01-08 08:00:00+00:00\n",
      "Data columns (total 10 columns):\n",
      " #   Column                  Non-Null Count  Dtype  \n",
      "---  ------                  --------------  -----  \n",
      " 0   location                3997 non-null   object \n",
      " 1   city                    3966 non-null   object \n",
      " 2   country                 4000 non-null   object \n",
      " 3   pollutant               4000 non-null   object \n",
      " 4   value                   4000 non-null   float64\n",
      " 5   unit                    4000 non-null   object \n",
      " 6   source_name             4000 non-null   object \n",
      " 7   latitude                4000 non-null   float64\n",
      " 8   longitude               4000 non-null   float64\n",
      " 9   averaged_over_in_hours  3634 non-null   float64\n",
      "dtypes: float64(4), object(6)\n",
      "memory usage: 343.8+ KB\n",
      "None\n"
     ]
    }
   ],
   "source": [
    "import pandas as pd\n",
    "# Load dataset https://storage.googleapis.com/dqlab-dataset/LO4/global_air_quality_4000rows.csv\n",
    "gaq = pd.read_csv(\"https://storage.googleapis.com/dqlab-dataset/LO4/global_air_quality_4000rows.csv\", parse_dates=True, index_col='timestamp')\n",
    "# Cetak 5 data teratas\n",
    "print(gaq.head())\n",
    "# Cetak info dari dataframe gaq\n",
    "print('info')\n",
    "print(gaq.info())"
   ],
   "metadata": {
    "collapsed": false,
    "ExecuteTime": {
     "end_time": "2023-06-10T09:32:04.922975500Z",
     "start_time": "2023-06-10T09:31:52.434713600Z"
    }
   }
  },
  {
   "cell_type": "markdown",
   "source": [
    "## Convert to Datetime"
   ],
   "metadata": {
    "collapsed": false
   }
  },
  {
   "cell_type": "code",
   "execution_count": 2,
   "outputs": [
    {
     "name": "stdout",
     "output_type": "stream",
     "text": [
      "Sebelum diubah dalam format datetime:\n",
      "                           location       city country pollutant  value  \\\n",
      "0                  MOBILE-KICKAPOO    LINCOLN      US      pm10   7.00   \n",
      "1                  Oxford St Ebbes     Oxford      GB       no2  30.00   \n",
      "2                 BROADWAY (South)  St. Louis      US      pm25   6.10   \n",
      "3  Deen Dayal Nagar, Sagar - MPPCB      Sagar      IN      pm25  23.67   \n",
      "4                        Manglerud       Oslo      NO      pm10  27.06   \n",
      "\n",
      "                 timestamp   unit source_name   latitude  longitude  \\\n",
      "0  2017-01-18 16:00:00 UTC  µg/m³      AirNow  35.488400 -97.090280   \n",
      "1  2020-04-07 20:00:00 UTC  µg/m³       DEFRA  51.744804  -1.260278   \n",
      "2  2020-04-07 19:00:00 UTC  µg/m³      AirNow  38.542500 -90.263610   \n",
      "3  2020-04-07 18:30:00 UTC  µg/m³       caaqm  23.864016  78.802895   \n",
      "4  2020-04-07 20:00:00 UTC  µg/m³      Norway  59.898690  10.814950   \n",
      "\n",
      "   averaged_over_in_hours  \n",
      "0                    1.00  \n",
      "1                    1.00  \n",
      "2                    1.00  \n",
      "3                    0.25  \n",
      "4                    1.00  \n",
      "Sesudah diubah dalam format datetime:\n",
      "                                                   location       city country  \\\n",
      "timestamp                                                                       \n",
      "2017-01-18 16:00:00+00:00                  MOBILE-KICKAPOO    LINCOLN      US   \n",
      "2020-04-07 20:00:00+00:00                  Oxford St Ebbes     Oxford      GB   \n",
      "2020-04-07 19:00:00+00:00                 BROADWAY (South)  St. Louis      US   \n",
      "2020-04-07 18:30:00+00:00  Deen Dayal Nagar, Sagar - MPPCB      Sagar      IN   \n",
      "2020-04-07 20:00:00+00:00                        Manglerud       Oslo      NO   \n",
      "\n",
      "                          pollutant  value   unit source_name   latitude  \\\n",
      "timestamp                                                                  \n",
      "2017-01-18 16:00:00+00:00      pm10   7.00  µg/m³      AirNow  35.488400   \n",
      "2020-04-07 20:00:00+00:00       no2  30.00  µg/m³       DEFRA  51.744804   \n",
      "2020-04-07 19:00:00+00:00      pm25   6.10  µg/m³      AirNow  38.542500   \n",
      "2020-04-07 18:30:00+00:00      pm25  23.67  µg/m³       caaqm  23.864016   \n",
      "2020-04-07 20:00:00+00:00      pm10  27.06  µg/m³      Norway  59.898690   \n",
      "\n",
      "                           longitude  averaged_over_in_hours  \n",
      "timestamp                                                     \n",
      "2017-01-18 16:00:00+00:00 -97.090280                    1.00  \n",
      "2020-04-07 20:00:00+00:00  -1.260278                    1.00  \n",
      "2020-04-07 19:00:00+00:00 -90.263610                    1.00  \n",
      "2020-04-07 18:30:00+00:00  78.802895                    0.25  \n",
      "2020-04-07 20:00:00+00:00  10.814950                    1.00  \n"
     ]
    }
   ],
   "source": [
    "import pandas as pd\n",
    "# Load dataset https://storage.googleapis.com/dqlab-dataset/LO4/global_air_quality_4000rows.csv\n",
    "gaq = pd.read_csv('https://storage.googleapis.com/dqlab-dataset/LO4/global_air_quality_4000rows.csv')\n",
    "# Cetak 5 data teratas\n",
    "print('Sebelum diubah dalam format datetime:\\n', gaq.head())\n",
    "# Ubah menjadi datetime\n",
    "gaq['timestamp'] = pd.to_datetime(gaq['timestamp'])\n",
    "gaq = gaq.set_index('timestamp')\n",
    "# Cetak 5 data teratas\n",
    "print('Sesudah diubah dalam format datetime:\\n', gaq.head())"
   ],
   "metadata": {
    "collapsed": false,
    "ExecuteTime": {
     "end_time": "2023-06-10T10:52:21.408242Z",
     "start_time": "2023-06-10T10:52:09.660751800Z"
    }
   }
  },
  {
   "cell_type": "markdown",
   "source": [
    "## Downsampling Data"
   ],
   "metadata": {
    "collapsed": false
   }
  },
  {
   "cell_type": "code",
   "execution_count": 3,
   "outputs": [
    {
     "name": "stdout",
     "output_type": "stream",
     "text": [
      "Dataset sebelum di-downsampling (5 teratas):\n",
      "                                                   location       city country  \\\n",
      "timestamp                                                                       \n",
      "2017-01-18 16:00:00+00:00                  MOBILE-KICKAPOO    LINCOLN      US   \n",
      "2020-04-07 20:00:00+00:00                  Oxford St Ebbes     Oxford      GB   \n",
      "2020-04-07 19:00:00+00:00                 BROADWAY (South)  St. Louis      US   \n",
      "2020-04-07 18:30:00+00:00  Deen Dayal Nagar, Sagar - MPPCB      Sagar      IN   \n",
      "2020-04-07 20:00:00+00:00                        Manglerud       Oslo      NO   \n",
      "\n",
      "                          pollutant  value   unit source_name   latitude  \\\n",
      "timestamp                                                                  \n",
      "2017-01-18 16:00:00+00:00      pm10   7.00  µg/m³      AirNow  35.488400   \n",
      "2020-04-07 20:00:00+00:00       no2  30.00  µg/m³       DEFRA  51.744804   \n",
      "2020-04-07 19:00:00+00:00      pm25   6.10  µg/m³      AirNow  38.542500   \n",
      "2020-04-07 18:30:00+00:00      pm25  23.67  µg/m³       caaqm  23.864016   \n",
      "2020-04-07 20:00:00+00:00      pm10  27.06  µg/m³      Norway  59.898690   \n",
      "\n",
      "                           longitude  averaged_over_in_hours  \n",
      "timestamp                                                     \n",
      "2017-01-18 16:00:00+00:00 -97.090280                    1.00  \n",
      "2020-04-07 20:00:00+00:00  -1.260278                    1.00  \n",
      "2020-04-07 19:00:00+00:00 -90.263610                    1.00  \n",
      "2020-04-07 18:30:00+00:00  78.802895                    0.25  \n",
      "2020-04-07 20:00:00+00:00  10.814950                    1.00  \n",
      "Downsampling daily to weekly - max (5 teratas):\n",
      "                           country pollutant  value   unit source_name  \\\n",
      "timestamp                                                               \n",
      "2014-05-18 00:00:00+00:00      PH      pm25    9.7  µg/m³     Spartan   \n",
      "2014-05-25 00:00:00+00:00     NaN       NaN    NaN    NaN         NaN   \n",
      "2014-06-01 00:00:00+00:00     NaN       NaN    NaN    NaN         NaN   \n",
      "2014-06-08 00:00:00+00:00     NaN       NaN    NaN    NaN         NaN   \n",
      "2014-06-15 00:00:00+00:00     NaN       NaN    NaN    NaN         NaN   \n",
      "\n",
      "                           latitude  longitude  averaged_over_in_hours  \n",
      "timestamp                                                               \n",
      "2014-05-18 00:00:00+00:00    14.635     121.08                     1.0  \n",
      "2014-05-25 00:00:00+00:00       NaN        NaN                     NaN  \n",
      "2014-06-01 00:00:00+00:00       NaN        NaN                     NaN  \n",
      "2014-06-08 00:00:00+00:00       NaN        NaN                     NaN  \n",
      "2014-06-15 00:00:00+00:00       NaN        NaN                     NaN  \n",
      "Downsampling daily to quarterly - min (5 teratas):\n",
      "                           country pollutant  value   unit source_name  \\\n",
      "timestamp                                                               \n",
      "2014-06-30 00:00:00+00:00      PH      pm25    9.7  µg/m³     Spartan   \n",
      "2014-09-30 00:00:00+00:00      US      pm25    7.1  µg/m³     Spartan   \n",
      "2014-12-31 00:00:00+00:00     NaN       NaN    NaN    NaN         NaN   \n",
      "2015-03-31 00:00:00+00:00     NaN       NaN    NaN    NaN         NaN   \n",
      "2015-06-30 00:00:00+00:00      AR      pm25   18.1  µg/m³     Spartan   \n",
      "\n",
      "                           latitude  longitude  averaged_over_in_hours  \n",
      "timestamp                                                               \n",
      "2014-06-30 00:00:00+00:00    14.635    121.080                     1.0  \n",
      "2014-09-30 00:00:00+00:00    37.132    -86.148                     1.0  \n",
      "2014-12-31 00:00:00+00:00       NaN        NaN                     NaN  \n",
      "2015-03-31 00:00:00+00:00       NaN        NaN                     NaN  \n",
      "2015-06-30 00:00:00+00:00   -34.560    -58.506                     1.0  \n"
     ]
    },
    {
     "name": "stderr",
     "output_type": "stream",
     "text": [
      "C:\\Users\\ferli\\AppData\\Local\\Temp\\ipykernel_7740\\2810122737.py:8: FutureWarning: Dropping invalid columns in DataFrameGroupBy.max is deprecated. In a future version, a TypeError will be raised. Before calling .max, select only columns which should be valid for the function.\n",
      "  gaq_weekly = gaq.resample('W').max()\n",
      "C:\\Users\\ferli\\AppData\\Local\\Temp\\ipykernel_7740\\2810122737.py:11: FutureWarning: Dropping invalid columns in DataFrameGroupBy.min is deprecated. In a future version, a TypeError will be raised. Before calling .min, select only columns which should be valid for the function.\n",
      "  gaq_quarterly = gaq.resample('Q').min()\n"
     ]
    }
   ],
   "source": [
    "import pandas as pd\n",
    "# Load dataset https://storage.googleapis.com/dqlab-dataset/LO4/global_air_quality_4000rows.csv\n",
    "gaq = pd.read_csv('https://storage.googleapis.com/dqlab-dataset/LO4/global_air_quality_4000rows.csv')\n",
    "gaq['timestamp'] = pd.to_datetime(gaq['timestamp'])\n",
    "gaq = gaq.set_index('timestamp')\n",
    "print('Dataset sebelum di-downsampling (5 teratas):\\n', gaq.head())\n",
    "# [1] Downsampling dari daily to weekly dan kita hitung maksimum untuk seminggu\n",
    "gaq_weekly = gaq.resample('W').max()\n",
    "print('Downsampling daily to weekly - max (5 teratas):\\n', gaq_weekly.head())\n",
    "# [2] Downsampling dari daily to quarterly dan kita hitung minimumnya untuk tiap quarter\n",
    "gaq_quarterly = gaq.resample('Q').min()\n",
    "print('Downsampling daily to quarterly - min (5 teratas):\\n', gaq_quarterly.head())"
   ],
   "metadata": {
    "collapsed": false,
    "ExecuteTime": {
     "end_time": "2023-06-10T10:57:32.801009900Z",
     "start_time": "2023-06-10T10:57:31.686548200Z"
    }
   }
  },
  {
   "cell_type": "markdown",
   "source": [
    "## Upsampling Data"
   ],
   "metadata": {
    "collapsed": false
   }
  },
  {
   "cell_type": "code",
   "execution_count": 5,
   "outputs": [
    {
     "name": "stdout",
     "output_type": "stream",
     "text": [
      "Dataset sebelum di-upsampling (5 teratas):\n",
      "                                                   location       city country  \\\n",
      "timestamp                                                                       \n",
      "2017-01-18 16:00:00+00:00                  MOBILE-KICKAPOO    LINCOLN      US   \n",
      "2020-04-07 20:00:00+00:00                  Oxford St Ebbes     Oxford      GB   \n",
      "2020-04-07 19:00:00+00:00                 BROADWAY (South)  St. Louis      US   \n",
      "2020-04-07 18:30:00+00:00  Deen Dayal Nagar, Sagar - MPPCB      Sagar      IN   \n",
      "2020-04-07 20:00:00+00:00                        Manglerud       Oslo      NO   \n",
      "\n",
      "                          pollutant  value   unit source_name   latitude  \\\n",
      "timestamp                                                                  \n",
      "2017-01-18 16:00:00+00:00      pm10   7.00  µg/m³      AirNow  35.488400   \n",
      "2020-04-07 20:00:00+00:00       no2  30.00  µg/m³       DEFRA  51.744804   \n",
      "2020-04-07 19:00:00+00:00      pm25   6.10  µg/m³      AirNow  38.542500   \n",
      "2020-04-07 18:30:00+00:00      pm25  23.67  µg/m³       caaqm  23.864016   \n",
      "2020-04-07 20:00:00+00:00      pm10  27.06  µg/m³      Norway  59.898690   \n",
      "\n",
      "                           longitude  averaged_over_in_hours  \n",
      "timestamp                                                     \n",
      "2017-01-18 16:00:00+00:00 -97.090280                    1.00  \n",
      "2020-04-07 20:00:00+00:00  -1.260278                    1.00  \n",
      "2020-04-07 19:00:00+00:00 -90.263610                    1.00  \n",
      "2020-04-07 18:30:00+00:00  78.802895                    0.25  \n",
      "2020-04-07 20:00:00+00:00  10.814950                    1.00  \n",
      "Upsampling daily to hourly - mean (5 teratas):\n",
      "                            value  latitude  longitude  averaged_over_in_hours\n",
      "timestamp                                                                    \n",
      "2014-05-13 03:00:00+00:00    9.7    14.635     121.08                     1.0\n",
      "2014-05-13 04:00:00+00:00    NaN       NaN        NaN                     NaN\n",
      "2014-05-13 05:00:00+00:00    NaN       NaN        NaN                     NaN\n",
      "2014-05-13 06:00:00+00:00    NaN       NaN        NaN                     NaN\n",
      "2014-05-13 07:00:00+00:00    NaN       NaN        NaN                     NaN\n"
     ]
    }
   ],
   "source": [
    "import pandas as pd\n",
    "# Load dataset https://storage.googleapis.com/dqlab-dataset/LO4/global_air_quality_4000rows.csv\n",
    "gaq = pd.read_csv('https://storage.googleapis.com/dqlab-dataset/LO4/global_air_quality_4000rows.csv')\n",
    "gaq['timestamp'] = pd.to_datetime(gaq['timestamp'])\n",
    "gaq = gaq.set_index('timestamp')\n",
    "print('Dataset sebelum di-upsampling (5 teratas):\\n', gaq.head())\n",
    "# Upsampling dari daily to hourly dan kita hitung reratanya\n",
    "gaq_hourly = gaq.resample('H').mean()\n",
    "print('Upsampling daily to hourly - mean (5 teratas):\\n', gaq_hourly.head())"
   ],
   "metadata": {
    "collapsed": false,
    "ExecuteTime": {
     "end_time": "2023-06-10T11:00:21.154377700Z",
     "start_time": "2023-06-10T11:00:20.491351600Z"
    }
   }
  },
  {
   "cell_type": "markdown",
   "source": [
    "## Resampling by Frequency"
   ],
   "metadata": {
    "collapsed": false
   }
  },
  {
   "cell_type": "code",
   "execution_count": 6,
   "outputs": [
    {
     "name": "stdout",
     "output_type": "stream",
     "text": [
      "Dataset sebelum di-resampling (5 teratas):\n",
      "                                                   location       city country  \\\n",
      "timestamp                                                                       \n",
      "2017-01-18 16:00:00+00:00                  MOBILE-KICKAPOO    LINCOLN      US   \n",
      "2020-04-07 20:00:00+00:00                  Oxford St Ebbes     Oxford      GB   \n",
      "2020-04-07 19:00:00+00:00                 BROADWAY (South)  St. Louis      US   \n",
      "2020-04-07 18:30:00+00:00  Deen Dayal Nagar, Sagar - MPPCB      Sagar      IN   \n",
      "2020-04-07 20:00:00+00:00                        Manglerud       Oslo      NO   \n",
      "\n",
      "                          pollutant  value   unit source_name   latitude  \\\n",
      "timestamp                                                                  \n",
      "2017-01-18 16:00:00+00:00      pm10   7.00  µg/m³      AirNow  35.488400   \n",
      "2020-04-07 20:00:00+00:00       no2  30.00  µg/m³       DEFRA  51.744804   \n",
      "2020-04-07 19:00:00+00:00      pm25   6.10  µg/m³      AirNow  38.542500   \n",
      "2020-04-07 18:30:00+00:00      pm25  23.67  µg/m³       caaqm  23.864016   \n",
      "2020-04-07 20:00:00+00:00      pm10  27.06  µg/m³      Norway  59.898690   \n",
      "\n",
      "                           longitude  averaged_over_in_hours  \n",
      "timestamp                                                     \n",
      "2017-01-18 16:00:00+00:00 -97.090280                    1.00  \n",
      "2020-04-07 20:00:00+00:00  -1.260278                    1.00  \n",
      "2020-04-07 19:00:00+00:00 -90.263610                    1.00  \n",
      "2020-04-07 18:30:00+00:00  78.802895                    0.25  \n",
      "2020-04-07 20:00:00+00:00  10.814950                    1.00  \n",
      "Resampling daily to 2 monthly - mean - ffill (5 teratas):\n",
      "                            value  latitude  longitude  averaged_over_in_hours\n",
      "timestamp                                                                    \n",
      "2014-05-31 00:00:00+00:00    9.7    14.635    121.080                     1.0\n",
      "2014-07-31 00:00:00+00:00    7.1    37.132    -86.148                     1.0\n",
      "2014-09-30 00:00:00+00:00    7.1    37.132    -86.148                     1.0\n",
      "2014-11-30 00:00:00+00:00   18.1   -34.560    -58.506                     1.0\n",
      "2015-01-31 00:00:00+00:00   18.1   -34.560    -58.506                     1.0\n"
     ]
    }
   ],
   "source": [
    "import pandas as pd\n",
    "# Load dataset https://storage.googleapis.com/dqlab-dataset/LO4/global_air_quality_4000rows.csv\n",
    "gaq = pd.read_csv('https://storage.googleapis.com/dqlab-dataset/LO4/global_air_quality_4000rows.csv')\n",
    "gaq['timestamp'] = pd.to_datetime(gaq['timestamp'])\n",
    "gaq = gaq.set_index('timestamp')\n",
    "print('Dataset sebelum di-resampling (5 teratas):\\n', gaq.head())\n",
    "# Resample dari daily to 2 monthly, hitung reratanya, dan fillna = 'bfill'\n",
    "gaq_2monthly = gaq.resample('2M').mean().fillna(method='bfill')\n",
    "print('Resampling daily to 2 monthly - mean - ffill (5 teratas):\\n', gaq_2monthly.head())"
   ],
   "metadata": {
    "collapsed": false,
    "ExecuteTime": {
     "end_time": "2023-06-10T11:03:05.883896Z",
     "start_time": "2023-06-10T11:02:54.046793800Z"
    }
   }
  },
  {
   "cell_type": "markdown",
   "source": [
    "## Visualisasi"
   ],
   "metadata": {
    "collapsed": false
   }
  },
  {
   "cell_type": "code",
   "execution_count": 7,
   "outputs": [
    {
     "name": "stdout",
     "output_type": "stream",
     "text": [
      "Data (5 teratas):\n",
      " pollutant                   bc   co  no2   o3  pm10  pm25  so2\n",
      "timestamp                                                     \n",
      "2014-05-13 03:00:00+00:00  0.0  0.0  0.0  0.0   0.0   9.7  0.0\n",
      "2014-08-12 20:00:00+00:00  0.0  0.0  0.0  0.0   0.0   7.1  0.0\n",
      "2015-04-15 00:00:00+00:00  0.0  0.0  0.0  0.0   0.0  18.1  0.0\n",
      "2015-08-21 01:00:00+00:00  0.0  0.0  0.0  0.0   0.0  36.9  0.0\n",
      "2015-09-13 01:00:00+00:00  0.0  0.0  0.0  0.0   0.0   8.8  0.0\n"
     ]
    },
    {
     "data": {
      "text/plain": "<Figure size 720x720 with 7 Axes>",
      "image/png": "[encoded data removed]"
     },
     "metadata": {
      "needs_background": "light"
     },
     "output_type": "display_data"
    }
   ],
   "source": [
    "import pandas as pd\n",
    "import matplotlib.pyplot as plt\n",
    "# Load dataset https://storage.googleapis.com/dqlab-dataset/LO4/global_air_quality_4000rows.csv\n",
    "gaq = pd.read_csv('https://storage.googleapis.com/dqlab-dataset/LO4/global_air_quality_4000rows.csv')\n",
    "gaq['timestamp'] = pd.to_datetime(gaq['timestamp'])\n",
    "gaq = gaq.set_index('timestamp')\n",
    "# [1] Membuat pivot table yang menunjukkan waktu di baris nya dan masing-masing value dari pollutant nya dalam kolom\n",
    "gaq_viz = gaq[['pollutant', 'value']].reset_index().set_index(['timestamp', 'pollutant'])\n",
    "gaq_viz = gaq_viz.pivot_table(index='timestamp', columns='pollutant', aggfunc='mean').fillna(0)\n",
    "gaq_viz.columns = gaq_viz.columns.droplevel(0)\n",
    "print('Data (5 teratas):\\n', gaq_viz.head())\n",
    "# [2] Membuat fungsi yang memberikan default value 0 ketika value nya di bawah 0 dan apply ke setiap elemen dari dataset tersebut, kemudian menampilkannya sebagai chart\n",
    "def default_val(val):\n",
    " if val < 0:\n",
    "   return 0\n",
    " else:\n",
    "   return val\n",
    "line1 = gaq_viz.resample('M').mean().ffill().applymap(lambda x: default_val(x)).apply(lambda x: x/x.max()) # default value if value < 0 then 0, kemudian menghasilkan % value = value/max(value)\n",
    "line1.plot(\n",
    "   title = 'average value of each pollutnat over months',\n",
    "   figsize = (10, 10), #ukuran canvas 10px x 10px\n",
    "   ylim = (0, 1.25), #memberikan batas tampilan y-axis hanya 0 sampai 125%\n",
    "   subplots = True #memecah plot menjadi beberapa bagian sesuai dengan jumlah kolom\n",
    ")\n",
    "plt.ylabel('avg pollutant (%)')\n",
    "plt.xlabel('month')\n",
    "plt.show()"
   ],
   "metadata": {
    "collapsed": false,
    "ExecuteTime": {
     "end_time": "2023-06-10T11:09:59.212650500Z",
     "start_time": "2023-06-10T11:09:45.534780700Z"
    }
   }
  }
 ],
 "metadata": {
  "kernelspec": {
   "display_name": "Python 3",
   "language": "python",
   "name": "python3"
  },
  "language_info": {
   "codemirror_mode": {
    "name": "ipython",
    "version": 2
   },
   "file_extension": ".py",
   "mimetype": "text/x-python",
   "name": "python",
   "nbconvert_exporter": "python",
   "pygments_lexer": "ipython2",
   "version": "2.7.6"
  }
 },
 "nbformat": 4,
 "nbformat_minor": 0
}
