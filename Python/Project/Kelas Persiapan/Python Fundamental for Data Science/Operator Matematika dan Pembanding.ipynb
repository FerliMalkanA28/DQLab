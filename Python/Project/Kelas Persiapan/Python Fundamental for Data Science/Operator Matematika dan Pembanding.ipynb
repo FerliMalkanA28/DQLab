{
  "nbformat": 4,
  "nbformat_minor": 0,
  "metadata": {
    "colab": {
      "provenance": []
    },
    "kernelspec": {
      "name": "python3",
      "display_name": "Python 3"
    },
    "language_info": {
      "name": "python"
    }
  },
  "cells": [
    {
      "cell_type": "markdown",
      "source": [
        "# **Operator Matematika dan Pembanding**\n"
      ],
      "metadata": {
        "id": "rJ4DJG1Yg8ZH"
      }
    },
    {
      "cell_type": "markdown",
      "source": [
        "Penggunaan Operator Matematika dan Pembanding Pada Python\n",
        "\n"
      ],
      "metadata": {
        "id": "ul5e3QQ5hEGQ"
      }
    },
    {
      "cell_type": "markdown",
      "source": [
        "# **Praktik Operasi Matematika**"
      ],
      "metadata": {
        "id": "q_R05EeDSzgh"
      }
    },
    {
      "cell_type": "code",
      "source": [
        "a=10\n",
        "b=5\n",
        "selisih = a-b\n",
        "jumlah = a+b\n",
        "kali = a*b\n",
        "bagi = a/b\n",
        "print(\"Hasil penjumlahan a dan b adalah\", jumlah)\n",
        "print(\"Selisih a dan b adalah :\",selisih)\n",
        "print(\"Hasil perkalian a dan b adalah :\",kali)\n",
        "print(\"Hasil pembagian a dan b adalah:\",bagi)"
      ],
      "metadata": {
        "colab": {
          "base_uri": "https://localhost:8080/"
        },
        "id": "6I8nX78_S3AO",
        "outputId": "5ad0da7e-d210-42ec-d17e-8360b5427055"
      },
      "execution_count": 1,
      "outputs": [
        {
          "output_type": "stream",
          "name": "stdout",
          "text": [
            "Hasil penjumlahan a dan b adalah 15\n",
            "Selisih a dan b adalah : 5\n",
            "Hasil perkalian a dan b adalah : 50\n",
            "Hasil pembagian a dan b adalah: 2.0\n"
          ]
        }
      ]
    },
    {
      "cell_type": "markdown",
      "source": [
        "# **Operasi modulus**\n"
      ],
      "metadata": {
        "id": "3nNbl4MNS5R6"
      }
    },
    {
      "cell_type": "code",
      "source": [
        "c=10\n",
        "d=3\n",
        "\n",
        "modulus=c%d\n",
        "print(\"Hasil modulus\",modulus)"
      ],
      "metadata": {
        "colab": {
          "base_uri": "https://localhost:8080/"
        },
        "id": "P8IUKgCETccO",
        "outputId": "54312faa-7db6-487b-9b37-45eb20dcf604"
      },
      "execution_count": 2,
      "outputs": [
        {
          "output_type": "stream",
          "name": "stdout",
          "text": [
            "Hasil modulus 1\n"
          ]
        }
      ]
    },
    {
      "cell_type": "markdown",
      "source": [
        "# **Tugas Mid Praktek**\n"
      ],
      "metadata": {
        "id": "sNSduccYTd_I"
      }
    },
    {
      "cell_type": "code",
      "source": [
        "angka = 5\n",
        "\n",
        "if angka % 2 == 0 :\n",
        "\tprint(\"angka termasuk bilangan genap\")\n",
        "else :\n",
        "\tprint(\"angka termasuk bilangan ganjil\")"
      ],
      "metadata": {
        "colab": {
          "base_uri": "https://localhost:8080/"
        },
        "id": "6rWHplb0ThjM",
        "outputId": "2fc2b2a0-622e-475b-c54c-96912364d80c"
      },
      "execution_count": 3,
      "outputs": [
        {
          "output_type": "stream",
          "name": "stdout",
          "text": [
            "angka termasuk bilangan ganjil\n"
          ]
        }
      ]
    }
  ]
}