{
  "nbformat": 4,
  "nbformat_minor": 0,
  "metadata": {
    "colab": {
      "provenance": []
    },
    "kernelspec": {
      "name": "python3",
      "display_name": "Python 3"
    },
    "language_info": {
      "name": "python"
    }
  },
  "cells": [
    {
      "cell_type": "markdown",
      "source": [
        "# **Struktur Kontrol: Percabangan Keputusan**\n"
      ],
      "metadata": {
        "id": "rJ4DJG1Yg8ZH"
      }
    },
    {
      "cell_type": "markdown",
      "source": [
        "Mengetahui penggunaan IF, ELSE dan IF ELSE dalam Python"
      ],
      "metadata": {
        "id": "ul5e3QQ5hEGQ"
      }
    },
    {
      "cell_type": "markdown",
      "source": [
        "# **IF Statement**\n"
      ],
      "metadata": {
        "id": "rtjzwOAmI0Ef"
      }
    },
    {
      "cell_type": "code",
      "source": [
        "i = 7\n",
        "\n",
        "if (i==10):\n",
        "\tprint(\"ini adalah angka 10\")"
      ],
      "metadata": {
        "id": "GLzsAw8bI4Pz"
      },
      "execution_count": 4,
      "outputs": []
    },
    {
      "cell_type": "markdown",
      "source": [
        "# **IF … ELSE …**\n"
      ],
      "metadata": {
        "id": "FeRMyhf1I5qf"
      }
    },
    {
      "cell_type": "code",
      "source": [
        "i = 5\n",
        "\n",
        "if (i == 10):\n",
        "\tprint(\"ini adalah angka 10\")\n",
        "\n",
        "else :\n",
        "\tprint (\"bukan angka 10\")"
      ],
      "metadata": {
        "colab": {
          "base_uri": "https://localhost:8080/"
        },
        "id": "RzEd97J-I9E8",
        "outputId": "c595a9b3-bbed-4482-e2a8-980a416b71ca"
      },
      "execution_count": 5,
      "outputs": [
        {
          "output_type": "stream",
          "name": "stdout",
          "text": [
            "bukan angka 10\n"
          ]
        }
      ]
    },
    {
      "cell_type": "markdown",
      "source": [
        "# **IF … ELIF … ELSE ….**"
      ],
      "metadata": {
        "id": "POB8RbJCI-Xg"
      }
    },
    {
      "cell_type": "code",
      "source": [
        "i=3\n",
        "\n",
        "if(i==5):\n",
        "     print(\"ini adalah angka 5\")\n",
        "elif(i>5):\n",
        "     print(\"lebih besar dari 5\")\n",
        "else:\n",
        "     print(\"lebih kecil dari 5\")"
      ],
      "metadata": {
        "colab": {
          "base_uri": "https://localhost:8080/"
        },
        "id": "4Aa_m8REJCRI",
        "outputId": "a967a403-b1a1-4a5c-fcdc-d652d1a8a3f6"
      },
      "execution_count": 6,
      "outputs": [
        {
          "output_type": "stream",
          "name": "stdout",
          "text": [
            "lebih kecil dari 5\n"
          ]
        }
      ]
    },
    {
      "cell_type": "markdown",
      "source": [
        "# **NESTED IF**\n"
      ],
      "metadata": {
        "id": "oqz75MrqJFVO"
      }
    },
    {
      "cell_type": "code",
      "source": [
        "i = 2\n",
        "\n",
        "if (i<7):\n",
        "\tprint(\"nilai i kurang dari 7\")\n",
        "\tif (i < 3) :\n",
        "\t\tprint(\"nilai i kurang dari 7 dan kurang dari 3\")\n",
        "\telse :\n",
        "\t\tprint(\"niali i kurang dari 7 tapi lebih dari 3\")"
      ],
      "metadata": {
        "id": "4h4dFW_PJGdq",
        "outputId": "4048859a-84a1-479f-b1cd-96da4325080b",
        "colab": {
          "base_uri": "https://localhost:8080/"
        }
      },
      "execution_count": 7,
      "outputs": [
        {
          "output_type": "stream",
          "name": "stdout",
          "text": [
            "nilai i kurang dari 7\n",
            "nilai i kurang dari 7 dan kurang dari 3\n"
          ]
        }
      ]
    }
  ]
}