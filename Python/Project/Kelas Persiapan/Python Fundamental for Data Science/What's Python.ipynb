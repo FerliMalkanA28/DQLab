{
  "nbformat": 4,
  "nbformat_minor": 0,
  "metadata": {
    "colab": {
      "provenance": []
    },
    "kernelspec": {
      "name": "python3",
      "display_name": "Python 3"
    },
    "language_info": {
      "name": "python"
    }
  },
  "cells": [
    {
      "cell_type": "markdown",
      "source": [
        "# **What's Python**\n"
      ],
      "metadata": {
        "id": "rJ4DJG1Yg8ZH"
      }
    },
    {
      "cell_type": "markdown",
      "source": [
        "Pendahuluan tentang Python, The Most Popular Data Science Programming Language"
      ],
      "metadata": {
        "id": "ul5e3QQ5hEGQ"
      }
    },
    {
      "cell_type": "markdown",
      "source": [
        "# **Code Hello World**"
      ],
      "metadata": {
        "id": "wWzaFqI5IZf5"
      }
    },
    {
      "cell_type": "code",
      "source": [
        "print(10*2+5)\n",
        "print(\"Academy DQLab\")"
      ],
      "metadata": {
        "colab": {
          "base_uri": "https://localhost:8080/"
        },
        "id": "j-6d7JiDIdOr",
        "outputId": "e2691c99-37f7-413e-ceeb-4970ae95400e"
      },
      "execution_count": 1,
      "outputs": [
        {
          "output_type": "stream",
          "name": "stdout",
          "text": [
            "25\n",
            "Academy DQLab\n"
          ]
        }
      ]
    },
    {
      "cell_type": "markdown",
      "source": [
        "# **Comment Pada Python**\n"
      ],
      "metadata": {
        "id": "yPTrvuXiIdy3"
      }
    },
    {
      "cell_type": "code",
      "source": [
        "print(10*2+5) #fungsi matematika\n",
        "print(\"Academy DQLab\") #fungsi mencetak kalimat"
      ],
      "metadata": {
        "colab": {
          "base_uri": "https://localhost:8080/"
        },
        "id": "5bObgUiEIgx1",
        "outputId": "24bd1af9-28e2-45d4-e927-4a5b5e4dd480"
      },
      "execution_count": 2,
      "outputs": [
        {
          "output_type": "stream",
          "name": "stdout",
          "text": [
            "25\n",
            "Academy DQLab\n"
          ]
        }
      ]
    },
    {
      "cell_type": "markdown",
      "source": [
        "# **Printing Data Type**\n"
      ],
      "metadata": {
        "id": "ZhARxN71IiVP"
      }
    },
    {
      "cell_type": "code",
      "source": [
        "var_string=\"Belajar Python DQLAB\"\n",
        "var_int=10\n",
        "var_float=3.14\n",
        "var_list=[1,2,3,4]\n",
        "var_tuple=(\"satu\",\"dua\",\"tiga\")\n",
        "var_dict={\"nama\":\"Ali\", 'umur':20}\n",
        "\n",
        "\n",
        "print(var_string)\n",
        "print(var_int)\n",
        "print(var_float)\n",
        "print(var_list)\n",
        "print(var_tuple)\n",
        "print(var_dict)\n",
        "\n",
        "print(type(var_string))\n",
        "print(type(var_int))\n",
        "print(type(var_float))\n",
        "print(type(var_list))\n",
        "print(type(var_tuple))\n",
        "print(type(var_dict))"
      ],
      "metadata": {
        "id": "mBZr08SFImyP",
        "outputId": "eb21dc8d-f6f0-4e0c-d70a-2ae6e52ef94e",
        "colab": {
          "base_uri": "https://localhost:8080/"
        }
      },
      "execution_count": 3,
      "outputs": [
        {
          "output_type": "stream",
          "name": "stdout",
          "text": [
            "Belajar Python DQLAB\n",
            "10\n",
            "3.14\n",
            "[1, 2, 3, 4]\n",
            "('satu', 'dua', 'tiga')\n",
            "{'nama': 'Ali', 'umur': 20}\n",
            "<class 'str'>\n",
            "<class 'int'>\n",
            "<class 'float'>\n",
            "<class 'list'>\n",
            "<class 'tuple'>\n",
            "<class 'dict'>\n"
          ]
        }
      ]
    }
  ]
}