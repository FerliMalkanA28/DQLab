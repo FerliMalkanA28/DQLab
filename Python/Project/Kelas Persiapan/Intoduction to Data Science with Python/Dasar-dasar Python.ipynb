{
  "nbformat": 4,
  "nbformat_minor": 0,
  "metadata": {
    "colab": {
      "provenance": []
    },
    "kernelspec": {
      "name": "python3",
      "display_name": "Python 3"
    },
    "language_info": {
      "name": "python"
    }
  },
  "cells": [
    {
      "cell_type": "markdown",
      "source": [
        "# **Dasar-dasar Python**\n"
      ],
      "metadata": {
        "id": "rJ4DJG1Yg8ZH"
      }
    },
    {
      "cell_type": "markdown",
      "source": [
        "Kamu akan mengenal metode belajar dengan Live Code Editor dan dasar-dasar pemrograman Python. \n",
        "\n"
      ],
      "metadata": {
        "id": "ul5e3QQ5hEGQ"
      }
    },
    {
      "cell_type": "markdown",
      "source": [
        "# **Python “Hello World” & Statement**\n"
      ],
      "metadata": {
        "id": "JNwyy12ONC1u"
      }
    },
    {
      "cell_type": "code",
      "source": [
        "print(\"Hello World.\")\n",
        "print(\"Saya Aksara, baru belajar Python.\")"
      ],
      "metadata": {
        "colab": {
          "base_uri": "https://localhost:8080/"
        },
        "id": "FV8CkxSGNFX7",
        "outputId": "785b1f88-d591-411b-94c4-78139db96a6d"
      },
      "execution_count": 1,
      "outputs": [
        {
          "output_type": "stream",
          "name": "stdout",
          "text": [
            "Hello World.\n",
            "Saya Aksara, baru belajar Python.\n"
          ]
        }
      ]
    },
    {
      "cell_type": "markdown",
      "source": [
        "# **Variables di Python**\n"
      ],
      "metadata": {
        "id": "wF7VnLUINLQf"
      }
    },
    {
      "cell_type": "code",
      "source": [
        "bil1 = 10\n",
        "Bil_2 = 20\n",
        "Frasa = \"Halo Dunia\"\n",
        "bil1, Bil_2 = 10, 20\n",
        "salam = \"Selamat Pagi\" ; Penutup = \"Salam Sejahtera\""
      ],
      "metadata": {
        "id": "z9FFJoKrNMqX"
      },
      "execution_count": null,
      "outputs": []
    },
    {
      "cell_type": "markdown",
      "source": [
        "# **Comments di Python**\n"
      ],
      "metadata": {
        "id": "UEHBS-1oNQ3B"
      }
    },
    {
      "cell_type": "code",
      "source": [
        "#perintah pada baris ini tidak mempengaruhi program\n",
        "'''\n",
        "perintah ini tidak akan dieksekusi oleh Python\n",
        "dan perintah ini juga tidak akan dieksekusi\n",
        "perintah ini juga tidak akan dieksekusi\n",
        "'''\n",
        "print(\"jadi # digunakan untuk membuat comment pada Python\")"
      ],
      "metadata": {
        "id": "AinnN1l-NSP1"
      },
      "execution_count": null,
      "outputs": []
    }
  ]
}