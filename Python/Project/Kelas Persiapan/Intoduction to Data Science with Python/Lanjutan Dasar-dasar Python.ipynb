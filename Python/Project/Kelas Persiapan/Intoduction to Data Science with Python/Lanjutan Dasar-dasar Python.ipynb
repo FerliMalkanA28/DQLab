{
  "nbformat": 4,
  "nbformat_minor": 0,
  "metadata": {
    "colab": {
      "provenance": []
    },
    "kernelspec": {
      "name": "python3",
      "display_name": "Python 3"
    },
    "language_info": {
      "name": "python"
    }
  },
  "cells": [
    {
      "cell_type": "markdown",
      "source": [
        "# **Lanjutan Dasar-dasar Python**\n"
      ],
      "metadata": {
        "id": "rJ4DJG1Yg8ZH"
      }
    },
    {
      "cell_type": "markdown",
      "source": [
        "Kamu akan memahami tipe data pada Python dan menerapkan teknik memanggil library pada Python."
      ],
      "metadata": {
        "id": "ul5e3QQ5hEGQ"
      }
    },
    {
      "cell_type": "markdown",
      "source": [
        "# **Tugas Praktek**\n"
      ],
      "metadata": {
        "id": "zBvuCclMN5-t"
      }
    },
    {
      "cell_type": "code",
      "source": [
        "text = \"Belajar Python di DQLab.\"\n",
        "print(list(text))\n",
        "print(tuple(text))\n",
        "print(set(text))"
      ],
      "metadata": {
        "id": "SYOBqnrCOCW1"
      },
      "execution_count": null,
      "outputs": []
    },
    {
      "cell_type": "markdown",
      "source": [
        "# **Menggunakan Library di Python**\n"
      ],
      "metadata": {
        "id": "ZE9YrS7hOGGR"
      }
    },
    {
      "cell_type": "code",
      "source": [
        "import math\n",
        "import numpy as np\n",
        "import pandas as pd\n",
        "import seaborn as sns"
      ],
      "metadata": {
        "id": "JW0rjgpCOIXB"
      },
      "execution_count": null,
      "outputs": []
    }
  ]
}