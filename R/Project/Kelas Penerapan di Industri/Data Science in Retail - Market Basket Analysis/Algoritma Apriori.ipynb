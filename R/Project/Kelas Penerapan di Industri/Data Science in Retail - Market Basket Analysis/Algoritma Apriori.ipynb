{
  "nbformat": 4,
  "nbformat_minor": 0,
  "metadata": {
    "colab": {
      "provenance": []
    },
    "kernelspec": {
      "name": "ir",
      "display_name": "R"
    },
    "language_info": {
      "name": "R"
    },
    "gpuClass": "standard"
  },
  "cells": [
    {
      "cell_type": "markdown",
      "source": [
        "# **Algoritma Apriori**"
      ],
      "metadata": {
        "id": "i1VHSWThogva"
      }
    },
    {
      "cell_type": "markdown",
      "source": [
        "Pengenalan terhadap algoritma apriori sebagai implementasi Market Basket Analysis di R, terutama kenapa algoritma ini bisa membantu menemukan paket produk terbaik dari sekian banyak kombinasi yang dihasilkan."
      ],
      "metadata": {
        "id": "9_9iYxfhqNzK"
      }
    },
    {
      "cell_type": "markdown",
      "source": [
        "# **Menampilkan Kombinasi dari Contoh Transaksi \"Kecil\"**\n"
      ],
      "metadata": {
        "id": "VDVuLHvsBoy3"
      }
    },
    {
      "cell_type": "code",
      "source": [
        "#Menggunakan library arules\n",
        "library(arules)\n",
        "\n",
        "#Membaca transaksi dari file data_transaksi.txt\n",
        "transaksi <- read.transactions(file=\"https://storage.googleapis.com/dqlab-dataset/data_transaksi.txt\", format=\"single\", sep=\"\\t\", cols=c(1,2), skip=1)\n",
        "\n",
        "#Menampilkan jumlah kombinasi dari produk yang terdapat pada daftar transaksi yang ada\n",
        "inspect(apriori(transaksi, parameter = list(support=.1, minlen=2, target='frequent itemsets')))"
      ],
      "metadata": {
        "id": "8bwKuMUsBqG_"
      },
      "execution_count": null,
      "outputs": []
    },
    {
      "cell_type": "markdown",
      "source": [
        "# **Menampilkan Kombinasi dari Transaksi \"Besar\"**\n"
      ],
      "metadata": {
        "id": "UlqiuAaxB3Sf"
      }
    },
    {
      "cell_type": "code",
      "source": [
        "#Menggunakan library arules\n",
        "library(arules)\n",
        "\n",
        "#Membaca transaksi dari file data_transaksi2.txt\n",
        "transaksi <- read.transactions(file=\"https://storage.googleapis.com/dqlab-dataset/data_transaksi2.txt\", format=\"single\", sep=\"\\t\", cols=c(1,2), skip=1)\n",
        "\n",
        "#Menampilkan jumlah kombinasi dari produk yang terdapat pada daftar transaksi yang ada\n",
        "inspect(apriori(transaksi, parameter = list(support=.03, minlen=2, target='frequent itemsets')))\n"
      ],
      "metadata": {
        "id": "ZIx0k9KQB7vt"
      },
      "execution_count": null,
      "outputs": []
    }
  ]
}