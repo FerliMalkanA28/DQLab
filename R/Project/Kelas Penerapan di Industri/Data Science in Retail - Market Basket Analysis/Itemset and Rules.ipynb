{
  "nbformat": 4,
  "nbformat_minor": 0,
  "metadata": {
    "colab": {
      "provenance": []
    },
    "kernelspec": {
      "name": "ir",
      "display_name": "R"
    },
    "language_info": {
      "name": "R"
    },
    "gpuClass": "standard"
  },
  "cells": [
    {
      "cell_type": "markdown",
      "source": [
        "# **Itemset and Rules**"
      ],
      "metadata": {
        "id": "i1VHSWThogva"
      }
    },
    {
      "cell_type": "markdown",
      "source": [
        "Itemset and Rules\n"
      ],
      "metadata": {
        "id": "9_9iYxfhqNzK"
      }
    },
    {
      "cell_type": "markdown",
      "source": [
        "# **Melihat Itemset per Transaksi dengan Inspect**\n"
      ],
      "metadata": {
        "id": "Z57v7xXDP142"
      }
    },
    {
      "cell_type": "code",
      "source": [
        "library(arules)\n",
        "transaksi <- read.transactions(file=\"https://storage.googleapis.com/dqlab-dataset/data_transaksi.txt\", format=\"single\", sep=\"\\t\", cols=c(1,2), skip=1)\n",
        "\n",
        "#Menggunakan inspect terhadap transaksi\n",
        "inspect(transaksi)"
      ],
      "metadata": {
        "id": "eA1FJaC4P4XF"
      },
      "execution_count": null,
      "outputs": []
    },
    {
      "cell_type": "markdown",
      "source": [
        "# **Menghasilkan Rules dengan Apriori**\n"
      ],
      "metadata": {
        "id": "RIIRlq3EQRoG"
      }
    },
    {
      "cell_type": "code",
      "source": [
        "library(arules)\n",
        "transaksi <- read.transactions(file=\"https://storage.googleapis.com/dqlab-dataset/data_transaksi.txt\", format=\"single\", sep=\"\\t\", cols=c(1,2), skip=1)\n",
        "\n",
        "#Menghasilkan associaton rules\n",
        "apriori(transaksi)"
      ],
      "metadata": {
        "id": "grBTKT5dQjp2"
      },
      "execution_count": null,
      "outputs": []
    },
    {
      "cell_type": "markdown",
      "source": [
        "# **Melihat Rules dengan fungsi inspect**\n"
      ],
      "metadata": {
        "id": "H5jn6RkCQ6IW"
      }
    },
    {
      "cell_type": "code",
      "source": [
        "library(arules)\n",
        "transaksi <- read.transactions(file=\"https://storage.googleapis.com/dqlab-dataset/data_transaksi.txt\", format=\"single\", sep=\"\\t\", cols=c(1,2), skip=1)\n",
        "\n",
        "#Menghasilkan association rules dan disimpan sebagai variable mba\n",
        "mba <- apriori(transaksi)\n",
        "\n",
        "#Melihat isi dari rules dengan menggunakan fungsi inspect\n",
        "inspect(mba)"
      ],
      "metadata": {
        "id": "v4uVcYm_Q8la"
      },
      "execution_count": null,
      "outputs": []
    },
    {
      "cell_type": "markdown",
      "source": [
        "# **Filter RHS**\n"
      ],
      "metadata": {
        "id": "UB4dClIiyIEk"
      }
    },
    {
      "cell_type": "code",
      "source": [
        "library(arules)\n",
        "transaksi <- read.transactions(file=\"https://storage.googleapis.com/dqlab-dataset/data_transaksi.txt\", format=\"single\", sep=\"\\t\", cols=c(1,2), skip=1)\n",
        "\n",
        "#Menghasilkan association rules dan disimpan sebagai variable mba\n",
        "mba <- apriori(transaksi)\n",
        "\n",
        "#Filter rhs dengan item \"Sirup\" dan tampilkan\n",
        "inspect(subset(mba, rhs %in% \"Sirup\"))"
      ],
      "metadata": {
        "id": "HJFNkZ1S_QQ0"
      },
      "execution_count": null,
      "outputs": []
    },
    {
      "cell_type": "markdown",
      "source": [
        "# **Filter LHS**\n"
      ],
      "metadata": {
        "id": "Zlql36Cb_Q1x"
      }
    },
    {
      "cell_type": "code",
      "source": [
        "library(arules)\n",
        "transaksi <- read.transactions(file=\"https://storage.googleapis.com/dqlab-dataset/data_transaksi.txt\", format=\"single\", sep=\"\\t\", cols=c(1,2), skip=1)\n",
        "mba <- apriori(transaksi)\n",
        "inspect(subset(mba, lhs %in% \"Gula\"))"
      ],
      "metadata": {
        "id": "IVeCI525_3c7"
      },
      "execution_count": null,
      "outputs": []
    },
    {
      "cell_type": "markdown",
      "source": [
        "# **Filter LHS dan RHS**"
      ],
      "metadata": {
        "id": "kvEll_sb_8ws"
      }
    },
    {
      "cell_type": "code",
      "source": [
        "library(arules)\n",
        "transaksi <- read.transactions(file=\"https://storage.googleapis.com/dqlab-dataset/data_transaksi.txt\", format=\"single\", sep=\"\\t\", cols=c(1,2), skip=1)\n",
        "mba <- apriori(transaksi)\n",
        "inspect(subset(mba, lhs %in% \"Pet Food\" & rhs %in% \"Sirup\"))"
      ],
      "metadata": {
        "id": "vz5aJaquACQt"
      },
      "execution_count": null,
      "outputs": []
    }
  ]
}