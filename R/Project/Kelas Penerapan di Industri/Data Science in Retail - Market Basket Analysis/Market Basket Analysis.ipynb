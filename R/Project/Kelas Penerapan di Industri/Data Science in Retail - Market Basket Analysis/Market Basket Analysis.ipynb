{
  "nbformat": 4,
  "nbformat_minor": 0,
  "metadata": {
    "colab": {
      "provenance": []
    },
    "kernelspec": {
      "name": "ir",
      "display_name": "R"
    },
    "language_info": {
      "name": "R"
    },
    "gpuClass": "standard"
  },
  "cells": [
    {
      "cell_type": "markdown",
      "source": [
        "# **Market Basket Analysis**"
      ],
      "metadata": {
        "id": "i1VHSWThogva"
      }
    },
    {
      "cell_type": "markdown",
      "source": [
        "Bab pertama ini menjelaskan apa dan kenapa Market Basket Analysis yang akan dimanfaatkan pada bisnis ritel untuk menemukan product packaging yang tepat dan mengurangi masalah inventory.\n"
      ],
      "metadata": {
        "id": "9_9iYxfhqNzK"
      }
    },
    {
      "cell_type": "markdown",
      "source": [
        "# **Contoh Code Market Basket Analysis di R**\n"
      ],
      "metadata": {
        "id": "cvRnEk9Ipyw3"
      }
    },
    {
      "cell_type": "code",
      "source": [
        "#Menggunakan library arules\n",
        "library(arules)\n",
        "\n",
        "#Membaca transaksi dari file data_transaksi.txt\n",
        "transaksi <- read.transactions(file=\"https://storage.googleapis.com/dqlab-dataset/data_transaksi.txt\", format=\"single\", sep=\"\\t\", cols=c(1,2), skip=1)\n",
        "\n",
        "#Menampilkan data transaksi dengan print dan inspect \n",
        "inspect(transaksi)\n",
        "\n",
        "#Menghasilkan model Market Basket Analysis\n",
        "mba <- apriori(transaksi,parameter = list(supp = 0.1, confidence = 0.5))\n",
        "\n",
        "#Menampilkan paket produk\n",
        "inspect(subset(mba, lift>1))"
      ],
      "metadata": {
        "id": "sKONegdK8P0O"
      },
      "execution_count": null,
      "outputs": []
    },
    {
      "cell_type": "markdown",
      "source": [],
      "metadata": {
        "id": "RXkjjaTC8QUM"
      }
    }
  ]
}