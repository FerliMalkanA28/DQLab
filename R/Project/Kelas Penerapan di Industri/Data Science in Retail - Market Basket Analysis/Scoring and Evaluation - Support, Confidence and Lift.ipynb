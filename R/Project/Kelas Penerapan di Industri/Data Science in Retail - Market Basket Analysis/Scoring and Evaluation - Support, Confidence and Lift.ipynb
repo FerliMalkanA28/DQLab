{
  "nbformat": 4,
  "nbformat_minor": 0,
  "metadata": {
    "colab": {
      "provenance": []
    },
    "kernelspec": {
      "name": "ir",
      "display_name": "R"
    },
    "language_info": {
      "name": "R"
    },
    "gpuClass": "standard"
  },
  "cells": [
    {
      "cell_type": "markdown",
      "source": [
        "# **Scoring and Evaluation: Support, Confidence and Lift**\n"
      ],
      "metadata": {
        "id": "i1VHSWThogva"
      }
    },
    {
      "cell_type": "markdown",
      "source": [
        "Scoring and Evaluation: Support, Confidence and Lift\n"
      ],
      "metadata": {
        "id": "9_9iYxfhqNzK"
      }
    },
    {
      "cell_type": "markdown",
      "source": [
        "# **Menghasilkan Rules dengan Parameter Support dan Confidence**\n"
      ],
      "metadata": {
        "id": "do5lFulwBCk-"
      }
    },
    {
      "cell_type": "code",
      "source": [
        "library(arules)\n",
        "transaksi <- read.transactions(file=\"https://storage.googleapis.com/dqlab-dataset/data_transaksi.txt\", format=\"single\", sep=\"\\t\", cols=c(1,2), skip=1)\n",
        "apriori(transaksi,parameter = list(supp = 0.1, confidence = 0.5))"
      ],
      "metadata": {
        "id": "-tW3t1WFCj7G"
      },
      "execution_count": null,
      "outputs": []
    },
    {
      "cell_type": "markdown",
      "source": [
        "# **Inspeksi Rules Yang Dihasilkan**\n"
      ],
      "metadata": {
        "id": "oD7IfhvwDCZo"
      }
    },
    {
      "cell_type": "code",
      "source": [
        "library(arules)\n",
        "transaksi <- read.transactions(file=\"https://storage.googleapis.com/dqlab-dataset/data_transaksi.txt\", format=\"single\", sep=\"\\t\", cols=c(1,2), skip=1)\n",
        "mba <- apriori(transaksi,parameter = list(supp = 0.1, confidence = 0.5))\n",
        "inspect(mba)"
      ],
      "metadata": {
        "id": "AXxKKe75DIa7"
      },
      "execution_count": null,
      "outputs": []
    },
    {
      "cell_type": "markdown",
      "source": [
        "# **Filter LHS dan RHS (2)**\n"
      ],
      "metadata": {
        "id": "eW8_H488DXi3"
      }
    },
    {
      "cell_type": "code",
      "source": [
        "library(arules)\n",
        "transaksi <- read.transactions(file=\"https://storage.googleapis.com/dqlab-dataset/data_transaksi.txt\", format=\"single\", sep=\"\\t\", cols=c(1,2), skip=1)\n",
        "mba <- apriori(transaksi,parameter = list(supp = 0.1, confidence = 0.5))\n",
        "inspect(subset(mba, lhs %in% \"Teh Celup\" | rhs %in% \"Teh Celup\"))"
      ],
      "metadata": {
        "id": "QWLqJTgFDktD"
      },
      "execution_count": null,
      "outputs": []
    },
    {
      "cell_type": "markdown",
      "source": [
        "# **Filter berdasarkan Lift**\n"
      ],
      "metadata": {
        "id": "C6lRTtHiFF12"
      }
    },
    {
      "cell_type": "code",
      "source": [
        "library(arules)\n",
        "transaksi <- read.transactions(file=\"https://storage.googleapis.com/dqlab-dataset/data_transaksi.txt\", format=\"single\", sep=\"\\t\", cols=c(1,2), skip=1)\n",
        "mba <- apriori(transaksi,parameter = list(supp = 0.1, confidence = 0.5))\n",
        "inspect(subset(mba, (lhs %in% \"Teh Celup\" | rhs %in% \"Teh Celup\") & lift > 1))"
      ],
      "metadata": {
        "id": "XscVNjQtFL-3"
      },
      "execution_count": null,
      "outputs": []
    },
    {
      "cell_type": "markdown",
      "source": [
        "# **Rekomendasi - Filter dengan %ain%**\n"
      ],
      "metadata": {
        "id": "v3zjj9HMGBYb"
      }
    },
    {
      "cell_type": "code",
      "source": [
        "library(arules)\n",
        "transaksi <- read.transactions(file=\"https://storage.googleapis.com/dqlab-dataset/data_transaksi.txt\", format=\"single\", sep=\"\\t\", cols=c(1,2), skip=1)\n",
        "mba <- apriori(transaksi,parameter = list(supp = 0.1, confidence = 0.5))\n",
        "inspect(subset(mba, (lhs %ain% c(\"Pet Food\", \"Gula\" ))))"
      ],
      "metadata": {
        "id": "MOK4qDapGt45"
      },
      "execution_count": null,
      "outputs": []
    },
    {
      "cell_type": "markdown",
      "source": [
        "# **Visualisasi Rules dengan Graph**\n"
      ],
      "metadata": {
        "id": "Rt5WtStZHOa-"
      }
    },
    {
      "cell_type": "code",
      "source": [
        "library(arules)\n",
        "library(arulesViz)\n",
        "transaksi <- read.transactions(file=\"https://storage.googleapis.com/dqlab-dataset/data_transaksi.txt\", format=\"single\", sep=\"\\t\", cols=c(1,2), skip=1)\n",
        "mba <- apriori(transaksi,parameter = list(supp = 0.1, confidence = 0.5))\n",
        "plot(subset(mba, lift>1.1), method=\"graph\")"
      ],
      "metadata": {
        "id": "0Lu003unILXa"
      },
      "execution_count": null,
      "outputs": []
    }
  ]
}