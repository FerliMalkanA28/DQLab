{
  "nbformat": 4,
  "nbformat_minor": 0,
  "metadata": {
    "colab": {
      "provenance": []
    },
    "kernelspec": {
      "name": "ir",
      "display_name": "R"
    },
    "language_info": {
      "name": "R"
    },
    "gpuClass": "standard"
  },
  "cells": [
    {
      "cell_type": "markdown",
      "source": [
        "# **Item and Transaction**"
      ],
      "metadata": {
        "id": "i1VHSWThogva"
      }
    },
    {
      "cell_type": "markdown",
      "source": [
        "Item and Transaction"
      ],
      "metadata": {
        "id": "9_9iYxfhqNzK"
      }
    },
    {
      "cell_type": "markdown",
      "source": [
        "# **Membaca File sebagai Data Frame**\n"
      ],
      "metadata": {
        "id": "_R4LlFfEGstu"
      }
    },
    {
      "cell_type": "code",
      "source": [
        "#Membaca file yang berlokasi di https://storage.googleapis.com/dqlab-dataset/data_transaksi.txt dengan fungsi read.csv, dan kemudian disimpan pada variable transaksi_tabular\n",
        "transaksi_tabular <- read.csv(\"https://storage.googleapis.com/dqlab-dataset/data_transaksi.txt\", sep = \"\\t\")\n",
        "\n",
        "#Menampilkan variable transaksi_tabular dengan fungsi print\n",
        "print(transaksi_tabular)"
      ],
      "metadata": {
        "colab": {
          "base_uri": "https://localhost:8080/"
        },
        "id": "5gs6FBHwGsTO",
        "outputId": "ef4d0db8-93fd-45c0-a9a0-f7eb5f89eb17"
      },
      "execution_count": 1,
      "outputs": [
        {
          "output_type": "stream",
          "name": "stdout",
          "text": [
            "   Kode.Transaksi      Item\n",
            "1             #01 Teh Celup\n",
            "2             #01     Sirup\n",
            "3             #01  Pet Food\n",
            "4             #02 Teh Celup\n",
            "5             #02      Gula\n",
            "6             #03     Sirup\n",
            "7             #03  Pet Food\n",
            "8             #04 Teh Celup\n",
            "9             #04     Sirup\n",
            "10            #05 Teh Celup\n",
            "11            #05     Sirup\n",
            "12            #05      Gula\n",
            "13            #06 Teh Celup\n",
            "14            #06  Pet Food\n",
            "15            #07 Teh Celup\n",
            "16            #07     Sirup\n",
            "17            #07  Pet Food\n",
            "18            #08 Teh Celup\n",
            "19            #09 Teh Celup\n",
            "20            #09      Gula\n",
            "21            #10     Sirup\n",
            "22            #10  Pet Food\n",
            "23            #10      Gula\n"
          ]
        }
      ]
    },
    {
      "cell_type": "markdown",
      "source": [
        "# **Membaca File sebagai Transaction**\n"
      ],
      "metadata": {
        "id": "XsDcQcCihRts"
      }
    },
    {
      "cell_type": "code",
      "source": [
        "library(arules)\n",
        "read.transactions(file = \"https://storage.googleapis.com/dqlab-dataset/data_transaksi.txt\",format = \"single\", sep = \"\\t\", cols = c(1,2), skip = 1)"
      ],
      "metadata": {
        "id": "nMIPBwGPhxt6"
      },
      "execution_count": null,
      "outputs": []
    },
    {
      "cell_type": "markdown",
      "source": [
        "# **Menampilkan Daftar Item Transaksi**\n"
      ],
      "metadata": {
        "id": "_sgy_nU4icoE"
      }
    },
    {
      "cell_type": "code",
      "source": [
        "library(arules)\n",
        "transaksi <- read.transactions(file=\"https://storage.googleapis.com/dqlab-dataset/data_transaksi.txt\", format=\"single\", sep=\"\\t\", cols=c(1,2), skip=1)\n",
        "\n",
        "transaksi@itemInfo"
      ],
      "metadata": {
        "id": "N_Bm_6SuihSc"
      },
      "execution_count": null,
      "outputs": []
    },
    {
      "cell_type": "markdown",
      "source": [
        "# **Menampilkan Daftar Kode Transaksi**\n"
      ],
      "metadata": {
        "id": "cvzRxQQUlZWU"
      }
    },
    {
      "cell_type": "code",
      "source": [
        "library(arules)\n",
        "transaksi <- read.transactions(file=\"https://storage.googleapis.com/dqlab-dataset/data_transaksi.txt\", format=\"single\", sep=\"\\t\", cols=c(1,2), skip=1)\n",
        "\n",
        "transaksi@itemsetInfo"
      ],
      "metadata": {
        "id": "s7gioYi2lb68"
      },
      "execution_count": null,
      "outputs": []
    },
    {
      "cell_type": "markdown",
      "source": [
        "# **Tampilan Transaksi dalam bentuk Matrix**\n"
      ],
      "metadata": {
        "id": "YyvJa3YvnABL"
      }
    },
    {
      "cell_type": "code",
      "source": [
        "library(arules)\n",
        "transaksi <- read.transactions(file=\"https://storage.googleapis.com/dqlab-dataset/data_transaksi.txt\", format=\"single\", sep=\"\\t\", cols=c(1,2), skip=1)\n",
        "\n",
        "transaksi@data"
      ],
      "metadata": {
        "id": "QHPOiQafnBRr"
      },
      "execution_count": null,
      "outputs": []
    },
    {
      "cell_type": "markdown",
      "source": [
        "# **Item Frequency**"
      ],
      "metadata": {
        "id": "Yed_q-4JnUQe"
      }
    },
    {
      "cell_type": "code",
      "source": [
        "library(arules)\n",
        "transaksi <- read.transactions(file=\"https://storage.googleapis.com/dqlab-dataset/data_transaksi.txt\", format=\"single\", sep=\"\\t\", cols=c(1,2), skip=1)\n",
        "\n",
        "itemFrequency(transaksi, type = \"absolute\")"
      ],
      "metadata": {
        "id": "AkT6Mtf7oUxu"
      },
      "execution_count": null,
      "outputs": []
    },
    {
      "cell_type": "markdown",
      "source": [
        "# **Statistik Top 3**\n"
      ],
      "metadata": {
        "id": "riqtckjWod1B"
      }
    },
    {
      "cell_type": "code",
      "source": [
        "library(arules)\n",
        "transaksi <- read.transactions(file=\"https://storage.googleapis.com/dqlab-dataset/data_transaksi.txt\", format=\"single\", sep=\"\\t\", cols=c(1,2), skip=1)\n",
        "\n",
        "data_item <- itemFrequency(transaksi, type=\"absolute\")\n",
        "\n",
        "#Melakukan sorting pada data_item\n",
        "data_item <- sort(data_item, decreasing = TRUE)\n",
        "\n",
        "#Mengambil 3 item pertama\n",
        "data_item <- data_item[1:3]\n",
        "\n",
        "#Konversi data_item menjadi data frame dengan kolom Nama_Produk dan Jumlah\n",
        "data_item <- data.frame(\"Nama Produk\"=names(data_item), \"Jumlah\"=data_item, row.names=NULL)\n",
        "\n",
        "\n",
        "print(data_item)"
      ],
      "metadata": {
        "id": "4nAVUGw8ofmv"
      },
      "execution_count": null,
      "outputs": []
    },
    {
      "cell_type": "markdown",
      "source": [
        "# **Output Statistik Top 3 Sebagai File**\n"
      ],
      "metadata": {
        "id": "-xUU1jSzpxQ6"
      }
    },
    {
      "cell_type": "code",
      "source": [
        "library(arules)\n",
        "transaksi <- read.transactions(file=\"https://storage.googleapis.com/dqlab-dataset/data_transaksi.txt\", format=\"single\", sep=\"\\t\", cols=c(1,2), skip=1)\n",
        "\n",
        "data_item <- itemFrequency(transaksi, type=\"absolute\")\n",
        "\n",
        "#Melakukan sorting pada data_item\n",
        "data_item <- sort(data_item, decreasing = TRUE)\n",
        "\n",
        "#Mengambil 3 item pertama\n",
        "data_item <- data_item[1:3]\n",
        "\n",
        "#Konversi data_item menjadi data frame dengan kolom Nama_Produk dan Jumlah\n",
        "data_item <- data.frame(\"Nama Produk\"=names(data_item), \"Jumlah\"=data_item, row.names=NULL)\n",
        "\n",
        "#Menulis File Statistik Top 3\n",
        "write.csv(data_item, file = \"top3_item_reatil.txt\", eol = \"\\r\\n\")"
      ],
      "metadata": {
        "id": "fTOKHOjypzL1"
      },
      "execution_count": null,
      "outputs": []
    },
    {
      "cell_type": "markdown",
      "source": [
        "# **Grafik Item Frequency**\n"
      ],
      "metadata": {
        "id": "xitH7XQ4q0Iv"
      }
    },
    {
      "cell_type": "code",
      "source": [
        "library(arules)\n",
        "transaksi <- read.transactions(file=\"https://storage.googleapis.com/dqlab-dataset/data_transaksi.txt\", format=\"single\", sep=\"\\t\", cols=c(1,2), skip=1)\n",
        "\n",
        "#Tampilan item frequency plot\n",
        "itemFrequencyPlot(transaksi)"
      ],
      "metadata": {
        "id": "V_PgL8s7q1Lx"
      },
      "execution_count": null,
      "outputs": []
    }
  ]
}