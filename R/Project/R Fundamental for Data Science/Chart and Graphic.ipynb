{
  "nbformat": 4,
  "nbformat_minor": 0,
  "metadata": {
    "colab": {
      "provenance": []
    },
    "kernelspec": {
      "name": "ir",
      "display_name": "R"
    },
    "language_info": {
      "name": "R"
    },
    "gpuClass": "standard"
  },
  "cells": [
    {
      "cell_type": "markdown",
      "source": [
        "# **Chart and Graphic**\n",
        "\n"
      ],
      "metadata": {
        "id": "i1VHSWThogva"
      }
    },
    {
      "cell_type": "markdown",
      "source": [
        "Pada bab ini, kamu akan mempelajari secara singkat bagaimana membuat visualisasi data dengan ggplot2. Ggplot2 merupakan salah satu pustaka (library) paling populer dari R untuk visualisasi data."
      ],
      "metadata": {
        "id": "9_9iYxfhqNzK"
      }
    },
    {
      "cell_type": "markdown",
      "source": [
        "# **Package ggplot2**\n"
      ],
      "metadata": {
        "id": "ptbSQQzIjZTR"
      }
    },
    {
      "cell_type": "code",
      "source": [
        "fakultas <- c(\"Bisnis\", \"D3 Perhotelan\", \"ICT\", \"Ilmu Komunikasi\", \"Seni dan Desain\")\n",
        "jumlah_mahasiswa <- c(260, 28, 284, 465, 735)\n",
        "akreditasi <- c(\"A\",\"A\",\"B\",\"A\",\"A\")\n",
        "\n",
        "info_mahasiswa <- data.frame(fakultas, jumlah_mahasiswa, akreditasi)\n",
        "info_mahasiswa\n",
        "\n",
        "#Menggunakan package ggplot2\n",
        "library(\"ggplot2\")\n",
        "#Membuat kanvas\n",
        "gambar <- ggplot(info_mahasiswa, aes(x=fakultas, y=jumlah_mahasiswa, fill=fakultas))\n",
        "gambar <- gambar + geom_bar(width=1, stat=\"identity\")\n",
        "gambar"
      ],
      "metadata": {
        "id": "OSJYuvW6kaIb"
      },
      "execution_count": null,
      "outputs": []
    },
    {
      "cell_type": "markdown",
      "source": [
        "# **Membuat Grafik Sebaran Mahasiswa (1)**\n"
      ],
      "metadata": {
        "id": "tPJdRgl3k3RB"
      }
    },
    {
      "cell_type": "code",
      "source": [
        "#Membuat dua vector\n",
        "fakultas <- c(\"Bisnis\", \"D3 Perhotelan\", \"ICT\", \"Ilmu Komunikasi\", \"Seni dan Desain\")\n",
        "jumlah_mahasiswa <- c(260, 28, 284, 465, 735)\n",
        "akreditasi <- c(\"A\",\"A\",\"B\",\"A\",\"A\")\n",
        "\n",
        "#Buat data frame dari ketiga vector di atas\n",
        "info_mahasiswa <- data.frame(fakultas, jumlah_mahasiswa, akreditasi)\n",
        "info_mahasiswa\n",
        "\n",
        "#Menggunakan package ggplot2\n",
        "library(ggplot2)\n",
        "\n",
        "#Membuat kanvas\n",
        "gambar <- ggplot(info_mahasiswa, aes(x=fakultas, y=jumlah_mahasiswa, fill=fakultas))\n",
        "\n",
        "#Menambahkan objek bar chart, simpan kembali sebagai variable gambar\n",
        "gambar <- gambar + geom_bar(width=1, stat=\"identity\")\n",
        "\n",
        "#Menambahkan judul grafik\n",
        "gambar <- gambar + ggtitle(\"Jumlah Mahasiswa per Fakultas\")\n",
        "#Menambahkan caption pada sumbu x\n",
        "gambar <- gambar + xlab(\"Nama Fakultas\")\n",
        "#Menambahkan caption pada sumbu y\n",
        "gambar <- gambar + ylab(\"Jumlah Mahasiswa\")\n",
        "#Menggambar grafik\n",
        "gambar"
      ],
      "metadata": {
        "id": "jinrqyJAk4vt"
      },
      "execution_count": null,
      "outputs": []
    },
    {
      "cell_type": "markdown",
      "source": [
        "# **Membaca File Excel**\n"
      ],
      "metadata": {
        "id": "UBRj7jZIlo78"
      }
    },
    {
      "cell_type": "code",
      "source": [
        "#Menggunakan package ggplot2\n",
        "library(ggplot2)\n",
        "#Menggunakan package openxlsx\n",
        "library(openxlsx)\n",
        "\n",
        "#Membaca file mahasiswa.xlsx\n",
        "mahasiswa <- read.xlsx(\"https://storage.googleapis.com/dqlab-dataset/mahasiswa.xlsx\",sheet = \"Sheet 1\")\n",
        "\n",
        "#Menampilkan data\n",
        "print(mahasiswa)\n",
        "\n",
        "#Menampilkan kolom Prodi\n",
        "print(mahasiswa$Prodi)"
      ],
      "metadata": {
        "id": "cv3FHIScl4YT"
      },
      "execution_count": null,
      "outputs": []
    },
    {
      "cell_type": "markdown",
      "source": [
        "# **Membuat Grafik Sebaran Mahasiswa (2)**\n"
      ],
      "metadata": {
        "id": "vxOk7ZWPmMqU"
      }
    },
    {
      "cell_type": "code",
      "source": [
        "library(ggplot2)\n",
        "#Menggunakan package openxlsx\n",
        "library(openxlsx)\n",
        "\n",
        "#Membaca file mahasiswa.xlsx\n",
        "mahasiswa <- read.xlsx(\"https://storage.googleapis.com/dqlab-dataset/mahasiswa.xlsx\",sheet = \"Sheet 1\")\n",
        "\n",
        "#Membuat kanvas\n",
        "gambar <- ggplot(mahasiswa, aes(x=Fakultas, y=JUMLAH, fill=Fakultas))\n",
        "\n",
        "#Menambahkan objek bar chart, simpan kembali sebagai variable gambar\n",
        "gambar <- gambar + geom_bar(width=1, stat=\"identity\")\n",
        "\n",
        "#Menggambar grafik\n",
        "gambar"
      ],
      "metadata": {
        "id": "y6jF4xM3mOHE"
      },
      "execution_count": null,
      "outputs": []
    },
    {
      "cell_type": "markdown",
      "source": [
        "# **Trend Jumlah Mahasiswa dari Tahun ke Tahun**\n"
      ],
      "metadata": {
        "id": "Ex4jF7bwmfms"
      }
    },
    {
      "cell_type": "code",
      "source": [
        "library(ggplot2)\n",
        "#Menggunakan package openxlsx\n",
        "library(openxlsx)\n",
        "\n",
        "#Membaca file mahasiswa.xlsx\n",
        "mahasiswa <- read.xlsx(\"https://storage.googleapis.com/dqlab-dataset/mahasiswa.xlsx\",sheet = \"Sheet 1\")\n",
        "\n",
        "#Menghitung Jumlah Data by Fakultas\n",
        "summarybyfakultas <- aggregate(x=mahasiswa$JUMLAH, by=list(Kategori=mahasiswa$Fakultas, Tahun=mahasiswa$ANGKATAN), FUN=sum)\n",
        "summarybyfakultas <- setNames(summarybyfakultas, c(\"fakultas\",\"tahun\", \"jumlah_mahasiswa\"))\n",
        "summarybyfakultas\n",
        "\n",
        "summarybyfakultas$tahun = as.factor(summarybyfakultas$tahun)\n",
        "\n",
        "ggplot(summarybyfakultas, aes(x=fakultas, y=jumlah_mahasiswa)) + \n",
        "  geom_bar(stat = \"identity\", aes(fill = tahun), width=0.8, position = position_dodge(width=0.8)) + \n",
        "  theme_classic() "
      ],
      "metadata": {
        "id": "0U2ubAPBmfLs"
      },
      "execution_count": null,
      "outputs": []
    },
    {
      "cell_type": "markdown",
      "source": [
        "# **Pie Chart**\n"
      ],
      "metadata": {
        "id": "NzOzme4Hntd4"
      }
    },
    {
      "cell_type": "code",
      "source": [
        "library(ggplot2)\n",
        "library(openxlsx)\n",
        "#Membaca file mahasiswa.xlsx\n",
        "mahasiswa <- read.xlsx(\"https://storage.googleapis.com/dqlab-dataset/mahasiswa.xlsx\",sheet = \"Sheet 1\")\n",
        "\n",
        "#Menghitung Jumlah Data by Fakultas\n",
        "summarybyfakultas <- aggregate(x=mahasiswa$JUMLAH, by=list(Kategori=mahasiswa$Fakultas), FUN=sum)\n",
        "summarybyfakultas <- setNames(summarybyfakultas, c(\"fakultas\",\"jumlah_mahasiswa\"))\n",
        "\n",
        "piechart<- ggplot(summarybyfakultas, aes(x=\"\", y=jumlah_mahasiswa, fill=fakultas))+ geom_bar(width = 1, stat = \"identity\")\n",
        "piechart <- piechart + coord_polar(\"y\", start=0)\n",
        "piechart <- piechart + ggtitle(\"Disribusi Mahasiswa per Fakultas\")\n",
        "piechart <- piechart + scale_fill_brewer(palette=\"Blues\")+ theme_minimal()\n",
        "piechart <- piechart + guides(fill=guide_legend(title=\"Fakultas\"))\n",
        "piechart <- piechart + ylab(\"Jumlah Mahasiswa\") \n",
        "piechart"
      ],
      "metadata": {
        "id": "kEEXyOYkntjU"
      },
      "execution_count": null,
      "outputs": []
    },
    {
      "cell_type": "markdown",
      "source": [
        "# **Filtering**"
      ],
      "metadata": {
        "id": "4HDdwgJDoASw"
      }
    },
    {
      "cell_type": "code",
      "source": [
        "library(\"ggplot2\")\n",
        "library(\"openxlsx\")\n",
        "\n",
        "#Membaca file mahasiswa.xlsx\n",
        "mahasiswa <- read.xlsx(\"https://storage.googleapis.com/dqlab-dataset/mahasiswa.xlsx\",sheet = \"Sheet 1\")\n",
        "\n",
        "#Menghitung Jumlah Data by Fakultas\n",
        "summarybyfakultas <- aggregate(x=mahasiswa$JUMLAH, by=list(Kategori=mahasiswa$Fakultas, Tahun=mahasiswa$ANGKATAN), FUN=sum)\n",
        "summarybyfakultas <- setNames(summarybyfakultas, c(\"fakultas\",\"tahun\", \"jumlah_mahasiswa\"))\n",
        "summarybyfakultas\n",
        "\n",
        "summarybyfakultas$tahun = as.factor(summarybyfakultas$tahun)\n",
        "summarybyfakultas[summarybyfakultas$fakultas %in% c(\"ICT\", \"Ilmu Komunikasi\"),]\n",
        "\n",
        "ggplot(summarybyfakultas[summarybyfakultas$fakultas %in% c(\"ICT\", \"Ilmu Komunikasi\"),], aes(x=fakultas, y=jumlah_mahasiswa)) + \n",
        "  geom_bar(stat = \"identity\", aes(fill = tahun), width=0.8, position = position_dodge(width=0.8)) + \n",
        "  theme_classic() "
      ],
      "metadata": {
        "id": "R2NVs9uaoEmk"
      },
      "execution_count": null,
      "outputs": []
    }
  ]
}