{
  "nbformat": 4,
  "nbformat_minor": 0,
  "metadata": {
    "colab": {
      "provenance": []
    },
    "kernelspec": {
      "name": "ir",
      "display_name": "R"
    },
    "language_info": {
      "name": "R"
    },
    "gpuClass": "standard"
  },
  "cells": [
    {
      "cell_type": "markdown",
      "source": [
        "# **Vector, List, and Data Frame**\n",
        "\n"
      ],
      "metadata": {
        "id": "i1VHSWThogva"
      }
    },
    {
      "cell_type": "markdown",
      "source": [
        "Di bab ini kamu akan belajar mengenai konsep dan penggunaan tipe data fundamental yang terpenting: vector, list, dan data frame."
      ],
      "metadata": {
        "id": "9_9iYxfhqNzK"
      }
    },
    {
      "cell_type": "markdown",
      "source": [
        "# **Vector**"
      ],
      "metadata": {
        "id": "g1zLsgHqo8yZ"
      }
    },
    {
      "cell_type": "code",
      "source": [
        "# Ini adalah contoh vector untuk angka numerik dengan 3 data c(4, 5, 6)\n",
        "c(4, 5, 6)\n",
        "# Variable bernama angka dengan input berupa vector\n",
        "angka <- c(4, 5, 6)\n",
        "# Tampilkan isi variable angka dengan fungsi print\n",
        "print(angka)"
      ],
      "metadata": {
        "id": "pUw88Xx9rDBD"
      },
      "execution_count": null,
      "outputs": []
    },
    {
      "cell_type": "markdown",
      "source": [
        "# **Deretan Nilai dengan Operator \":\" (Titik Dua)**"
      ],
      "metadata": {
        "id": "1dc05yfhfPam"
      }
    },
    {
      "cell_type": "code",
      "source": [
        "angka1 <- c(1, 2, 3, 4, 5, 6, 7, 8, 9, 10)\n",
        "print(angka1)\n",
        "angka2 <- c(1:10)\n",
        "print(angka2)"
      ],
      "metadata": {
        "id": "DZUoz8X6fb9d"
      },
      "execution_count": null,
      "outputs": []
    },
    {
      "cell_type": "markdown",
      "source": [
        "# **Vector dengan Isi Teks**\n"
      ],
      "metadata": {
        "id": "4zAWGP1MfgBS"
      }
    },
    {
      "cell_type": "code",
      "source": [
        "# Variable nama_mahasiswa dengan input character\n",
        "nama_mahasiswa <- c(\"Amira\", \"Budi\", \"Charlie\")\n",
        "print(nama_mahasiswa)"
      ],
      "metadata": {
        "id": "7XCqxzIDgMfB"
      },
      "execution_count": null,
      "outputs": []
    },
    {
      "cell_type": "markdown",
      "source": [
        "# **Index dan Accessor pada Vector**\n"
      ],
      "metadata": {
        "id": "Y4UNNvaSgQVh"
      }
    },
    {
      "cell_type": "code",
      "source": [
        "# Buat vector variable bernama angka yang isinya 20 s/d 30\n",
        "angka <- c(20:30)\n",
        "print(angka)\n",
        "\n",
        "# Tampilkan isi variable angka pada posisi ke 3\n",
        "print(angka[3])\n",
        "\n",
        "# Tampilkan isi variable angka pada posisi ke 5 gunakan kurung siku ganda\n",
        "print(angka[[5]])\n",
        "\n",
        "# Tampilkan isi variable angka pada posisi ke 4 s/d 6\n",
        "print(angka[4:6])\n",
        "\n",
        "# Buat vector teks dengan nama kode_prodi yang diisi sesuai petunjuk soal\n",
        "kode_prodi <- c(\"DKV\",\"ILKOM\",\"ICT\")\n",
        "# Tampilkan isi indeks ketiga dari kode_prodi\n",
        "print(kode_prodi[3])"
      ],
      "metadata": {
        "id": "cyx5BXgfgTyV"
      },
      "execution_count": null,
      "outputs": []
    },
    {
      "cell_type": "markdown",
      "source": [
        "# **Named Vector**\n"
      ],
      "metadata": {
        "id": "2PMNJgd_g22F"
      }
    },
    {
      "cell_type": "code",
      "source": [
        "#Membuat named vector dengan nama nilai\n",
        "nilai <- c(statistik = 89, fisika = 95, ilmukomunikasi = 100)\n",
        "\n",
        "#Menampilkan isi variable nilai\n",
        "print(nilai)\n",
        "\n",
        "#Menampilkan isi dengan nama fisika\n",
        "print(nilai[\"fisika\"])\n",
        "#Buat variable profil sesuai permintaan soal\n",
        "profil <- c(nama = \"Budi\", tempat_tinggal = \"Jakarta\", tingkat_pendidikan = \"S1\")\n",
        "#Tampilkan variable profil\n",
        "print(profil)"
      ],
      "metadata": {
        "id": "RFvWR9-gg6Rr"
      },
      "execution_count": null,
      "outputs": []
    },
    {
      "cell_type": "markdown",
      "source": [
        "# **List**"
      ],
      "metadata": {
        "id": "MosIGR1khNcD"
      }
    },
    {
      "cell_type": "code",
      "source": [
        "# List disimpan dalam variable dengan nama list_random\n",
        "list_random <- list(2, \"Budi\", 4)\n",
        "\n",
        "# Menampilkan isi list\n",
        "list_random \n",
        "\n",
        "# List disimpan dalam variable dengan nama dati2\n",
        "dati2 <- list(nama = \"Denpasar\", propinsi = \"Bali\")\n",
        "\n",
        "# Menampilkan isi list dati2\n",
        "dati2 \n",
        "\n",
        "# Buat variable kota sesuai permintaan soal\n",
        "kota <- list(nama_kota = \"Makassar\", propinsi = \"Sulawesi Selatan\", luas_km2 = 199.3)\n",
        "# Tampilkan isi variable list kota\n",
        "kota"
      ],
      "metadata": {
        "id": "v64ozj6VhpSZ"
      },
      "execution_count": null,
      "outputs": []
    },
    {
      "cell_type": "markdown",
      "source": [
        "# **List Index**\n"
      ],
      "metadata": {
        "id": "akIelEgjhuAo"
      }
    },
    {
      "cell_type": "code",
      "source": [
        "# Membentuk list dengan 2 angka dan 1 character\n",
        "list_saya <- list(2, \"Budi\", 4)\n",
        "\n",
        "# Menampilkan index kedua dengan aksesor kurung siku tunggal \n",
        "list_saya[2]\n",
        "\n",
        "# Menampilkan index kedua dengan aksesor kurung siku ganda\n",
        "list_saya[[2]]\n",
        "\n",
        "# Menampilkan index kedua s/d ketiga\n",
        "list_saya[2:3]\n",
        "\n",
        "list_satu <- list(1, \"Online\", TRUE)\n",
        "list_satu[1]"
      ],
      "metadata": {
        "id": "3Y4-u5elhx8U"
      },
      "execution_count": null,
      "outputs": []
    },
    {
      "cell_type": "markdown",
      "source": [
        "# **Data Frame**\n"
      ],
      "metadata": {
        "id": "JeeZGJk_h_hC"
      }
    },
    {
      "cell_type": "code",
      "source": [
        "#Membuat dua variable vector\n",
        "fakultas <- c(\"Bisnis\", \"D3 Perhotelan\", \"ICT\", \"Ilmu Komunikasi\", \"Seni dan Desain\")\n",
        "jumlah_mahasiswa <- c(260, 28, 284, 465, 735)\n",
        "\n",
        "#Membuat data frame dari kedua vector di atas\n",
        "info_mahasiswa <- data.frame(fakultas, jumlah_mahasiswa)\n",
        "\n",
        "#Melihat isi data frame\n",
        "info_mahasiswa\n",
        "\n",
        "#Buat vector baru sebagai representasi akreditasi\n",
        "akreditasi <- c(\"A\",\"A\",\"B\",\"A\",\"A\")\n",
        "#Buat data frame dari ketiga vector di atas\n",
        "info_mahasiswa <- data.frame(fakultas, jumlah_mahasiswa, akreditasi)\n",
        "info_mahasiswa"
      ],
      "metadata": {
        "id": "MxDrAZP5ia2I"
      },
      "execution_count": null,
      "outputs": []
    },
    {
      "cell_type": "markdown",
      "source": [
        "# **Cara Akses Data Frame**\n"
      ],
      "metadata": {
        "id": "OZFepK03igj6"
      }
    },
    {
      "cell_type": "code",
      "source": [
        "#Membuat tiga variable vector\n",
        "fakultas <- c(\"Bisnis\", \"D3 Perhotelan\", \"ICT\", \"Ilmu Komunikasi\", \"Seni dan Desain\")\n",
        "jumlah_mahasiswa <- c(260, 28, 284, 465, 735)\n",
        "akreditasi <- c(\"A\",\"A\",\"B\",\"A\",\"A\")\n",
        "\n",
        "#Membuat data frame dari kedua vector di atas\n",
        "info_mahasiswa <- data.frame(fakultas, jumlah_mahasiswa, akreditasi)\n",
        "\n",
        "#Menampilkan kolom jumlah_mahasiswa\n",
        "info_mahasiswa$jumlah_mahasiswa\n",
        "\n",
        "#Menampilkan kolom fakultas\n",
        "info_mahasiswa$fakultas"
      ],
      "metadata": {
        "id": "fIvpaA94ih4W"
      },
      "execution_count": null,
      "outputs": []
    }
  ]
}