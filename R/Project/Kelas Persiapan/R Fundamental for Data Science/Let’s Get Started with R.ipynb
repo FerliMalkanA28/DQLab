{
  "nbformat": 4,
  "nbformat_minor": 0,
  "metadata": {
    "colab": {
      "provenance": []
    },
    "kernelspec": {
      "name": "ir",
      "display_name": "R"
    },
    "language_info": {
      "name": "R"
    },
    "gpuClass": "standard"
  },
  "cells": [
    {
      "cell_type": "markdown",
      "source": [
        "# **Let’s Get Started with R**\n",
        "\n"
      ],
      "metadata": {
        "id": "i1VHSWThogva"
      }
    },
    {
      "cell_type": "markdown",
      "source": [
        "Pada bab pembuka ini kamu akan belajar mengenai apa itu bahasa pemrograman R, hubungannya dengan data science, dan kenapa seorang data scientist menggunakan bahasa pemrograman R."
      ],
      "metadata": {
        "id": "9_9iYxfhqNzK"
      }
    },
    {
      "cell_type": "markdown",
      "source": [
        "# **Kode Pertama, Hello World!**"
      ],
      "metadata": {
        "id": "g1zLsgHqo8yZ"
      }
    },
    {
      "cell_type": "code",
      "source": [
        "\"Hello World\"\n",
        "1 + 5"
      ],
      "metadata": {
        "id": "pUw88Xx9rDBD"
      },
      "execution_count": null,
      "outputs": []
    },
    {
      "cell_type": "markdown",
      "source": [
        "# **Teks, Angka dan Rumus Perhitungan**\n"
      ],
      "metadata": {
        "id": "dg-Nz3tP2Yhq"
      }
    },
    {
      "cell_type": "code",
      "source": [
        "9\n",
        "\"Budi\"\n",
        "9 * 3"
      ],
      "metadata": {
        "id": "c3iOSuCf3RA2"
      },
      "execution_count": null,
      "outputs": []
    },
    {
      "cell_type": "markdown",
      "source": [
        "# **Menggunakan Fungsi Print**\n"
      ],
      "metadata": {
        "id": "YYFU_gQY3XX4"
      }
    },
    {
      "cell_type": "code",
      "source": [
        "print(\"Hello World\")\n",
        "print(3 + 4)"
      ],
      "metadata": {
        "id": "2SADIUA23Yql"
      },
      "execution_count": null,
      "outputs": []
    },
    {
      "cell_type": "markdown",
      "source": [
        "# **Huruf Besar, Huruf Kecil dan Format Angka**\n"
      ],
      "metadata": {
        "id": "57u_b2up3hvk"
      }
    },
    {
      "cell_type": "code",
      "source": [
        "01\n",
        "1\n",
        "\"01-01-1980\"\n",
        "\"1-1-1980\"\n",
        "\"Budi\"\n",
        "\"BUDI\""
      ],
      "metadata": {
        "id": "8r22g0Ys3jdh"
      },
      "execution_count": null,
      "outputs": []
    },
    {
      "cell_type": "markdown",
      "source": [
        "# **Function**"
      ],
      "metadata": {
        "id": "c20Et6At3z1D"
      }
    },
    {
      "cell_type": "code",
      "source": [
        "c(5:10)"
      ],
      "metadata": {
        "id": "P8-cE5aA31HB"
      },
      "execution_count": null,
      "outputs": []
    },
    {
      "cell_type": "markdown",
      "source": [
        "# **Variable**\n"
      ],
      "metadata": {
        "id": "FvZTeBow4D3C"
      }
    },
    {
      "cell_type": "code",
      "source": [
        "budi_berat_kg <- 68\n",
        "santi_berat_kg <- 54.5\n",
        "budi_berat_kg\n",
        "santi_berat_kg\n",
        "pi <- 3.14\n",
        "pi"
      ],
      "metadata": {
        "id": "Wp8lHzMz4FO1"
      },
      "execution_count": null,
      "outputs": []
    },
    {
      "cell_type": "markdown",
      "source": [
        "# **Comment pada R**\n"
      ],
      "metadata": {
        "id": "CaqBhjRe4cZ4"
      }
    },
    {
      "cell_type": "code",
      "source": [
        "2 + 2 #Ini adalah baris komentar\n",
        "#Ini adalah komentar penutup"
      ],
      "metadata": {
        "id": "JZGzAAQq4d0c"
      },
      "execution_count": null,
      "outputs": []
    }
  ]
}