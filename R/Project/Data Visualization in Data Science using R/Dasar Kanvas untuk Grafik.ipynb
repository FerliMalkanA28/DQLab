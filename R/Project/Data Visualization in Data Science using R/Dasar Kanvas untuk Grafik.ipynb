{
  "nbformat": 4,
  "nbformat_minor": 0,
  "metadata": {
    "colab": {
      "provenance": []
    },
    "kernelspec": {
      "name": "ir",
      "display_name": "R"
    },
    "language_info": {
      "name": "R"
    },
    "gpuClass": "standard"
  },
  "cells": [
    {
      "cell_type": "markdown",
      "source": [
        "# **Dasar \"Kanvas\" untuk Grafik**"
      ],
      "metadata": {
        "id": "i1VHSWThogva"
      }
    },
    {
      "cell_type": "markdown",
      "source": [
        "Membuat kanvas untuk memulai membangun plot dengan ggplot."
      ],
      "metadata": {
        "id": "9_9iYxfhqNzK"
      }
    },
    {
      "cell_type": "markdown",
      "source": [
        "# **Membuat Kanvas Kosong**\n"
      ],
      "metadata": {
        "id": "p87tXgaxKoth"
      }
    },
    {
      "cell_type": "code",
      "source": [
        "library(ggplot2)\n",
        "#Ketik function ggplot() di bawah ini\n",
        "ggplot()"
      ],
      "metadata": {
        "id": "3povTLHeNSdG"
      },
      "execution_count": null,
      "outputs": []
    },
    {
      "cell_type": "markdown",
      "source": [
        "# **Menambahkan Judul**\n"
      ],
      "metadata": {
        "id": "I2_UKPoBiKxk"
      }
    },
    {
      "cell_type": "code",
      "source": [
        "library(ggplot2)\n",
        "\n",
        "#Penambahan judul dengan menggunakan fungsi labs\n",
        "ggplot() + labs(title = \"Luas Wilayah vs Kepadatan Penduduk DKI Jakarta - Periode 2013\")"
      ],
      "metadata": {
        "id": "A4QzW35EicR_"
      },
      "execution_count": null,
      "outputs": []
    },
    {
      "cell_type": "markdown",
      "source": [
        "# **Plot disimpan sebagai Variable**\n"
      ],
      "metadata": {
        "id": "VLtpPbpEihIx"
      }
    },
    {
      "cell_type": "code",
      "source": [
        "library(ggplot2)\n",
        "plot.jakarta <- ggplot() \n",
        "plot.jakarta <- plot.jakarta + labs(title=\"Luas Wilayah vs Kepadatan Penduduk DKI Jakarta - Periode 2013\")\n",
        "plot.jakarta"
      ],
      "metadata": {
        "id": "UQRGviTwjDO-"
      },
      "execution_count": null,
      "outputs": []
    },
    {
      "cell_type": "markdown",
      "source": [
        "# **Menambahkan Label pada Sumbu X dan Y**\n"
      ],
      "metadata": {
        "id": "SVPSEvIwjHEA"
      }
    },
    {
      "cell_type": "code",
      "source": [
        "library(ggplot2)\n",
        "plot.jakarta <- ggplot()\n",
        "plot.jakarta <- plot.jakarta + labs(title=\"Luas Wilayah vs Kepadatan Penduduk DKI Jakarta - Periode 2013\", subtitle=\"Tahun 2013\")\n",
        "plot.jakarta <- plot.jakarta + labs(x = \"Luas Wilayah (km2)\", y = \"kepadatan Jiwa per km2\")\n",
        "plot.jakarta"
      ],
      "metadata": {
        "id": "gCtuzaLgjrfg"
      },
      "execution_count": null,
      "outputs": []
    },
    {
      "cell_type": "markdown",
      "source": [
        "# **Fungsi summary untuk objek ggplot**"
      ],
      "metadata": {
        "id": "liDX7CoIkFtW"
      }
    },
    {
      "cell_type": "code",
      "source": [
        "library(ggplot2)\n",
        "plot.jakarta <- ggplot()\n",
        "plot.jakarta <- plot.jakarta + labs(title=\"Luas Wilayah vs Kepadatan Penduduk DKI Jakarta\")\n",
        "plot.jakarta <- plot.jakarta + labs(x = \"Luas Wilayah (km2)\", y=\"Kepadatan Jiwa per km2\")\n",
        "summary(plot.jakarta)"
      ],
      "metadata": {
        "id": "htAE2d7XkJY5"
      },
      "execution_count": null,
      "outputs": []
    }
  ]
}