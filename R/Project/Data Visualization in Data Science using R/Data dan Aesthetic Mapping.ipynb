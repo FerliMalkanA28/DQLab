{
  "nbformat": 4,
  "nbformat_minor": 0,
  "metadata": {
    "colab": {
      "provenance": []
    },
    "kernelspec": {
      "name": "ir",
      "display_name": "R"
    },
    "language_info": {
      "name": "R"
    },
    "gpuClass": "standard"
  },
  "cells": [
    {
      "cell_type": "markdown",
      "source": [
        "# **Data dan Aesthetic Mapping**"
      ],
      "metadata": {
        "id": "i1VHSWThogva"
      }
    },
    {
      "cell_type": "markdown",
      "source": [
        "Data dan Aesthetic Mapping"
      ],
      "metadata": {
        "id": "9_9iYxfhqNzK"
      }
    },
    {
      "cell_type": "markdown",
      "source": [
        "# **Membaca Dataset Kependudukan dengan read.csv**"
      ],
      "metadata": {
        "id": "u5eedMAXkv1w"
      }
    },
    {
      "cell_type": "code",
      "source": [
        "library(ggplot2)\n",
        "#Membaca data csv dan dimasukkan ke variable penduduk.dki\n",
        "penduduk.dki <- read.csv(\"https://storage.googleapis.com/dqlab-dataset/dkikepadatankelurahan2013.csv\", sep=\",\")\n",
        "# Tampilkan data frame dari kolom \" NAMA.KELURAHAN \" dan \"LUAS.WILAYAH..KM2.\"\n",
        "penduduk.dki[c(\"NAMA.KELURAHAN\", \"LUAS.WILAYAH..KM2.\")]"
      ],
      "metadata": {
        "id": "GpT7xXYvwbW8"
      },
      "execution_count": null,
      "outputs": []
    },
    {
      "cell_type": "markdown",
      "source": [
        "# **Memasukkan Data ke Plot**"
      ],
      "metadata": {
        "id": "wpkJ05AUADSO"
      }
    },
    {
      "cell_type": "code",
      "source": [
        "library(ggplot2)\n",
        "#Membaca data csv dan dimasukkan ke variable penduduk.dki\n",
        "penduduk.dki <- read.csv(\"https://storage.googleapis.com/dqlab-dataset/dkikepadatankelurahan2013.csv\", sep=\",\")\n",
        "# Masukkan data ke dalam plot dan simpan sebagai variable plot.dki, dan tampilkan summary dari plot tersebut\n",
        "plot.dki <- ggplot(data = penduduk.dki)\n",
        "summary(plot.dki)"
      ],
      "metadata": {
        "id": "ua8ByV4qAI5J"
      },
      "execution_count": null,
      "outputs": []
    },
    {
      "cell_type": "markdown",
      "source": [
        "# **Memetakan x, y dan color dengan function aes**\n",
        "\n"
      ],
      "metadata": {
        "id": "vmlpreyRAq-o"
      }
    },
    {
      "cell_type": "code",
      "source": [
        "library(ggplot2)\n",
        "#Membaca data csv dan dimasukkan ke variable penduduk.dki\n",
        "penduduk.dki <- read.csv(\"https://storage.googleapis.com/dqlab-dataset/dkikepadatankelurahan2013.csv\", sep=\",\")\n",
        "plot.dki <- aes(x = \"LUAS.WILAYAH..KM2.\", Y = \"KEPADATAN..JIWA.KM2\", color = \"NAMA.KABUPATEN.KOTA\")\n",
        "summary(plot.dki)"
      ],
      "metadata": {
        "id": "zG_B4sm3A6U_"
      },
      "execution_count": null,
      "outputs": []
    },
    {
      "cell_type": "markdown",
      "source": [
        "# **Menampilkan Plot hasil Mapping**\n"
      ],
      "metadata": {
        "id": "KxoEFPqJBVvp"
      }
    },
    {
      "cell_type": "code",
      "source": [
        "library(ggplot2)\n",
        "#Membaca data csv dan dimasukkan ke variable penduduk.dki\n",
        "penduduk.dki <- read.csv(\"https://storage.googleapis.com/dqlab-dataset/dkikepadatankelurahan2013.csv\", sep=\",\")\n",
        "plot.dki <- ggplot(data=penduduk.dki, aes(x = LUAS.WILAYAH..KM2.,  y=KEPADATAN..JIWA.KM2.,  color=NAMA.KABUPATEN.KOTA))\n",
        "plot.dki"
      ],
      "metadata": {
        "id": "F3r78Dp1Bc7m"
      },
      "execution_count": null,
      "outputs": []
    }
  ]
}