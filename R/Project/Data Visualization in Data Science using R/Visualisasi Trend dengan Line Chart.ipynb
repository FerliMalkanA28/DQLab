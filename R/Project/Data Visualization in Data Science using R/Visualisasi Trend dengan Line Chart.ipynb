{
  "nbformat": 4,
  "nbformat_minor": 0,
  "metadata": {
    "colab": {
      "provenance": []
    },
    "kernelspec": {
      "name": "ir",
      "display_name": "R"
    },
    "language_info": {
      "name": "R"
    },
    "gpuClass": "standard"
  },
  "cells": [
    {
      "cell_type": "markdown",
      "source": [
        "# **Visualisasi Trend dengan Line Chart**"
      ],
      "metadata": {
        "id": "i1VHSWThogva"
      }
    },
    {
      "cell_type": "markdown",
      "source": [
        "Visualisasi Trend dengan Line Chart\n",
        "\n"
      ],
      "metadata": {
        "id": "9_9iYxfhqNzK"
      }
    },
    {
      "cell_type": "markdown",
      "source": [
        "# **Membaca data inflasi**\n"
      ],
      "metadata": {
        "id": "KwIHdavkH5ya"
      }
    },
    {
      "cell_type": "code",
      "source": [
        "#Membaca data csv dan dimasukkan ke variable inflasi.indo.sing\n",
        "inflasi.indo.sing <- read.csv(\"https://storage.googleapis.com/dqlab-dataset/inflasi.csv\", sep = \",\")\n",
        "inflasi.indo.sing"
      ],
      "metadata": {
        "id": "QfZ0JssUH8eR"
      },
      "execution_count": null,
      "outputs": []
    },
    {
      "cell_type": "markdown",
      "source": [
        "# **Plotting Line Chart yang Kosong**\n"
      ],
      "metadata": {
        "id": "efLDLmDm5T-F"
      }
    },
    {
      "cell_type": "code",
      "source": [
        "library(ggplot2)\n",
        "\n",
        "#Membaca data csv dan dimasukkan ke variable inflasi.indo.sing\n",
        "inflasi.indo.sing <- read.csv(\"https://storage.googleapis.com/dqlab-dataset/inflasi.csv\", sep=\",\")\n",
        "\n",
        "#Menambahkan data dan aesthetic mapping\n",
        "plot.inflasi <- ggplot(data=inflasi.indo.sing, aes(x = Bulan,  y=Inflasi,  color=Negara))\n",
        "\n",
        "#Menambahkan layer\n",
        "plot.inflasi + geom_line()"
      ],
      "metadata": {
        "id": "iHT2q0FS5hj1"
      },
      "execution_count": null,
      "outputs": []
    },
    {
      "cell_type": "markdown",
      "source": [
        "# **Menggunakan Pengelompokan Data (grouping)**\n"
      ],
      "metadata": {
        "id": "LgDpiZez5jLn"
      }
    },
    {
      "cell_type": "code",
      "source": [
        "library(ggplot2)\n",
        "\n",
        "#Membaca data csv dan dimasukkan ke variable inflasi.indo.sing\n",
        "inflasi.indo.sing <- read.csv(\"https://storage.googleapis.com/dqlab-dataset/inflasi.csv\", sep=\",\")\n",
        "\n",
        "#Menambahkan data dan aesthetic mapping\n",
        "plot.inflasi <- ggplot(data=inflasi.indo.sing, aes(x = Bulan,  y=Inflasi,  color=Negara, group = Negara))\n",
        "\n",
        "#Menambahkan Layer\n",
        "plot.inflasi + geom_line()"
      ],
      "metadata": {
        "id": "8QtmHC8I5oKX"
      },
      "execution_count": null,
      "outputs": []
    },
    {
      "cell_type": "markdown",
      "source": [
        "# **Memperbaiki Urutan Bulan dengan Factoring**\n"
      ],
      "metadata": {
        "id": "4Xs0PDUZ52zJ"
      }
    },
    {
      "cell_type": "code",
      "source": [
        "library(ggplot2)\n",
        "#Membaca data csv dan dimasukkan ke variable inflasi.indo.sing\n",
        "inflasi.indo.sing <- read.csv(\"https://storage.googleapis.com/dqlab-dataset/inflasi.csv\", sep=\",\")\n",
        "inflasi.indo.sing$Bulan <- factor(inflasi.indo.sing$Bulan, levels = c(\"Jan-2017\", \"Feb-2017\", \"Mar-2017\", \"Apr-2017\", \"May-2017\", \"Jun-2017\", \"Jul-2017\", \"Aug-2017\", \"Sep-2017\", \"Oct-2017\"))\n",
        "str(inflasi.indo.sing)"
      ],
      "metadata": {
        "id": "6ggNWmTr57EB"
      },
      "execution_count": null,
      "outputs": []
    },
    {
      "cell_type": "markdown",
      "source": [
        "# **Plotting Ulang dengan hasil Factoring**\n"
      ],
      "metadata": {
        "id": "Yijca9cC6SAy"
      }
    },
    {
      "cell_type": "code",
      "source": [
        "library(ggplot2)\n",
        "\n",
        "#Membaca data csv dan dimasukkan ke variable inflasi.indo.sing\n",
        "inflasi.indo.sing <- read.csv(\"https://storage.googleapis.com/dqlab-dataset/inflasi.csv\", sep=\",\")\n",
        "\n",
        "inflasi.indo.sing$Bulan = factor(inflasi.indo.sing$Bulan, levels = c(\"Jan-2017\", \"Feb-2017\", \"Mar-2017\", \"Apr-2017\", \"May-2017\", \"Jun-2017\", \"Jul-2017\", \"Aug-2017\", \"Sep-2017\", \"Oct-2017\"))\n",
        "\n",
        "#Menambahkan data dan aesthetic mapping\n",
        "plot.inflasi <- ggplot(data=inflasi.indo.sing, aes(x = Bulan,  y=Inflasi,  color=Negara, group=Negara))\n",
        "\n",
        "\n",
        "#Menambahkan Layer dan labels\n",
        "plot.inflasi + geom_line() + geom_text(aes(label=Inflasi),hjust=-0.2, vjust=-0.5)"
      ],
      "metadata": {
        "id": "9f-K1qem6Tge"
      },
      "execution_count": null,
      "outputs": []
    }
  ]
}