{
  "nbformat": 4,
  "nbformat_minor": 0,
  "metadata": {
    "colab": {
      "provenance": []
    },
    "kernelspec": {
      "name": "ir",
      "display_name": "R"
    },
    "language_info": {
      "name": "R"
    },
    "gpuClass": "standard"
  },
  "cells": [
    {
      "cell_type": "markdown",
      "source": [
        "# **Factor**\n",
        "\n"
      ],
      "metadata": {
        "id": "i1VHSWThogva"
      }
    },
    {
      "cell_type": "markdown",
      "source": [
        "Factor adalah suatu tipe variabel yang intensif digunakan di R – dengan demikian menjadi sangat penting untuk mempelajari Factor ini.\n",
        "\n",
        "Walaupun awalnya kelihatan sederhana, namun Factor adalah salah satu bagian dari R yang paling sering ditanyakan. Penyebabnya karena fungsi analisa dan grafik yang banyak memanfaatkan factor dan kadang hasilnya tidak sesuai – contoh kasus dan solusinya termasuk yang akan dibahas pada bab ini.\n"
      ],
      "metadata": {
        "id": "9_9iYxfhqNzK"
      }
    },
    {
      "cell_type": "markdown",
      "source": [
        "# **Membuat Factor di R**"
      ],
      "metadata": {
        "id": "g1zLsgHqo8yZ"
      }
    },
    {
      "cell_type": "code",
      "source": [
        "#Buatlah factor dengan isi nilai teks \"Jan\", \"Feb\", dan \"Mar\"\n",
        "factor(c(\"Jan\", \"Feb\", \"Mar\"))"
      ],
      "metadata": {
        "id": "pUw88Xx9rDBD"
      },
      "execution_count": null,
      "outputs": []
    },
    {
      "cell_type": "markdown",
      "source": [
        "# **Atribut levels dan class pada Factor**\n"
      ],
      "metadata": {
        "id": "KD4rZz7drE6d"
      }
    },
    {
      "cell_type": "code",
      "source": [
        "#Variable factor bernama faktor.bulan dengan nilai teks \"Jan\", \"Feb\", dan \"Mar\"\n",
        "faktor.bulan <- factor(c(\"Jan\",\"Feb\",\"Mar\"))\n",
        "attributes(faktor.bulan)"
      ],
      "metadata": {
        "id": "t7aW3B1nrIsA"
      },
      "execution_count": null,
      "outputs": []
    },
    {
      "cell_type": "markdown",
      "source": [
        "# **Function levels dan class pada Factor**\n"
      ],
      "metadata": {
        "id": "YxRrPVWprKto"
      }
    },
    {
      "cell_type": "code",
      "source": [
        "#Variable factor bernama faktor.bulan dengan nilai teks \"Jan\", \"Feb\", dan \"Mar\"\n",
        "faktor.bulan <- factor(c(\"Jan\",\"Feb\",\"Mar\"))\n",
        "levels(faktor.bulan)\n",
        "class(faktor.bulan)"
      ],
      "metadata": {
        "id": "0GSh5tifrOaM"
      },
      "execution_count": null,
      "outputs": []
    },
    {
      "cell_type": "markdown",
      "source": [
        "# **Perulangan Nilai pada Factor**\n"
      ],
      "metadata": {
        "id": "16uWOjg6rPrg"
      }
    },
    {
      "cell_type": "code",
      "source": [
        "#Buatlah factor dengan teks \"Jan\", \"Feb\", \"Mar\",\"Jan\",\"Mar\", dan \"Jan\"\n",
        "factor(c(\"Jan\", \"Feb\", \"Mar\",\"Jan\",\"Mar\", \"Jan\"))"
      ],
      "metadata": {
        "id": "LzTlVwJMrTuv"
      },
      "execution_count": null,
      "outputs": []
    },
    {
      "cell_type": "markdown",
      "source": [
        "# **Penggunaan as.integer pada Factor**\n"
      ],
      "metadata": {
        "id": "pQHOQBoQrVl-"
      }
    },
    {
      "cell_type": "code",
      "source": [
        "#Buatlah factor dengan teks \"Jan\", \"Feb\", \"Mar\",\"Jan\",\"Mar\", dan \"Jan\"\n",
        "factor.bulan <- factor(c(\"Jan\",\"Feb\",\"Mar\",\"Jan\",\"Mar\",\"Jan\"))\n",
        "as.integer(factor.bulan)"
      ],
      "metadata": {
        "id": "SIkNQ2Bera7z"
      },
      "execution_count": null,
      "outputs": []
    },
    {
      "cell_type": "markdown",
      "source": [
        "# **Mengganti \"Jan\" menjadi \"Januari\"**\n"
      ],
      "metadata": {
        "id": "nmMT2nTxrcnl"
      }
    },
    {
      "cell_type": "code",
      "source": [
        "#Buatlah factor dengan teks \"Jan\", \"Feb\", \"Mar\",\"Jan\",\"Mar\", dan \"Jan\"\n",
        "factor.bulan <- factor(c(\"Jan\",\"Feb\",\"Mar\",\"Jan\",\"Mar\",\"Jan\"))\n",
        "#Mengganti levels \n",
        "levels(factor.bulan)[2] <- \"Januari\"\n",
        "levels(factor.bulan)[3] <- \"Maret\"\n",
        "factor.bulan"
      ],
      "metadata": {
        "id": "jldPafMbrgMJ"
      },
      "execution_count": null,
      "outputs": []
    },
    {
      "cell_type": "markdown",
      "source": [
        "# **Angka sebagai Kategori**"
      ],
      "metadata": {
        "id": "oPDCN5LFrhrB"
      }
    },
    {
      "cell_type": "code",
      "source": [
        "#Buatlah factor bernama factor.umur dengan isi c(12, 35, 24, 12, 35, 37)\n",
        "factor.umur <- factor(c(12, 35, 24, 12, 35, 37))\n",
        "#Tampilkan variable factor.umur \n",
        "factor.umur"
      ],
      "metadata": {
        "id": "lm7gKKjPrlCv"
      },
      "execution_count": null,
      "outputs": []
    },
    {
      "cell_type": "markdown",
      "source": [
        "# **NA, NaN, NULL pada saat pembentukan Factor**\n"
      ],
      "metadata": {
        "id": "z_HuA2Fzrmlb"
      }
    },
    {
      "cell_type": "code",
      "source": [
        "#Buatlah variable factor.lokasi dengan isi berupa vector c(\"Bandung\", \"Jakarta\", NA, \"Jakarta\", NaN, \"Medan\", NULL, NULL, \"Bandung\") \n",
        "factor.lokasi <- factor(c(\"Bandung\", \"Jakarta\", NA, \"Jakarta\", NaN, \"Medan\", NULL, NULL, \"Bandung\"))\n",
        "#Tampilkan factor.lokasi\n",
        "factor.lokasi"
      ],
      "metadata": {
        "id": "Q78Wjz4yrqGB"
      },
      "execution_count": null,
      "outputs": []
    },
    {
      "cell_type": "markdown",
      "source": [
        "# **Menghitung panjang Factor dengan length**\n"
      ],
      "metadata": {
        "id": "qXA8PTbOrryJ"
      }
    },
    {
      "cell_type": "code",
      "source": [
        "#Buatlah variable factor.lokasi dengan isi berupa vector c(\"Bandung\", \"Jakarta\", NA, \"Jakarta\", NaN, \"Medan\", NULL, NULL, \"Bandung\") \n",
        "factor.lokasi <- factor(c(\"Bandung\", \"Jakarta\", NA, \"Jakarta\", NaN, \"Medan\", NULL, NULL, \"Bandung\"))\n",
        "#Tampilkan panjang dari variable factor.lokasi\n",
        "length(factor.lokasi)"
      ],
      "metadata": {
        "id": "Rme_DwwvrwDv"
      },
      "execution_count": null,
      "outputs": []
    },
    {
      "cell_type": "markdown",
      "source": [
        "# **Menyusun levels dari awal**\n"
      ],
      "metadata": {
        "id": "32CtfHhxrxuj"
      }
    },
    {
      "cell_type": "code",
      "source": [
        "#Variable factor dengan isi vector c(\"Jan\",\"Feb\",\"Mar\",\"Jan\",\"Mar\") \n",
        "factor(c(\"Jan\",\"Feb\",\"Mar\",\"Jan\",\"Mar\"), levels = c(\"Jan\", \"Feb\", \"Mar\"))"
      ],
      "metadata": {
        "id": "ZoYpSUFtr0_P"
      },
      "execution_count": null,
      "outputs": []
    }
  ]
}