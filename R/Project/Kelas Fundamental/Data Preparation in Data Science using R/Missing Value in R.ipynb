{
  "nbformat": 4,
  "nbformat_minor": 0,
  "metadata": {
    "colab": {
      "provenance": []
    },
    "kernelspec": {
      "name": "ir",
      "display_name": "R"
    },
    "language_info": {
      "name": "R"
    },
    "gpuClass": "standard"
  },
  "cells": [
    {
      "cell_type": "markdown",
      "source": [
        "# **Missing Value in R**"
      ],
      "metadata": {
        "id": "i1VHSWThogva"
      }
    },
    {
      "cell_type": "markdown",
      "source": [
        "Bab ini akan memperkenalkan apa dan kenapa missing value. Pelajari mengenai representasi missing value ini dalam bentuk NA, NaN, NULL dengan variasi dan perilakunya. Dan bagaimana cara mengelola missng value di R"
      ],
      "metadata": {
        "id": "9_9iYxfhqNzK"
      }
    },
    {
      "cell_type": "markdown",
      "source": [
        "# **NA dan default type**"
      ],
      "metadata": {
        "id": "g1zLsgHqo8yZ"
      }
    },
    {
      "cell_type": "code",
      "source": [
        "#Ketik nilai NA\n",
        "NA\n",
        "\n",
        "#Tampilkan type dari NA dengan function typeof\n",
        "typeof(NA)"
      ],
      "metadata": {
        "id": "4N5pZmyMo88a"
      },
      "execution_count": null,
      "outputs": []
    },
    {
      "cell_type": "markdown",
      "source": [
        "# **Menggunakan function is.na**"
      ],
      "metadata": {
        "id": "nUv1haCKpB7M"
      }
    },
    {
      "cell_type": "code",
      "source": [
        "#Buat variable x yang diisi dengan nilai NA\n",
        "x <- NA\n",
        "\n",
        "#Pengecekan variable x dengan nilai NA menggunakan operator ==\n",
        "x == NA\n",
        "\n",
        "#Pengecekan variable x dengan nilai NA menggunakan function is.na\n",
        "is.na(x)"
      ],
      "metadata": {
        "id": "SqXcHNAFpCA8"
      },
      "execution_count": null,
      "outputs": []
    },
    {
      "cell_type": "markdown",
      "source": [
        "# **Variasi NA dan is.na**"
      ],
      "metadata": {
        "id": "lDuOf2n-pJH2"
      }
    },
    {
      "cell_type": "code",
      "source": [
        "typeof(NA_integer_)\n",
        "typeof(NA_real_)\n",
        "typeof(NA_complex_)\n",
        "typeof(NA_character_)\n",
        "is.na(NA_integer_)\n",
        "is.na(NA_real_)\n",
        "is.na(NA_complex_)\n",
        "is.na(NA_character_)"
      ],
      "metadata": {
        "id": "fbpiMmlUpJN8"
      },
      "execution_count": null,
      "outputs": []
    },
    {
      "cell_type": "markdown",
      "source": [
        "# **Coercion pada Vector yang mengandung NA**"
      ],
      "metadata": {
        "id": "oZ6ohNH9pR6K"
      }
    },
    {
      "cell_type": "code",
      "source": [
        "#Membuat vector bernama isi.vector dengan isi bilangan, dimana salah satunya memiliki missing value\n",
        "isi.vector = c(1, 2, 3, NA, 3, 1)\n",
        "\n",
        "#Mengecek keseluruhan tipe data dengan perulangan lapply dan typeof\n",
        "lapply(isi.vector, typeof)\n",
        "\n",
        "#Menggunakan is.na untuk mengecek keberadaan missing value dari tiap elemen pada vector \n",
        "is.na(isi.vector)"
      ],
      "metadata": {
        "id": "y8Qjos6MpUgW"
      },
      "execution_count": null,
      "outputs": []
    },
    {
      "cell_type": "markdown",
      "source": [
        "# **NULL dan Vector**\n"
      ],
      "metadata": {
        "id": "uV-ewsonpWI-"
      }
    },
    {
      "cell_type": "code",
      "source": [
        "#Membuat vector dengan 7 elemen termasuk NA dan NULL\n",
        "isi.vector <- c(1,2,3,NA,5,NULL,7)\n",
        "\n",
        "#Menghitung jumlah elemen dari isi.vector\n",
        "length(isi.vector)"
      ],
      "metadata": {
        "id": "nIFNViLipWSI"
      },
      "execution_count": null,
      "outputs": []
    },
    {
      "cell_type": "markdown",
      "source": [
        "# **NULL dan L**ist\n"
      ],
      "metadata": {
        "id": "_lBe6loMpg5Y"
      }
    },
    {
      "cell_type": "code",
      "source": [
        "#Membuat list dengan 3 elemen termasuk NA dan NULL \n",
        " isi.list <- list(1, NULL, 3, NA, 5)\n",
        "\n",
        "#Menghitung jumlah elemen dari isi.list\n",
        "length(isi.list)"
      ],
      "metadata": {
        "id": "ZHM21fgipird"
      },
      "execution_count": null,
      "outputs": []
    },
    {
      "cell_type": "markdown",
      "source": [
        "# **Inf untuk mewakili Infinite Number**"
      ],
      "metadata": {
        "id": "NNXj40UcpkIo"
      }
    },
    {
      "cell_type": "code",
      "source": [
        "#Hitung kalkulasi 5 dibagi dengan 0\n",
        "5/0\n",
        "\n",
        "#Hitung kalkulasi -120 dibagi dengan 0\n",
        "-120/0"
      ],
      "metadata": {
        "id": "GC8qWFsCpn1K"
      },
      "execution_count": null,
      "outputs": []
    },
    {
      "cell_type": "markdown",
      "source": [
        "# **NaN (Not a Number)**\n"
      ],
      "metadata": {
        "id": "eG4qcZmAppjs"
      }
    },
    {
      "cell_type": "code",
      "source": [
        "#Hitung kalkulasi 0 dibagi dengan 0\n",
        "0/0"
      ],
      "metadata": {
        "id": "gAtwTIAMpt2y"
      },
      "execution_count": null,
      "outputs": []
    },
    {
      "cell_type": "markdown",
      "source": [
        "# **NaN dari hasil function log()**"
      ],
      "metadata": {
        "id": "BtXjuTbdpvsC"
      }
    },
    {
      "cell_type": "code",
      "source": [
        "#Hitung logaritma dari angka -1000\n",
        "log(-1000)"
      ],
      "metadata": {
        "id": "AUYOR-AVpzu4"
      },
      "execution_count": null,
      "outputs": []
    },
    {
      "cell_type": "markdown",
      "source": [
        "# **Fungsi is.nan**\n"
      ],
      "metadata": {
        "id": "UNPG1UANp3AI"
      }
    },
    {
      "cell_type": "code",
      "source": [
        "#Buat variable contoh.nan\n",
        "contoh.nan <- 0/0\n",
        "\n",
        "#Periksa dengan function is.nan\n",
        "is.nan(contoh.nan)"
      ],
      "metadata": {
        "id": "6KvOcIcyp4dC"
      },
      "execution_count": null,
      "outputs": []
    },
    {
      "cell_type": "markdown",
      "source": [
        "# **NaN dan is.na versus NA dan is.nan**"
      ],
      "metadata": {
        "id": "-LxjG54Vp6JI"
      }
    },
    {
      "cell_type": "code",
      "source": [
        "#Masukkan code di bawah ini sesuai permintaan soal\n",
        "is.na(NaN)\n",
        "is.nan(NA)"
      ],
      "metadata": {
        "id": "cwSKZcuxp9zg"
      },
      "execution_count": null,
      "outputs": []
    },
    {
      "cell_type": "markdown",
      "source": [
        "# **Menghitung Jumlah Missing Values dari satu Vector**\n"
      ],
      "metadata": {
        "id": "_ZaO8pS1qA6E"
      }
    },
    {
      "cell_type": "code",
      "source": [
        "#Masukkan code di bawah ini sesuai permintaan soal\n",
        "isi.vector <- c(1,2,NA,4,5,NaN,6)\n",
        "sum(is.na(isi.vector) == TRUE)"
      ],
      "metadata": {
        "id": "w6gkNu63qCmU"
      },
      "execution_count": null,
      "outputs": []
    }
  ]
}