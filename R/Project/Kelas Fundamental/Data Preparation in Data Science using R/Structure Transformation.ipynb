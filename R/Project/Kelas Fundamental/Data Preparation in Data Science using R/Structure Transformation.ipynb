{
  "nbformat": 4,
  "nbformat_minor": 0,
  "metadata": {
    "colab": {
      "provenance": []
    },
    "kernelspec": {
      "name": "ir",
      "display_name": "R"
    },
    "language_info": {
      "name": "R"
    },
    "gpuClass": "standard"
  },
  "cells": [
    {
      "cell_type": "markdown",
      "source": [
        "# **Structure Transformation**"
      ],
      "metadata": {
        "id": "i1VHSWThogva"
      }
    },
    {
      "cell_type": "markdown",
      "source": [
        "# **Function names**"
      ],
      "metadata": {
        "id": "_cKZ8BihjzdT"
      }
    },
    {
      "cell_type": "code",
      "source": [
        "#Membaca dataset csv\n",
        "penduduk.dki.csv <-read.csv(\"https://storage.googleapis.com/dqlab-dataset/dkikepadatankelurahan2013.csv\", sep=\",\")\n",
        "#Menggunakan names untuk variable penduduk.dki.csv\n",
        "names(penduduk.dki.csv)"
      ],
      "metadata": {
        "colab": {
          "base_uri": "https://localhost:8080/",
          "height": 69
        },
        "id": "cSRexJFuj5qP",
        "outputId": "f9ff12e7-1b5e-400a-ce69-e4704147e7c7"
      },
      "execution_count": 1,
      "outputs": [
        {
          "output_type": "display_data",
          "data": {
            "text/html": [
              "<style>\n",
              ".list-inline {list-style: none; margin:0; padding: 0}\n",
              ".list-inline>li {display: inline-block}\n",
              ".list-inline>li:not(:last-child)::after {content: \"\\00b7\"; padding: 0 .5ex}\n",
              "</style>\n",
              "<ol class=list-inline><li>'TAHUN'</li><li>'NAMA.PROVINSI'</li><li>'NAMA.KABUPATEN.KOTA'</li><li>'NAMA.KECAMATAN'</li><li>'NAMA.KELURAHAN'</li><li>'LUAS.WILAYAH..KM2.'</li><li>'KEPADATAN..JIWA.KM2.'</li><li>'X'</li><li>'X.1'</li><li>'X.2'</li><li>'X.3'</li><li>'X.4'</li><li>'X.5'</li><li>'X.6'</li><li>'X.7'</li><li>'X.8'</li><li>'X.9'</li><li>'X.10'</li><li>'X.11'</li><li>'X35.39.Laki.Laki'</li><li>'X35.39.Perempuan'</li><li>'X40.44.Laki.Laki'</li><li>'X40.44.Perempuan'</li><li>'X45.49.Laki.Laki'</li><li>'X45.49.Perempuan'</li><li>'X50.54.Laki.Laki'</li><li>'X50.54.Perempuan'</li><li>'X55.59.Laki.Laki'</li><li>'X55.59.Perempuan'</li><li>'X60.64.Laki.Laki'</li><li>'X60.64.Perempuan'</li><li>'X65.69.Laki.Laki'</li><li>'X65.69.Perempuan'</li><li>'X70.74.Laki.Laki'</li><li>'X70.74.Perempuan'</li><li>'X.75.Laki.Laki'</li><li>'X.75..Perempuan'</li></ol>\n"
            ],
            "text/markdown": "1. 'TAHUN'\n2. 'NAMA.PROVINSI'\n3. 'NAMA.KABUPATEN.KOTA'\n4. 'NAMA.KECAMATAN'\n5. 'NAMA.KELURAHAN'\n6. 'LUAS.WILAYAH..KM2.'\n7. 'KEPADATAN..JIWA.KM2.'\n8. 'X'\n9. 'X.1'\n10. 'X.2'\n11. 'X.3'\n12. 'X.4'\n13. 'X.5'\n14. 'X.6'\n15. 'X.7'\n16. 'X.8'\n17. 'X.9'\n18. 'X.10'\n19. 'X.11'\n20. 'X35.39.Laki.Laki'\n21. 'X35.39.Perempuan'\n22. 'X40.44.Laki.Laki'\n23. 'X40.44.Perempuan'\n24. 'X45.49.Laki.Laki'\n25. 'X45.49.Perempuan'\n26. 'X50.54.Laki.Laki'\n27. 'X50.54.Perempuan'\n28. 'X55.59.Laki.Laki'\n29. 'X55.59.Perempuan'\n30. 'X60.64.Laki.Laki'\n31. 'X60.64.Perempuan'\n32. 'X65.69.Laki.Laki'\n33. 'X65.69.Perempuan'\n34. 'X70.74.Laki.Laki'\n35. 'X70.74.Perempuan'\n36. 'X.75.Laki.Laki'\n37. 'X.75..Perempuan'\n\n\n",
            "text/latex": "\\begin{enumerate*}\n\\item 'TAHUN'\n\\item 'NAMA.PROVINSI'\n\\item 'NAMA.KABUPATEN.KOTA'\n\\item 'NAMA.KECAMATAN'\n\\item 'NAMA.KELURAHAN'\n\\item 'LUAS.WILAYAH..KM2.'\n\\item 'KEPADATAN..JIWA.KM2.'\n\\item 'X'\n\\item 'X.1'\n\\item 'X.2'\n\\item 'X.3'\n\\item 'X.4'\n\\item 'X.5'\n\\item 'X.6'\n\\item 'X.7'\n\\item 'X.8'\n\\item 'X.9'\n\\item 'X.10'\n\\item 'X.11'\n\\item 'X35.39.Laki.Laki'\n\\item 'X35.39.Perempuan'\n\\item 'X40.44.Laki.Laki'\n\\item 'X40.44.Perempuan'\n\\item 'X45.49.Laki.Laki'\n\\item 'X45.49.Perempuan'\n\\item 'X50.54.Laki.Laki'\n\\item 'X50.54.Perempuan'\n\\item 'X55.59.Laki.Laki'\n\\item 'X55.59.Perempuan'\n\\item 'X60.64.Laki.Laki'\n\\item 'X60.64.Perempuan'\n\\item 'X65.69.Laki.Laki'\n\\item 'X65.69.Perempuan'\n\\item 'X70.74.Laki.Laki'\n\\item 'X70.74.Perempuan'\n\\item 'X.75.Laki.Laki'\n\\item 'X.75..Perempuan'\n\\end{enumerate*}\n",
            "text/plain": [
              " [1] \"TAHUN\"                \"NAMA.PROVINSI\"        \"NAMA.KABUPATEN.KOTA\" \n",
              " [4] \"NAMA.KECAMATAN\"       \"NAMA.KELURAHAN\"       \"LUAS.WILAYAH..KM2.\"  \n",
              " [7] \"KEPADATAN..JIWA.KM2.\" \"X\"                    \"X.1\"                 \n",
              "[10] \"X.2\"                  \"X.3\"                  \"X.4\"                 \n",
              "[13] \"X.5\"                  \"X.6\"                  \"X.7\"                 \n",
              "[16] \"X.8\"                  \"X.9\"                  \"X.10\"                \n",
              "[19] \"X.11\"                 \"X35.39.Laki.Laki\"     \"X35.39.Perempuan\"    \n",
              "[22] \"X40.44.Laki.Laki\"     \"X40.44.Perempuan\"     \"X45.49.Laki.Laki\"    \n",
              "[25] \"X45.49.Perempuan\"     \"X50.54.Laki.Laki\"     \"X50.54.Perempuan\"    \n",
              "[28] \"X55.59.Laki.Laki\"     \"X55.59.Perempuan\"     \"X60.64.Laki.Laki\"    \n",
              "[31] \"X60.64.Perempuan\"     \"X65.69.Laki.Laki\"     \"X65.69.Perempuan\"    \n",
              "[34] \"X70.74.Laki.Laki\"     \"X70.74.Perempuan\"     \"X.75.Laki.Laki\"      \n",
              "[37] \"X.75..Perempuan\"     "
            ]
          },
          "metadata": {}
        }
      ]
    },
    {
      "cell_type": "markdown",
      "source": [
        "# **Merubah Satu Nama Kolom**"
      ],
      "metadata": {
        "id": "wV7B91rokGMp"
      }
    },
    {
      "cell_type": "code",
      "source": [
        "#Membaca dataset csv\n",
        "penduduk.dki.csv <-read.csv(\"https://storage.googleapis.com/dqlab-dataset/dkikepadatankelurahan2013.csv\", sep=\",\")\n",
        "names(penduduk.dki.csv)[1] <- \"PERIODE\"\n",
        "names(penduduk.dki.csv)[2] <- \"PROPINSI\"\n",
        "names(penduduk.dki.csv)"
      ],
      "metadata": {
        "id": "H2haglJlkMGT"
      },
      "execution_count": null,
      "outputs": []
    },
    {
      "cell_type": "markdown",
      "source": [
        "# **Merubah Sejumlah Nama Kolom**"
      ],
      "metadata": {
        "id": "D6HCrKR4kyDd"
      }
    },
    {
      "cell_type": "code",
      "source": [
        "#Membaca dataset csv\n",
        "penduduk.dki.csv <-read.csv(\"https://storage.googleapis.com/dqlab-dataset/dkikepadatankelurahan2013.csv\", sep=\",\")\n",
        "names(penduduk.dki.csv)[c(1:2)] <- c(\"PERIODE\", \"PROPINSI\")\n",
        "names(penduduk.dki.csv)"
      ],
      "metadata": {
        "id": "aiEfiSCmkyUd"
      },
      "execution_count": null,
      "outputs": []
    },
    {
      "cell_type": "markdown",
      "source": [
        "# **Membuang Kolom dengan Bantuan Operator %in%**"
      ],
      "metadata": {
        "id": "MK4d3oBZlL3z"
      }
    },
    {
      "cell_type": "code",
      "source": [
        "#Membaca dataset csv\n",
        "penduduk.dki.csv <-read.csv(\"https://storage.googleapis.com/dqlab-dataset/dkikepadatankelurahan2013.csv\", sep=\",\")\n",
        "#Membuang kolom X, X.1, X.2 s/d X.11\n",
        "penduduk.dki.csv <- penduduk.dki.csv[, !names(penduduk.dki.csv) %in% c(\"X\", \"X.1\",\"X.2\",\"X.3\",\"X.4\",\"X.5\",\"X.6\",\"X.7\",\"X.8\",\"X.9\",\"X.10\",\"X.11\")]\n",
        "names(penduduk.dki.csv)"
      ],
      "metadata": {
        "id": "MubFeuvclMEh"
      },
      "execution_count": null,
      "outputs": []
    },
    {
      "cell_type": "markdown",
      "source": [
        "# **Merubah Tipe Kolom menjadi Factor**"
      ],
      "metadata": {
        "id": "TUNk3eXLmXfP"
      }
    },
    {
      "cell_type": "code",
      "source": [
        "library(openxlsx)\n",
        "#Membaca dataset dengan read.xlsx dan dimasukkan ke variable penduduk.dki\n",
        "penduduk.dki.xlsx <- read.xlsx(xlsxFile=\"https://storage.googleapis.com/dqlab-dataset/dkikepadatankelurahan2013.xlsx\")\n",
        "penduduk.dki.xlsx$NAMA.PROVINSI <- as.factor(penduduk.dki.xlsx$NAMA.PROVINSI)\n",
        "str(penduduk.dki.xlsx)"
      ],
      "metadata": {
        "id": "KV8ghI9ZmaCl"
      },
      "execution_count": null,
      "outputs": []
    },
    {
      "cell_type": "markdown",
      "source": [
        "# **Mengambil Kolom Laki.Laki / Perempuan dengan grep**"
      ],
      "metadata": {
        "id": "4x77TLikok5Z"
      }
    },
    {
      "cell_type": "code",
      "source": [
        "library(openxlsx)\n",
        "penduduk.dki.xlsx <- read.xlsx(xlsxFile=\"https://storage.googleapis.com/dqlab-dataset/dkikepadatankelurahan2013.xlsx\")\n",
        "#Tampilkan nama-nama kolom yang mengandung kata \"perempuan\".\n",
        "pola_nama_perempuan <- grep(pattern = \"perempuan\", x = names(penduduk.dki.xlsx), ignore.case = TRUE)\n",
        "names(penduduk.dki.xlsx[pola_nama_perempuan])\n",
        "\n",
        "#Tampilkan nama-nama kolom yang mengandung kata \"laki-laki\"\n",
        "pola_nama_laki_laki <- grep(pattern = \"laki-laki\", x = names(penduduk.dki.xlsx), ignore.case = TRUE)\n",
        "names(penduduk.dki.xlsx[pola_nama_laki_laki])"
      ],
      "metadata": {
        "id": "0n6KwKA5osqL"
      },
      "execution_count": null,
      "outputs": []
    },
    {
      "cell_type": "markdown",
      "source": [
        "# **Menambahkan kolom Penjumlahan**"
      ],
      "metadata": {
        "id": "ztGY8jOGq0sD"
      }
    },
    {
      "cell_type": "code",
      "source": [
        "library(openxlsx)\n",
        "penduduk.dki.xlsx <- read.xlsx(xlsxFile=\"https://storage.googleapis.com/dqlab-dataset/dkikepadatankelurahan2013.xlsx\")\n",
        "#Tampilkan nama-nama kolom yang mengandung kata \"perempuan\".\n",
        "pola_nama_perempuan <- grep(pattern=\"perempuan\", x = names(penduduk.dki.xlsx), ignore.case=TRUE)\n",
        "penduduk.dki.xlsx$PEREMPUAN35TAHUNKEATAS  <- rowSums(penduduk.dki.xlsx[pola_nama_perempuan])"
      ],
      "metadata": {
        "id": "T4aPLSbHq03L"
      },
      "execution_count": null,
      "outputs": []
    },
    {
      "cell_type": "markdown",
      "source": [
        "# **Normalisasi Data dari Kolom ke Baris**"
      ],
      "metadata": {
        "id": "wJ-2c3t2q6f4"
      }
    },
    {
      "cell_type": "code",
      "source": [
        "library(openxlsx)\n",
        "library(reshape2)\n",
        "penduduk.dki.xlsx <- read.xlsx(xlsxFile=\"https://storage.googleapis.com/dqlab-dataset/dkikepadatankelurahan2013.xlsx\")\n",
        "#Transformasi kolom dataset penduduk.dki.xlsx, disimpan ke variable penduduk.dki.transform\n",
        "penduduk.dki.transform <- melt(data = penduduk.dki.xlsx, id.vars = c(\"NAMA.KECAMATAN\", \"NAMA.KELURAHAN\"), measure.vars = c(\"35-39.Laki-Laki\", \"35-39.Perempuan\"), variable.name = \"DEMOGRAFIK\", value.name = \"JUMLAH\")\n",
        "#Menampilkan variable penduduk.dki.transform\n",
        "penduduk.dki.transform"
      ],
      "metadata": {
        "id": "xK2o6pQUq6s9"
      },
      "execution_count": null,
      "outputs": []
    },
    {
      "cell_type": "markdown",
      "source": [
        "# **Split Fields**"
      ],
      "metadata": {
        "id": "Vlo75mcEsXkE"
      }
    },
    {
      "cell_type": "code",
      "source": [
        "library(openxlsx)\n",
        "library(reshape2)\n",
        "penduduk.dki.xlsx <- read.xlsx(xlsxFile=\"https://storage.googleapis.com/dqlab-dataset/dkikepadatankelurahan2013.xlsx\")\n",
        "penduduk.dki.transform <- melt(data=penduduk.dki.xlsx, id.vars=c( \"NAMA.KECAMATAN\", \"NAMA.KELURAHAN\"), measure.vars = c(\"35-39.Laki-Laki\", \"35-39.Perempuan\"), variable.name = \"DEMOGRAFIK\", value.name=\"JUMLAH\") \n",
        "#Memecah isi kolom DEMOGRAFIK menjadi \"RENTANG.UMUR\" dan \"JENIS.KELAMIN\"\n",
        "penduduk.dki.transform[c(\"RENTANG.UMUR\", \"JENIS.KELAMIN\")] <- colsplit(penduduk.dki.transform$DEMOGRAFIK, \"\\\\.\", c(\"RENTANG.UMUR\", \"JENIS.KELAMIN\"))\n",
        "penduduk.dki.transform$DEMOGRAFIK <- NULL\n",
        "penduduk.dki.transform"
      ],
      "metadata": {
        "id": "n03Q51fYsXw7"
      },
      "execution_count": null,
      "outputs": []
    }
  ]
}