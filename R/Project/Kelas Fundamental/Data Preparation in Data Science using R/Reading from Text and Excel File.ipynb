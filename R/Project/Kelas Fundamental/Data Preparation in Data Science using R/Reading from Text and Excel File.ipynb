{
  "nbformat": 4,
  "nbformat_minor": 0,
  "metadata": {
    "colab": {
      "provenance": []
    },
    "kernelspec": {
      "name": "ir",
      "display_name": "R"
    },
    "language_info": {
      "name": "R"
    },
    "gpuClass": "standard"
  },
  "cells": [
    {
      "cell_type": "markdown",
      "source": [
        "# **Membaca Dataset CSV**"
      ],
      "metadata": {
        "id": "ZZg3U2PbW24g"
      }
    },
    {
      "cell_type": "code",
      "execution_count": null,
      "metadata": {
        "id": "YvUOrwBhWhwp"
      },
      "outputs": [],
      "source": [
        "penduduk.dki <- read.csv(\"https://storage.googleapis.com/dqlab-dataset/dkikepadatankelurahan2013.csv\", sep = ',')\n",
        "penduduk.dki"
      ]
    },
    {
      "cell_type": "markdown",
      "source": [
        "# **Profile Dataset dengan Function str**"
      ],
      "metadata": {
        "id": "vIqgxY-vXMVA"
      }
    },
    {
      "cell_type": "code",
      "source": [
        "#Membaca dataset dengan read.csv dan dimasukkan ke variable penduduk.dki\n",
        "penduduk.dki <- read.csv(\"https://storage.googleapis.com/dqlab-dataset/dkikepadatankelurahan2013.csv\", sep=\",\")\n",
        "str(penduduk.dki)"
      ],
      "metadata": {
        "id": "w_JlS8JBXLdb"
      },
      "execution_count": null,
      "outputs": []
    },
    {
      "cell_type": "markdown",
      "source": [
        "# **Profile Dataset dengan Function summary**"
      ],
      "metadata": {
        "id": "gV11gew9XYM8"
      }
    },
    {
      "cell_type": "code",
      "source": [
        "#Membaca dataset dengan read.csv dan dimasukkan ke variable penduduk.dki\n",
        "penduduk.dki <- read.csv(\"https://storage.googleapis.com/dqlab-dataset/dkikepadatankelurahan2013.csv\", sep=\",\")\n",
        "summary(penduduk.dki)"
      ],
      "metadata": {
        "id": "H42lhSIYXfEg"
      },
      "execution_count": null,
      "outputs": []
    },
    {
      "cell_type": "markdown",
      "source": [
        "# **Menggunakan argumen check.names = FALSE**"
      ],
      "metadata": {
        "id": "gZ4Lt3mIXiny"
      }
    },
    {
      "cell_type": "code",
      "source": [
        "#Membaca dataset dengan read.csv dan dimasukkan ke variable penduduk.dki\n",
        "penduduk.dki <- read.csv(\"https://storage.googleapis.com/dqlab-dataset/dkikepadatankelurahan2013.csv\", sep=\",\",check.names = FALSE)\n",
        "str(penduduk.dki)"
      ],
      "metadata": {
        "id": "7O34ZDK6Xhy1"
      },
      "execution_count": null,
      "outputs": []
    },
    {
      "cell_type": "markdown",
      "source": [
        "# **Membaca Tab Separated Value (TSV)**"
      ],
      "metadata": {
        "id": "efBimxmHXsX0"
      }
    },
    {
      "cell_type": "code",
      "source": [
        "#Membaca dataset dengan read.csv dan dimasukkan ke variable penduduk.dki\n",
        "penduduk.dki <- read.csv(\"https://storage.googleapis.com/dqlab-dataset/dkikepadatankelurahan2013.tsv\", sep = \"\\t\")\n",
        "penduduk.dki"
      ],
      "metadata": {
        "id": "m3t_EPkQXyQs"
      },
      "execution_count": null,
      "outputs": []
    },
    {
      "cell_type": "markdown",
      "source": [
        "# **Membaca Dataset File Excel dengan read.xlsx**"
      ],
      "metadata": {
        "id": "OnQQHZjLbJ7a"
      }
    },
    {
      "cell_type": "code",
      "source": [
        "library(openxlsx)\n",
        "#Membaca dataset dengan read.xlsx dan dimasukkan ke variable penduduk.dki\n",
        "penduduk.dki.xlsx <- read.xlsx(xlsxFile = \"https://storage.googleapis.com/dqlab-dataset/dkikepadatankelurahan2013.xlsx\")\n",
        "str(penduduk.dki.xlsx)"
      ],
      "metadata": {
        "id": "5ovcsIalbKKm"
      },
      "execution_count": null,
      "outputs": []
    }
  ]
}