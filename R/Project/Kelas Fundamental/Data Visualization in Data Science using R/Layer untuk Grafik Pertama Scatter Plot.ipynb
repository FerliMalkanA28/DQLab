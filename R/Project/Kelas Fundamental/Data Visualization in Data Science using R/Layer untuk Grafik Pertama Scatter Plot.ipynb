{
  "nbformat": 4,
  "nbformat_minor": 0,
  "metadata": {
    "colab": {
      "provenance": []
    },
    "kernelspec": {
      "name": "ir",
      "display_name": "R"
    },
    "language_info": {
      "name": "R"
    },
    "gpuClass": "standard"
  },
  "cells": [
    {
      "cell_type": "markdown",
      "source": [
        "# **Layer untuk Grafik Pertama: Scatter Plot**"
      ],
      "metadata": {
        "id": "i1VHSWThogva"
      }
    },
    {
      "cell_type": "markdown",
      "source": [
        "Layer untuk Grafik Pertama: Scatter Plot\n",
        "\n"
      ],
      "metadata": {
        "id": "9_9iYxfhqNzK"
      }
    },
    {
      "cell_type": "markdown",
      "source": [
        "# **Scatter Plot Kepadatan Penduduk Jakarta dengan function layer**\n"
      ],
      "metadata": {
        "id": "4OT9zr0trlx6"
      }
    },
    {
      "cell_type": "code",
      "source": [
        "library(ggplot2)\n",
        "#Membaca data csv dan dimasukkan ke variable penduduk.dki\n",
        "penduduk.dki <- read.csv(\"https://storage.googleapis.com/dqlab-dataset/dkikepadatankelurahan2013.csv\", sep=\",\")\n",
        "\n",
        "#Menambahkan data dan aesthetic mapping\n",
        "plot.dki <- ggplot(data=penduduk.dki, aes(x = LUAS.WILAYAH..KM2.,  y=KEPADATAN..JIWA.KM2.,  color=NAMA.KABUPATEN.KOTA))\n",
        "\n",
        "#Menambahkan layer untuk menghasilkan grafik scatter plot\n",
        "plot.dki + layer(geom = \"point\", stat = \"identity\", position = \"identity\")"
      ],
      "metadata": {
        "id": "IZyej7OSsO-4"
      },
      "execution_count": null,
      "outputs": []
    },
    {
      "cell_type": "markdown",
      "source": [
        "# **Scatter Plot Kepadatan Penduduk Jakarta dengan geom_point**\n"
      ],
      "metadata": {
        "id": "wsXe7cTZskpM"
      }
    },
    {
      "cell_type": "code",
      "source": [
        "library(ggplot2)\n",
        "#Membaca data csv dan dimasukkan ke variable penduduk.dki\n",
        "penduduk.dki <- read.csv(\"https://storage.googleapis.com/dqlab-dataset/dkikepadatankelurahan2013.csv\", sep=\",\")\n",
        "\n",
        "#Menambahkan data dan aesthetic mapping\n",
        "plot.dki <- ggplot(data=penduduk.dki, aes(x = LUAS.WILAYAH..KM2.,  y=KEPADATAN..JIWA.KM2.,  color=NAMA.KABUPATEN.KOTA))\n",
        "\n",
        "#Menambahkan layer scatter plot dengan geom_point\n",
        "plot.dki + geom_point"
      ],
      "metadata": {
        "id": "8kxrR7HjtC3a"
      },
      "execution_count": null,
      "outputs": []
    },
    {
      "cell_type": "markdown",
      "source": [
        "# **Menambahkan Judul dan Label**\n"
      ],
      "metadata": {
        "id": "wuEvVpk7tQA5"
      }
    },
    {
      "cell_type": "code",
      "source": [
        "library(ggplot2)\n",
        "\n",
        "#Membaca data csv dan dimasukkan ke variable penduduk.dki\n",
        "penduduk.dki <- read.csv(\"https://storage.googleapis.com/dqlab-dataset/dkikepadatankelurahan2013.csv\", sep=\",\")\n",
        "\n",
        "#Menambahkan data dan aesthetic mapping\n",
        "plot.dki <- ggplot(data=penduduk.dki, aes(x = LUAS.WILAYAH..KM2.,  y=KEPADATAN..JIWA.KM2.,  color=NAMA.KABUPATEN.KOTA))\n",
        "\n",
        "#Menambahkan Layer dan labels\n",
        "plot.dki + geom_point() + \n",
        "  theme(plot.title = element_text(hjust=0.5)) +\n",
        "  labs(title = \"Luas Wilayah vs Kepadatan Penduduk DKI Jakarta\", x = \"Luas wilayah (km2)\", y = \"Kepadatan Jiwa per km2\", color = \"Nama Kabupaten/Kota\")"
      ],
      "metadata": {
        "id": "EZArWwkJtUEX"
      },
      "execution_count": null,
      "outputs": []
    }
  ]
}