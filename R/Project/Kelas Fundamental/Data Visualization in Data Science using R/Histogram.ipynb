{
  "nbformat": 4,
  "nbformat_minor": 0,
  "metadata": {
    "colab": {
      "provenance": []
    },
    "kernelspec": {
      "name": "ir",
      "display_name": "R"
    },
    "language_info": {
      "name": "R"
    },
    "gpuClass": "standard"
  },
  "cells": [
    {
      "cell_type": "markdown",
      "source": [
        "# **Histogram**"
      ],
      "metadata": {
        "id": "i1VHSWThogva"
      }
    },
    {
      "cell_type": "markdown",
      "source": [
        "Histogram\n"
      ],
      "metadata": {
        "id": "9_9iYxfhqNzK"
      }
    },
    {
      "cell_type": "markdown",
      "source": [
        "# **Layer geom_histogram dan Lebar Interval**\n"
      ],
      "metadata": {
        "id": "KwIHdavkH5ya"
      }
    },
    {
      "cell_type": "code",
      "source": [
        "library(ggplot2)\n",
        "\n",
        "#Membaca data csv dan dimasukkan ke variable penduduk.dki\n",
        "penduduk.dki <- read.csv(\"https://storage.googleapis.com/dqlab-dataset/dkikepadatankelurahan2013.csv\", sep=\",\")\n",
        "\n",
        "#Menambahkan data dan aesthetic mapping\n",
        "plot.dki <- ggplot(data=penduduk.dki, aes(x = KEPADATAN..JIWA.KM2.))\n",
        "plot.dki + geom_histogram(binwidth = 10000)"
      ],
      "metadata": {
        "id": "QfZ0JssUH8eR"
      },
      "execution_count": null,
      "outputs": []
    },
    {
      "cell_type": "markdown",
      "source": [
        "# **Penggunaaan aesthetic fill**\n"
      ],
      "metadata": {
        "id": "NNcv8iFvIK0Y"
      }
    },
    {
      "cell_type": "code",
      "source": [
        "library(ggplot2)\n",
        "\n",
        "#Membaca data csv dan dimasukkan ke variable penduduk.dki\n",
        "penduduk.dki <- read.csv(\"https://storage.googleapis.com/dqlab-dataset/dkikepadatankelurahan2013.csv\", sep=\",\")\n",
        "\n",
        "plot.dki <- ggplot(data=penduduk.dki, aes(x = KEPADATAN..JIWA.KM2., fill = NAMA.KABUPATEN.KOTA))\n",
        "\n",
        "plot.dki + geom_histogram(binwidth = 10000)"
      ],
      "metadata": {
        "id": "XxilAagNIdDc"
      },
      "execution_count": null,
      "outputs": []
    }
  ]
}