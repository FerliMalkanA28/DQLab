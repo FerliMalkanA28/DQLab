{
  "nbformat": 4,
  "nbformat_minor": 0,
  "metadata": {
    "colab": {
      "provenance": []
    },
    "kernelspec": {
      "name": "ir",
      "display_name": "R"
    },
    "language_info": {
      "name": "R"
    },
    "gpuClass": "standard"
  },
  "cells": [
    {
      "cell_type": "markdown",
      "source": [
        "# **Analisis Data Sederhana**\n",
        "\n"
      ],
      "metadata": {
        "id": "i1VHSWThogva"
      }
    },
    {
      "cell_type": "markdown",
      "source": [
        "Pada Chapter ini kita akan mempelajari:\n",
        "\n",
        "Analisis Deskriptif;\n",
        "Pengenalan Uji Hipotesis;\n",
        "Analisis Hubungan 2 Variabel"
      ],
      "metadata": {
        "id": "9_9iYxfhqNzK"
      }
    },
    {
      "cell_type": "markdown",
      "source": [
        "# **Analisis Deskriptif Menggunakan Nilai Statistik**\n"
      ],
      "metadata": {
        "id": "p87tXgaxKoth"
      }
    },
    {
      "cell_type": "code",
      "source": [
        "## carilah summary data dari data_intro\n",
        "summary(data_intro)"
      ],
      "metadata": {
        "id": "3povTLHeNSdG"
      },
      "execution_count": null,
      "outputs": []
    },
    {
      "cell_type": "markdown",
      "source": [
        "# **Analisis Deskriptif Menggunakan Visualisasi**\n"
      ],
      "metadata": {
        "id": "yJeLyiciNj3P"
      }
    },
    {
      "cell_type": "code",
      "source": [
        "## Carilah sebaran data kolom Jenis.Kelamin dari variable data_intro\n",
        "plot(data_intro$Jenis.Kelamin)\n",
        "\n",
        "## Carilah sebaran data dari Pendapatan dari variable data_intro\n",
        "hist(data_intro$Pendapatan)\n",
        "\n",
        "## Carilah sebaran data dari Produk dari variable data_intro\n",
        "plot(data_intro$Produk)\n",
        "\n",
        "## Carilah sebaran data dari Harga dari variable data_intro\n",
        "hist(data_intro$Harga)\n",
        "\n",
        "## Carilah sebaran data dari Jumlah dari variable data_intro\n",
        "hist(data_intro$Jumlah)\n",
        "\n",
        "## Carilah sebaran data dari Total dari variable data_intro\n",
        "hist(data_intro$Total)\n",
        "\n",
        "## Carilah sebaran data dari Tingkat.Kepuasan dari variable data_intro\n",
        "plot(data_intro$Tingkat.Kepuasan)"
      ],
      "metadata": {
        "id": "Mqegro6xNmI-"
      },
      "execution_count": null,
      "outputs": []
    },
    {
      "cell_type": "markdown",
      "source": [
        "# **Scatter Plot**\n"
      ],
      "metadata": {
        "id": "4EkwHxe6PjId"
      }
    },
    {
      "cell_type": "code",
      "source": [
        "plot(data_intro$Pendapatan, data_intro$Total)"
      ],
      "metadata": {
        "id": "_EkUEeTxUudt"
      },
      "execution_count": null,
      "outputs": []
    },
    {
      "cell_type": "markdown",
      "source": [
        "# **Hubungan Pendapatan dengan Total Belanja dengan cor.test**\n"
      ],
      "metadata": {
        "id": "oF0--YHUUvHz"
      }
    },
    {
      "cell_type": "code",
      "source": [
        "#Gunakan cor.test untuk mencari hubungan Pendapatan dengan Total Belanja \n",
        "cor.test(data_intro$Pendapatan, data_intro$Total)"
      ],
      "metadata": {
        "id": "ZUuPSAnnUzJO"
      },
      "execution_count": null,
      "outputs": []
    },
    {
      "cell_type": "markdown",
      "source": [
        "# **Hubungan Produk dengan Tingkat Kepuasan dengan chisq.test**\n"
      ],
      "metadata": {
        "id": "y72WJ6rxVHld"
      }
    },
    {
      "cell_type": "code",
      "source": [
        "## Carilah tabulasi silang antara kolom jenis produk (Produk) dan tingkat kepuasan (Tingkat.Kepuasan) dari variable data_intro\n",
        "table(data_intro$Produk, data_intro$Tingkat.Kepuasan)\n",
        "\n",
        "## Analisis bagaimana hubungan jenis produk dengan tingkat kepuasan mengunakan uji korelasi\n",
        "chisq.test(table(data_intro$Produk, data_intro$Tingkat.Kepuasan))"
      ],
      "metadata": {
        "id": "H-Nokh5NVUcE"
      },
      "execution_count": null,
      "outputs": []
    },
    {
      "cell_type": "markdown",
      "source": [
        "# **Hubungan Jenis Kelamin dengan Total Belanja dengan t.test**\n"
      ],
      "metadata": {
        "id": "xC-31Y43Wlhi"
      }
    },
    {
      "cell_type": "code",
      "source": [
        "## carilah boxplot antara variabel jenis kelamin dengan total belanja\n",
        "boxplot(Total~Jenis.Kelamin, data = data_intro)\n",
        "\n",
        "## analisis bagaimana hubungan jenis kelamin dengan total belanja mengunakan uji statistik t-test\n",
        "t.test(Total~Jenis.Kelamin, data = data_intro)"
      ],
      "metadata": {
        "id": "zhOS7ICRXU9n"
      },
      "execution_count": null,
      "outputs": []
    }
  ]
}