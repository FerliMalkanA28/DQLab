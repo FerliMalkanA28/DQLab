{
  "nbformat": 4,
  "nbformat_minor": 0,
  "metadata": {
    "colab": {
      "provenance": []
    },
    "kernelspec": {
      "name": "ir",
      "display_name": "R"
    },
    "language_info": {
      "name": "R"
    },
    "gpuClass": "standard"
  },
  "cells": [
    {
      "cell_type": "markdown",
      "source": [
        "# **Dasar-dasar Statistik**\n",
        "\n"
      ],
      "metadata": {
        "id": "i1VHSWThogva"
      }
    },
    {
      "cell_type": "markdown",
      "source": [
        "Pada chapter 1 kita akan belajar\n",
        "\n",
        "Pengertian Statistik\n",
        "Jenis-jenis Data\n",
        "Estimasi karakteristik Data"
      ],
      "metadata": {
        "id": "9_9iYxfhqNzK"
      }
    },
    {
      "cell_type": "markdown",
      "source": [
        "# **Membaca Dataset dengan read.csv**\n"
      ],
      "metadata": {
        "id": "swshxGMy9OV8"
      }
    },
    {
      "cell_type": "code",
      "source": [
        "#Membaca dataset dengan read.csv dan dimasukkan ke variable data_intro\n",
        "data_intro <- read.csv(\"https://storage.googleapis.com/dqlab-dataset/data_intro.csv\", sep = \";\")\n",
        "data_intro"
      ],
      "metadata": {
        "id": "OBO5_0eG9TMh"
      },
      "execution_count": null,
      "outputs": []
    },
    {
      "cell_type": "markdown",
      "source": [
        "# **Melihat Tipe Data dengan Str**"
      ],
      "metadata": {
        "id": "FiJEYPfm9eSD"
      }
    },
    {
      "cell_type": "code",
      "source": [
        "#Membaca dataset dengan read.csv dan dimasukkan ke variable data_intro\n",
        "data_intro <- read.csv(\"https://storage.googleapis.com/dqlab-dataset/data_intro.csv\",sep=\";\")\n",
        "str(data_intro)"
      ],
      "metadata": {
        "id": "p3B8AVkz9jtL"
      },
      "execution_count": null,
      "outputs": []
    },
    {
      "cell_type": "markdown",
      "source": [
        "# **Mengubah Tipe Data Kolom ID.Pelanggan menjadi Character**"
      ],
      "metadata": {
        "id": "KqNxGog79ucM"
      }
    },
    {
      "cell_type": "code",
      "source": [
        "## mengubah data menjadi karakter karena tidak dilakukan analisis statistik pada variabel ID Pelanggan dan nama\n",
        "data_intro$ID.Pelanggan <- as.character(data_intro$ID.Pelanggan)\n",
        "data_intro$Nama <- as.character(data_intro$Nama)\n",
        "## melihat apakah sudah berhasil dalam mengubah variabel tersebut\n",
        "str(data_intro$ID.Pelanggan)\n",
        "str(data_intro$Nama)"
      ],
      "metadata": {
        "id": "7ZNxCa459z5t"
      },
      "execution_count": null,
      "outputs": []
    },
    {
      "cell_type": "markdown",
      "source": [
        "# **Mengubah Sejumlah Kolom menjadi Data Kategorik (Factor)**\n"
      ],
      "metadata": {
        "id": "VUqXJIHnZ4fB"
      }
    },
    {
      "cell_type": "code",
      "source": [
        "## Mengubah data menjadi factor untuk membedakan data kualitatif dengan menggunakan functon as.factor\n",
        "data_intro$Jenis.Kelamin <- as.factor(data_intro$Jenis.Kelamin)\n",
        "data_intro$Produk <- as.factor(data_intro$Produk)\n",
        "data_intro$Tingkat.Kepuasan <- as.factor(data_intro$Tingkat.Kepuasan)\n",
        "## Melihat apakah sudah berhasil dalam mengubah variabel tersebut dengan menggunakan function str\n",
        "str(data_intro$Jenis.Kelamin)\n",
        "str(data_intro$Produk)\n",
        "str(data_intro$Tingkat.Kepuasan)"
      ],
      "metadata": {
        "id": "H5WtLDnZC7PN"
      },
      "execution_count": null,
      "outputs": []
    },
    {
      "cell_type": "markdown",
      "source": [
        "# **Skala Pengukuran Data**"
      ],
      "metadata": {
        "id": "orFSWcBmEJ7l"
      }
    },
    {
      "cell_type": "code",
      "source": [
        "# melihat data/ pemanggilan data\n",
        "data_intro\n",
        "# melihat tipe data\n",
        "str(data_intro)"
      ],
      "metadata": {
        "id": "5H9sMQ5sEQZ3"
      },
      "execution_count": null,
      "outputs": []
    },
    {
      "cell_type": "markdown",
      "source": [
        "# **Estimasi Nilai Statistik Modus**\n"
      ],
      "metadata": {
        "id": "KT4GkWEWEfME"
      }
    },
    {
      "cell_type": "code",
      "source": [
        "library(pracma)\n",
        "## carilah modus untuk kolom Produk pada variable data_intro\n",
        "Mode(data_intro$Produk)\n",
        "## carilah modus untuk kolom Tingkat.Kepuasan pada variable data_intro\n",
        "Mode(data_intro$Tingkat.Kepuasan)"
      ],
      "metadata": {
        "id": "iPNDZZpDEzxk"
      },
      "execution_count": null,
      "outputs": []
    },
    {
      "cell_type": "markdown",
      "source": [
        "# **Estimasi Nilai Statistik Median**\n"
      ],
      "metadata": {
        "id": "RW6Tz4mNE3YD"
      }
    },
    {
      "cell_type": "code",
      "source": [
        "## carilah median untuk kolom Pendapatan dari variable data_intro\n",
        "median(data_intro$Pendapatan)\n",
        "\n",
        "## carilah median untuk  kolom Harga dari variable data_intro\n",
        "median(data_intro$Harga)\n",
        "\n",
        "## carilah median untuk kolom Jumlah dari variable data_intro\n",
        "median(data_intro$Jumlah)\n",
        "\n",
        "## carilah median untuk  kolom Total dari variable data_intro\n",
        "median(data_intro$Total)"
      ],
      "metadata": {
        "id": "zSUvsT7iFOrY"
      },
      "execution_count": null,
      "outputs": []
    },
    {
      "cell_type": "markdown",
      "source": [
        "# **Estimasi Nilai Statistik Rata-Rata**\n"
      ],
      "metadata": {
        "id": "5G8y8TeIFWbt"
      }
    },
    {
      "cell_type": "code",
      "source": [
        "## carilah mean untuk kolom Pendapatan pada variable data_intro\n",
        "mean(data_intro$Pendapatan)\n",
        "## carilah mean untuk kolom Harga pada variable data_intro\n",
        "mean(data_intro$Harga)\n",
        "## carilah mean untuk kolom Jumlah pada variable data_intro\n",
        "mean(data_intro$Jumlah)\n",
        "## carilah mean untuk kolom Total pada variable data_intro\n",
        "mean(data_intro$Total)"
      ],
      "metadata": {
        "id": "rIfwMCCLFaYT"
      },
      "execution_count": null,
      "outputs": []
    },
    {
      "cell_type": "markdown",
      "source": [
        "# **Estimasi Nilai Sebaran Data Range**\n"
      ],
      "metadata": {
        "id": "-KpC5FWNFp3p"
      }
    },
    {
      "cell_type": "code",
      "source": [
        "## carilah range untuk kolom Pendapatan pada variable data_intro\n",
        "max(data_intro$Pendapatan)-min(data_intro$Pendapatan)"
      ],
      "metadata": {
        "id": "Q4_0A2bZGHJ6"
      },
      "execution_count": null,
      "outputs": []
    },
    {
      "cell_type": "markdown",
      "source": [
        "# **Estimasi Nilai Sebaran Data Varians**\n"
      ],
      "metadata": {
        "id": "L1tCy050GUF8"
      }
    },
    {
      "cell_type": "code",
      "source": [
        "## Carilah varians untuk kolom Pendapatan dari variable data_intro\n",
        "var(data_intro$Pendapatan)"
      ],
      "metadata": {
        "id": "YRcxXmQpGXME"
      },
      "execution_count": null,
      "outputs": []
    },
    {
      "cell_type": "markdown",
      "source": [
        "# **Estimasi Nilai Sebaran Data Simpangan Baku**\n"
      ],
      "metadata": {
        "id": "ca45RLZGGlWH"
      }
    },
    {
      "cell_type": "code",
      "source": [
        "## Carilah simpangan baku untuk kolom Pendapatan dari variable data_intro\n",
        "sd(data_intro$Pendapatan)"
      ],
      "metadata": {
        "id": "rgDZ80GbGwUZ"
      },
      "execution_count": null,
      "outputs": []
    }
  ]
}